{
 "cells": [
  {
   "cell_type": "markdown",
   "metadata": {},
   "source": [
    "#### 들어가기 전\n",
    "***\n",
    "# Python Interface for Oracle Database\n",
    "\n",
    "## 오라클 서버에 접속하여 HR계정 사용"
   ]
  },
  {
   "cell_type": "code",
   "execution_count": 2,
   "metadata": {
    "collapsed": true
   },
   "outputs": [],
   "source": [
    "import cx_Oracle\n",
    "xedb = cx_Oracle.connect('hr/hr@localhost/xe')\n",
    "cur = xedb.cursor()"
   ]
  },
  {
   "cell_type": "code",
   "execution_count": 9,
   "metadata": {},
   "outputs": [
    {
     "name": "stdout",
     "output_type": "stream",
     "text": [
      "(10, 'Administration', 200, 1700)\n",
      "(20, 'Marketing', 201, 1800)\n",
      "(30, 'Purchasing', 114, 1700)\n",
      "(40, 'Human Resources', 203, 2400)\n",
      "(50, 'Shipping', 121, 1500)\n",
      "(60, 'IT', 103, 1400)\n",
      "(70, 'Public Relations', 204, 2700)\n",
      "(80, 'Sales', 145, 2500)\n",
      "(90, 'Executive', 100, 1700)\n",
      "(100, 'Finance', 108, 1700)\n",
      "(110, 'Accounting', 205, 1700)\n",
      "(120, 'Treasury', None, 1700)\n",
      "(130, 'Corporate Tax', None, 1700)\n",
      "(140, 'Control And Credit', None, 1700)\n",
      "(150, 'Shareholder Services', None, 1700)\n",
      "(160, 'Benefits', None, 1700)\n",
      "(170, 'Manufacturing', None, 1700)\n",
      "(180, 'Construction', None, 1700)\n",
      "(190, 'Contracting', None, 1700)\n",
      "(200, 'Operations', None, 1700)\n",
      "(210, 'IT Support', None, 1700)\n",
      "(220, 'NOC', None, 1700)\n",
      "(230, 'IT Helpdesk', None, 1700)\n",
      "(240, 'Government Sales', None, 1700)\n",
      "(250, 'Retail Sales', None, 1700)\n",
      "(260, 'Recruiting', None, 1700)\n",
      "(270, 'Payroll', None, 1700)\n"
     ]
    }
   ],
   "source": [
    "# 1. 한 행씩 출력하기\n",
    "cur.execute('select * from departments order by department_id')\n",
    "for result in cur:\n",
    "    print(result)\n"
   ]
  },
  {
   "cell_type": "code",
   "execution_count": 10,
   "metadata": {},
   "outputs": [
    {
     "name": "stdout",
     "output_type": "stream",
     "text": [
      "[(10, 'Administration', 200, 1700), (20, 'Marketing', 201, 1800), (30, 'Purchasing', 114, 1700), (40, 'Human Resources', 203, 2400), (50, 'Shipping', 121, 1500), (60, 'IT', 103, 1400), (70, 'Public Relations', 204, 2700), (80, 'Sales', 145, 2500), (90, 'Executive', 100, 1700), (100, 'Finance', 108, 1700), (110, 'Accounting', 205, 1700), (120, 'Treasury', None, 1700), (130, 'Corporate Tax', None, 1700), (140, 'Control And Credit', None, 1700), (150, 'Shareholder Services', None, 1700), (160, 'Benefits', None, 1700), (170, 'Manufacturing', None, 1700), (180, 'Construction', None, 1700), (190, 'Contracting', None, 1700), (200, 'Operations', None, 1700), (210, 'IT Support', None, 1700), (220, 'NOC', None, 1700), (230, 'IT Helpdesk', None, 1700), (240, 'Government Sales', None, 1700), (250, 'Retail Sales', None, 1700), (260, 'Recruiting', None, 1700), (270, 'Payroll', None, 1700)]\n"
     ]
    }
   ],
   "source": [
    "# 2\n",
    "cur.execute('select * from departments order by department_id')\n",
    "print(cur.fetchall())"
   ]
  },
  {
   "cell_type": "code",
   "execution_count": 11,
   "metadata": {},
   "outputs": [
    {
     "name": "stdout",
     "output_type": "stream",
     "text": [
      "    DEPARTMENT_ID       DEPARTMENT_NAME  MANAGER_ID  LOCATION_ID\n",
      "0              10        Administration       200.0         1700\n",
      "1              20             Marketing       201.0         1800\n",
      "2              30            Purchasing       114.0         1700\n",
      "3              40       Human Resources       203.0         2400\n",
      "4              50              Shipping       121.0         1500\n",
      "5              60                    IT       103.0         1400\n",
      "6              70      Public Relations       204.0         2700\n",
      "7              80                 Sales       145.0         2500\n",
      "8              90             Executive       100.0         1700\n",
      "9             100               Finance       108.0         1700\n",
      "10            110            Accounting       205.0         1700\n",
      "11            120              Treasury         NaN         1700\n",
      "12            130         Corporate Tax         NaN         1700\n",
      "13            140    Control And Credit         NaN         1700\n",
      "14            150  Shareholder Services         NaN         1700\n",
      "15            160              Benefits         NaN         1700\n",
      "16            170         Manufacturing         NaN         1700\n",
      "17            180          Construction         NaN         1700\n",
      "18            190           Contracting         NaN         1700\n",
      "19            200            Operations         NaN         1700\n",
      "20            210            IT Support         NaN         1700\n",
      "21            220                   NOC         NaN         1700\n",
      "22            230           IT Helpdesk         NaN         1700\n",
      "23            240      Government Sales         NaN         1700\n",
      "24            250          Retail Sales         NaN         1700\n",
      "25            260            Recruiting         NaN         1700\n",
      "26            270               Payroll         NaN         1700\n"
     ]
    }
   ],
   "source": [
    "# 3 DataFrame형식으로 출력\n",
    "\n",
    "import pandas as pd\n",
    "df = pd.read_sql_query('select * from departments order by department_id', xedb)\n",
    "print(df)"
   ]
  },
  {
   "cell_type": "code",
   "execution_count": 12,
   "metadata": {
    "collapsed": true
   },
   "outputs": [],
   "source": [
    "# 커서 종료하기\n",
    "cur.close()\n",
    "xedb.close()"
   ]
  },
  {
   "cell_type": "markdown",
   "metadata": {},
   "source": [
    "*******\n",
    "\n",
    "# SQL 문\n",
    "* DQL(Data Query Language)   : select\n",
    "* DML(Data Manipulation Language)  :  insert, update, delete, merge\n",
    "* TCL(Transaction Control Language) : commit, rollback, savepoint\n",
    "* DDL(Data Definition Language)  : create, alter, drop, rename, truncate, comment\n",
    "* DCL(Data Control Language) : grant, revoke\n",
    "****\n",
    "## CHAPTER 1 _기본 연습문제\n"
   ]
  },
  {
   "cell_type": "code",
   "execution_count": 2,
   "metadata": {
    "collapsed": true
   },
   "outputs": [],
   "source": [
    "import cx_Oracle\n",
    "xedb = cx_Oracle.connect('hr/hr@localhost/xe')\n",
    "cur = xedb.cursor()\n",
    "\n",
    "import pandas as pd"
   ]
  },
  {
   "cell_type": "markdown",
   "metadata": {},
   "source": [
    "###  < 컬럼의 별칭 >\n",
    "#### (1) employees테이블에서 employee_id, last_name, first_name을 조회하고, 이름과 성을 연결하세요. 그리고 열별칭은 각각 'EMP', 'NAME'으로 나타내세요."
   ]
  },
  {
   "cell_type": "code",
   "execution_count": 4,
   "metadata": {},
   "outputs": [
    {
     "name": "stdout",
     "output_type": "stream",
     "text": [
      "     EMP               NAME\n",
      "0    100        King Steven\n",
      "1    101      Kochhar Neena\n",
      "2    102        De Haan Lex\n",
      "3    103   Hunold Alexander\n",
      "4    104        Ernst Bruce\n",
      "5    105       Austin David\n",
      "6    106    Pataballa Valli\n",
      "7    107      Lorentz Diana\n",
      "8    108    Greenberg Nancy\n",
      "9    109      Faviet Daniel\n",
      "10   110          Chen John\n",
      "11   111     Sciarra Ismael\n",
      "12   112  Urman Jose Manuel\n",
      "13   113          Popp Luis\n",
      "14   114       Raphaely Den\n",
      "15   115     Khoo Alexander\n",
      "16   116       Baida Shelli\n",
      "17   117       Tobias Sigal\n",
      "18   118         Himuro Guy\n",
      "19   119   Colmenares Karen\n",
      "20   120      Weiss Matthew\n",
      "21   121         Fripp Adam\n",
      "22   122     Kaufling Payam\n",
      "23   123     Vollman Shanta\n",
      "24   124      Mourgos Kevin\n",
      "25   125        Nayer Julia\n",
      "26   126  Mikkilineni Irene\n",
      "27   127       Landry James\n",
      "28   128      Markle Steven\n",
      "29   129       Bissot Laura\n",
      "..   ...                ...\n",
      "77   177    Livingston Jack\n",
      "78   178    Grant Kimberely\n",
      "79   179    Johnson Charles\n",
      "80   180     Taylor Winston\n",
      "81   181        Fleaur Jean\n",
      "82   182    Sullivan Martha\n",
      "83   183       Geoni Girard\n",
      "84   184   Sarchand Nandita\n",
      "85   185        Bull Alexis\n",
      "86   186    Dellinger Julia\n",
      "87   187     Cabrio Anthony\n",
      "88   188        Chung Kelly\n",
      "89   189     Dilly Jennifer\n",
      "90   190      Gates Timothy\n",
      "91   191    Perkins Randall\n",
      "92   192         Bell Sarah\n",
      "93   193    Everett Britney\n",
      "94   194      McCain Samuel\n",
      "95   195        Jones Vance\n",
      "96   196        Walsh Alana\n",
      "97   197       Feeney Kevin\n",
      "98   198    OConnell Donald\n",
      "99   199      Grant Douglas\n",
      "100  200    Whalen Jennifer\n",
      "101  201  Hartstein Michael\n",
      "102  202            Fay Pat\n",
      "103  203       Mavris Susan\n",
      "104  204       Baer Hermann\n",
      "105  205    Higgins Shelley\n",
      "106  206      Gietz William\n",
      "\n",
      "[107 rows x 2 columns]\n"
     ]
    }
   ],
   "source": [
    "df = pd.read_sql(\"\"\"\n",
    "                 SELECT employee_id AS EMP, last_name||' '|| first_name AS NAME\n",
    "                 FROM employees\n",
    "                 \"\"\",xedb)\n",
    "print(df)"
   ]
  },
  {
   "cell_type": "markdown",
   "metadata": {},
   "source": [
    "###  < WHERE절을 이용한 행제한 / 비교연산자, 논리연산자 >\n",
    "#### (2) 급여가 5000~12000 범위에 속하지 않은 모든 사원의 last_name과 salary를 조회하세요"
   ]
  },
  {
   "cell_type": "code",
   "execution_count": 5,
   "metadata": {},
   "outputs": [
    {
     "name": "stdout",
     "output_type": "stream",
     "text": [
      "      LAST_NAME   SALARY\n",
      "0          King  24000.0\n",
      "1       Kochhar  17000.0\n",
      "2       De Haan  17000.0\n",
      "3        Austin   4800.0\n",
      "4     Pataballa   4800.0\n",
      "5       Lorentz   4200.0\n",
      "6     Greenberg  12008.0\n",
      "7          Khoo   3100.0\n",
      "8         Baida   2900.0\n",
      "9        Tobias   2800.0\n",
      "10       Himuro   2600.0\n",
      "11   Colmenares   2500.0\n",
      "12        Nayer   3200.0\n",
      "13  Mikkilineni   2700.0\n",
      "14       Landry   2400.0\n",
      "15       Markle   2200.0\n",
      "16       Bissot   3300.0\n",
      "17     Atkinson   2800.0\n",
      "18       Marlow   2500.0\n",
      "19        Olson   2100.0\n",
      "20       Mallin   3300.0\n",
      "21       Rogers   2900.0\n",
      "22          Gee   2400.0\n",
      "23   Philtanker   2200.0\n",
      "24       Ladwig   3600.0\n",
      "25       Stiles   3200.0\n",
      "26          Seo   2700.0\n",
      "27        Patel   2500.0\n",
      "28         Rajs   3500.0\n",
      "29       Davies   3100.0\n",
      "30        Matos   2600.0\n",
      "31       Vargas   2500.0\n",
      "32      Russell  14000.0\n",
      "33     Partners  13500.0\n",
      "34       Taylor   3200.0\n",
      "35       Fleaur   3100.0\n",
      "36     Sullivan   2500.0\n",
      "37        Geoni   2800.0\n",
      "38     Sarchand   4200.0\n",
      "39         Bull   4100.0\n",
      "40    Dellinger   3400.0\n",
      "41       Cabrio   3000.0\n",
      "42        Chung   3800.0\n",
      "43        Dilly   3600.0\n",
      "44        Gates   2900.0\n",
      "45      Perkins   2500.0\n",
      "46         Bell   4000.0\n",
      "47      Everett   3900.0\n",
      "48       McCain   3200.0\n",
      "49        Jones   2800.0\n",
      "50        Walsh   3100.0\n",
      "51       Feeney   3000.0\n",
      "52     OConnell   2600.0\n",
      "53        Grant   2600.0\n",
      "54       Whalen   4400.0\n",
      "55    Hartstein  13000.0\n",
      "56      Higgins  12008.0\n"
     ]
    }
   ],
   "source": [
    "df = pd.read_sql(\"\"\"\n",
    "                 SELECT last_name, salary\n",
    "                 FROM employees\n",
    "                 WHERE salary < 5000\n",
    "                 OR salary > 12000\n",
    "                 \"\"\",xedb)\n",
    "print(df)"
   ]
  },
  {
   "cell_type": "markdown",
   "metadata": {},
   "source": [
    "#### (3) 2006년도 입사한 사원의 employee_id, last_name, hire_date를 검색하세요."
   ]
  },
  {
   "cell_type": "code",
   "execution_count": 6,
   "metadata": {},
   "outputs": [
    {
     "name": "stdout",
     "output_type": "stream",
     "text": [
      "    EMPLOYEE_ID    LAST_NAME  HIRE_DATE\n",
      "0           103       Hunold 2006-01-03\n",
      "1           106    Pataballa 2006-02-05\n",
      "2           112        Urman 2006-03-07\n",
      "3           118       Himuro 2006-11-15\n",
      "4           126  Mikkilineni 2006-09-28\n",
      "5           134       Rogers 2006-08-26\n",
      "6           139          Seo 2006-02-12\n",
      "7           140        Patel 2006-04-06\n",
      "8           143        Matos 2006-03-15\n",
      "9           144       Vargas 2006-07-09\n",
      "10          153        Olsen 2006-03-30\n",
      "11          154    Cambrault 2006-12-09\n",
      "12          161       Sewall 2006-11-03\n",
      "13          169        Bloom 2006-03-23\n",
      "14          170          Fox 2006-01-24\n",
      "15          176       Taylor 2006-03-24\n",
      "16          177   Livingston 2006-04-23\n",
      "17          180       Taylor 2006-01-24\n",
      "18          181       Fleaur 2006-02-23\n",
      "19          186    Dellinger 2006-06-24\n",
      "20          190        Gates 2006-07-11\n",
      "21          194       McCain 2006-07-01\n",
      "22          196        Walsh 2006-04-24\n",
      "23          197       Feeney 2006-05-23\n"
     ]
    }
   ],
   "source": [
    "df = pd.read_sql(\"\"\"\n",
    "                 SELECT employee_id, last_name, hire_date\n",
    "                 FROM employees \n",
    "                 WHERE hire_date BETWEEN to_date('20060101000000','YYYYMMDDHH24MISS') \n",
    "                 AND to_date('20061231235959', 'YYYYMMDDHH24MISS')\n",
    "                 \"\"\",xedb)\n",
    "print(df)"
   ]
  },
  {
   "cell_type": "markdown",
   "metadata": {},
   "source": [
    "#### (4) job_id가 'st_clerk'이고, 2005년에 입사한 사원들의 정보를 조회하세요."
   ]
  },
  {
   "cell_type": "code",
   "execution_count": 7,
   "metadata": {},
   "outputs": [
    {
     "name": "stdout",
     "output_type": "stream",
     "text": [
      "   EMPLOYEE_ID LAST_NAME  SALARY  HIRE_DATE\n",
      "0          125     Nayer  3200.0 2005-07-16\n",
      "1          129    Bissot  3300.0 2005-08-20\n",
      "2          130  Atkinson  2800.0 2005-10-30\n",
      "3          131    Marlow  2500.0 2005-02-16\n",
      "4          138    Stiles  3200.0 2005-10-26\n",
      "5          142    Davies  3100.0 2005-01-29\n"
     ]
    }
   ],
   "source": [
    "df = pd.read_sql(\"\"\"\n",
    "                 SELECT employee_id, last_name, salary, hire_date\n",
    "                 FROM employees\n",
    "                 WHERE job_id='ST_CLERK' \n",
    "                 AND hire_date>=to_date('2005-01-01', 'yyyy-mm-dd')\n",
    "                 AND hire_date<to_date('2006-01-01','yyyy-mm-dd')\n",
    "                 \"\"\",xedb)\n",
    "print(df)"
   ]
  },
  {
   "cell_type": "markdown",
   "metadata": {},
   "source": [
    "### < IN, NOT IN >\n",
    "#### (5) Matos 및 Taylor라는 last_name을 가진 사원의 last_name, job_id, hire_date를 표시하는 보고서를 작성합니다.(hire_date를 기준으로 오름차순으로 출력)"
   ]
  },
  {
   "cell_type": "code",
   "execution_count": 8,
   "metadata": {},
   "outputs": [
    {
     "name": "stdout",
     "output_type": "stream",
     "text": [
      "  LAST_NAME    JOB_ID  HIRE_DATE\n",
      "0    Taylor  SH_CLERK 2006-01-24\n",
      "1     Matos  ST_CLERK 2006-03-15\n",
      "2    Taylor    SA_REP 2006-03-24\n"
     ]
    }
   ],
   "source": [
    "df = pd.read_sql(\"\"\"\n",
    "                 SELECT last_name, job_id, hire_date\n",
    "                 FROM employees\n",
    "                 WHERE last_name IN ('Matos','Taylor')\n",
    "                 ORDER BY hire_date\n",
    "                 \"\"\",xedb)\n",
    "print(df)"
   ]
  },
  {
   "cell_type": "markdown",
   "metadata": {},
   "source": [
    "#### (6) job_id가 IT_PROG, ST_CLERK 또는 SA_REP가 아닌 모든 사원의 last_name, job_id를 검색하세요."
   ]
  },
  {
   "cell_type": "code",
   "execution_count": 9,
   "metadata": {},
   "outputs": [
    {
     "name": "stdout",
     "output_type": "stream",
     "text": [
      "     LAST_NAME      JOB_ID\n",
      "0         Baer      PR_REP\n",
      "1        Baida    PU_CLERK\n",
      "2         Bell    SH_CLERK\n",
      "3         Bull    SH_CLERK\n",
      "4       Cabrio    SH_CLERK\n",
      "5    Cambrault      SA_MAN\n",
      "6         Chen  FI_ACCOUNT\n",
      "7        Chung    SH_CLERK\n",
      "8   Colmenares    PU_CLERK\n",
      "9      De Haan       AD_VP\n",
      "10   Dellinger    SH_CLERK\n",
      "11       Dilly    SH_CLERK\n",
      "12   Errazuriz      SA_MAN\n",
      "13     Everett    SH_CLERK\n",
      "14      Faviet  FI_ACCOUNT\n",
      "15         Fay      MK_REP\n",
      "16      Feeney    SH_CLERK\n",
      "17      Fleaur    SH_CLERK\n",
      "18       Fripp      ST_MAN\n",
      "19       Gates    SH_CLERK\n",
      "20       Geoni    SH_CLERK\n",
      "21       Gietz  AC_ACCOUNT\n",
      "22       Grant    SH_CLERK\n",
      "23   Greenberg      FI_MGR\n",
      "24   Hartstein      MK_MAN\n",
      "25     Higgins      AC_MGR\n",
      "26      Himuro    PU_CLERK\n",
      "27       Jones    SH_CLERK\n",
      "28    Kaufling      ST_MAN\n",
      "29        Khoo    PU_CLERK\n",
      "30        King     AD_PRES\n",
      "31     Kochhar       AD_VP\n",
      "32      Mavris      HR_REP\n",
      "33      McCain    SH_CLERK\n",
      "34     Mourgos      ST_MAN\n",
      "35    OConnell    SH_CLERK\n",
      "36    Partners      SA_MAN\n",
      "37     Perkins    SH_CLERK\n",
      "38        Popp  FI_ACCOUNT\n",
      "39    Raphaely      PU_MAN\n",
      "40     Russell      SA_MAN\n",
      "41    Sarchand    SH_CLERK\n",
      "42     Sciarra  FI_ACCOUNT\n",
      "43    Sullivan    SH_CLERK\n",
      "44      Taylor    SH_CLERK\n",
      "45      Tobias    PU_CLERK\n",
      "46       Urman  FI_ACCOUNT\n",
      "47     Vollman      ST_MAN\n",
      "48       Walsh    SH_CLERK\n",
      "49       Weiss      ST_MAN\n",
      "50      Whalen     AD_ASST\n",
      "51     Zlotkey      SA_MAN\n"
     ]
    }
   ],
   "source": [
    "df = pd.read_sql(\"\"\"\n",
    "                 SELECT last_name, job_id\n",
    "                 FROM employees\n",
    "                 WHERE job_id NOT IN('IT_PROG', 'ST_CLERK', 'SA_REP')\n",
    "                 \"\"\",xedb)\n",
    "print(df)"
   ]
  },
  {
   "cell_type": "markdown",
   "metadata": {},
   "source": [
    "### < NULL, NOT NULL  >\n",
    "#### (7) 관리자가 없는 모든 사원의 last_name과 관리자(manager_id)를 검색하세요."
   ]
  },
  {
   "cell_type": "code",
   "execution_count": 10,
   "metadata": {},
   "outputs": [
    {
     "name": "stdout",
     "output_type": "stream",
     "text": [
      "  LAST_NAME MANAGER_ID\n",
      "0      King       None\n"
     ]
    }
   ],
   "source": [
    "df = pd.read_sql(\"\"\"\n",
    "                 SELECT last_name, manager_id\n",
    "                 FROM employees\n",
    "                 WHERE manager_id IS NULL\n",
    "                 \"\"\",xedb)\n",
    "print(df)"
   ]
  },
  {
   "cell_type": "markdown",
   "metadata": {},
   "source": [
    "### < order by를 이용한 정렬 >\n",
    "#### (8) commission_pct이 null 아닌 모든 사원의 last_name, salary, commission_pct를 표시하는 보고서를 작성합니다. salary 및 commission_pct의 데이터를 내림차순으로 정렬하세요."
   ]
  },
  {
   "cell_type": "code",
   "execution_count": 11,
   "metadata": {},
   "outputs": [
    {
     "name": "stdout",
     "output_type": "stream",
     "text": [
      "     LAST_NAME   SALARY  COMMISSION_PCT\n",
      "0      Russell  14000.0            0.40\n",
      "1     Partners  13500.0            0.30\n",
      "2    Errazuriz  12000.0            0.30\n",
      "3         Ozer  11500.0            0.25\n",
      "4    Cambrault  11000.0            0.30\n",
      "5         Abel  11000.0            0.30\n",
      "6      Vishney  10500.0            0.25\n",
      "7      Zlotkey  10500.0            0.20\n",
      "8         King  10000.0            0.35\n",
      "9       Tucker  10000.0            0.30\n",
      "10       Bloom  10000.0            0.20\n",
      "11         Fox   9600.0            0.20\n",
      "12       Sully   9500.0            0.35\n",
      "13   Bernstein   9500.0            0.25\n",
      "14      Greene   9500.0            0.15\n",
      "15      McEwen   9000.0            0.35\n",
      "16        Hall   9000.0            0.25\n",
      "17      Hutton   8800.0            0.25\n",
      "18      Taylor   8600.0            0.20\n",
      "19  Livingston   8400.0            0.20\n",
      "20       Smith   8000.0            0.30\n",
      "21       Olsen   8000.0            0.20\n",
      "22       Doran   7500.0            0.30\n",
      "23   Cambrault   7500.0            0.20\n",
      "24       Smith   7400.0            0.15\n",
      "25       Bates   7300.0            0.15\n",
      "26     Marvins   7200.0            0.10\n",
      "27      Sewall   7000.0            0.25\n",
      "28     Tuvault   7000.0            0.15\n",
      "29       Grant   7000.0            0.15\n",
      "30         Lee   6800.0            0.10\n",
      "31        Ande   6400.0            0.10\n",
      "32       Banda   6200.0            0.10\n",
      "33     Johnson   6200.0            0.10\n",
      "34       Kumar   6100.0            0.10\n"
     ]
    }
   ],
   "source": [
    "df = pd.read_sql(\"\"\"\n",
    "                 SELECT last_name, salary, commission_pct\n",
    "                 FROM employees\n",
    "                 WHERE commission_pct IS NOT NULL\n",
    "                 ORDER BY salary DESC, commission_pct DESC\n",
    "                 \"\"\",xedb)\n",
    "print(df)"
   ]
  },
  {
   "cell_type": "markdown",
   "metadata": {},
   "source": [
    "### < 문자열 검색_LIKE >\n",
    "#### (9) last_name의 세번째 문자가 'a' 또는 'e'가 포함된 모든 사원의 last_name을 출력하세요."
   ]
  },
  {
   "cell_type": "code",
   "execution_count": 12,
   "metadata": {},
   "outputs": [
    {
     "name": "stdout",
     "output_type": "stream",
     "text": [
      "    LAST_NAME\n",
      "0        Abel\n",
      "1        Baer\n",
      "2        Chen\n",
      "3     Everett\n",
      "4      Feeney\n",
      "5      Fleaur\n",
      "6         Gee\n",
      "7       Gietz\n",
      "8       Grant\n",
      "9   Greenberg\n",
      "10     Greene\n",
      "11        Lee\n",
      "12       Ozer\n",
      "13     Whalen\n"
     ]
    }
   ],
   "source": [
    "df = pd.read_sql(\"\"\"\n",
    "                 SELECT DISTINCT last_name\n",
    "                 FROM employees\n",
    "                 WHERE last_name LIKE '__a%'\n",
    "                 OR last_name LIKE '__e%'\n",
    "                 \"\"\",xedb)\n",
    "print(df)"
   ]
  },
  {
   "cell_type": "markdown",
   "metadata": {},
   "source": [
    "#### (10) job 컬럼에 'SA_'를 포함한 사원을 검색하세요."
   ]
  },
  {
   "cell_type": "code",
   "execution_count": 13,
   "metadata": {},
   "outputs": [
    {
     "name": "stdout",
     "output_type": "stream",
     "text": [
      "    EMPLOYEE_ID   LAST_NAME  JOB_ID\n",
      "0           145     Russell  SA_MAN\n",
      "1           146    Partners  SA_MAN\n",
      "2           147   Errazuriz  SA_MAN\n",
      "3           148   Cambrault  SA_MAN\n",
      "4           149     Zlotkey  SA_MAN\n",
      "5           150      Tucker  SA_REP\n",
      "6           151   Bernstein  SA_REP\n",
      "7           152        Hall  SA_REP\n",
      "8           153       Olsen  SA_REP\n",
      "9           154   Cambrault  SA_REP\n",
      "10          155     Tuvault  SA_REP\n",
      "11          156        King  SA_REP\n",
      "12          157       Sully  SA_REP\n",
      "13          158      McEwen  SA_REP\n",
      "14          159       Smith  SA_REP\n",
      "15          160       Doran  SA_REP\n",
      "16          161      Sewall  SA_REP\n",
      "17          162     Vishney  SA_REP\n",
      "18          163      Greene  SA_REP\n",
      "19          164     Marvins  SA_REP\n",
      "20          165         Lee  SA_REP\n",
      "21          166        Ande  SA_REP\n",
      "22          167       Banda  SA_REP\n",
      "23          168        Ozer  SA_REP\n",
      "24          169       Bloom  SA_REP\n",
      "25          170         Fox  SA_REP\n",
      "26          171       Smith  SA_REP\n",
      "27          172       Bates  SA_REP\n",
      "28          173       Kumar  SA_REP\n",
      "29          174        Abel  SA_REP\n",
      "30          175      Hutton  SA_REP\n",
      "31          176      Taylor  SA_REP\n",
      "32          177  Livingston  SA_REP\n",
      "33          178       Grant  SA_REP\n",
      "34          179     Johnson  SA_REP\n"
     ]
    }
   ],
   "source": [
    "df = pd.read_sql(\"\"\"\n",
    "                 SELECT employee_id, last_name, job_id\n",
    "                 FROM employees\n",
    "                 WHERE job_id LIKE 'SA\\_%' ESCAPE '\\\\'\n",
    "                 \"\"\",xedb)\n",
    "print(df)"
   ]
  },
  {
   "cell_type": "code",
   "execution_count": 14,
   "metadata": {
    "collapsed": true
   },
   "outputs": [],
   "source": [
    "cur.close()\n",
    "xedb.close()"
   ]
  },
  {
   "cell_type": "code",
   "execution_count": null,
   "metadata": {
    "collapsed": true
   },
   "outputs": [],
   "source": []
  }
 ],
 "metadata": {
  "kernelspec": {
   "display_name": "Python 3",
   "language": "python",
   "name": "python3"
  },
  "language_info": {
   "codemirror_mode": {
    "name": "ipython",
    "version": 3
   },
   "file_extension": ".py",
   "mimetype": "text/x-python",
   "name": "python",
   "nbconvert_exporter": "python",
   "pygments_lexer": "ipython3",
   "version": "3.6.1"
  }
 },
 "nbformat": 4,
 "nbformat_minor": 2
}
