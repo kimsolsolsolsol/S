{
 "cells": [
  {
   "cell_type": "markdown",
   "metadata": {},
   "source": [
    "***\n",
    "# CHAPTER 3. 그룹함수\n",
    "### < COUNT, MAX, MIN, SUM, AVG, STDDEV, VARIANCE >\n",
    "* 주의 : COUNT함수를 제외한 다른 그룹함수는 NULL 포함시키지 않는다"
   ]
  },
  {
   "cell_type": "code",
   "execution_count": 1,
   "metadata": {
    "collapsed": true
   },
   "outputs": [],
   "source": [
    "import cx_Oracle\n",
    "import pandas as pd\n",
    "xedb = cx_Oracle.connect('hr/hr@localhost/xe')\n",
    "cur = xedb.cursor()"
   ]
  },
  {
   "cell_type": "code",
   "execution_count": 2,
   "metadata": {},
   "outputs": [
    {
     "name": "stdout",
     "output_type": "stream",
     "text": [
      "    DEPARTMENT_ID  COUNT(*)\n",
      "0            10.0         1\n",
      "1            20.0         2\n",
      "2            30.0         6\n",
      "3            40.0         1\n",
      "4            50.0        45\n",
      "5            60.0         5\n",
      "6            70.0         1\n",
      "7            80.0        34\n",
      "8            90.0         3\n",
      "9           100.0         6\n",
      "10          110.0         2\n",
      "11            NaN         1\n"
     ]
    }
   ],
   "source": [
    "df = pd.read_sql(\"\"\"\n",
    "        SELECT department_id, count(*)\n",
    "        FROM employees\n",
    "        GROUP BY department_id\n",
    "        ORDER BY 1\n",
    "        \"\"\",xedb)\n",
    "print(df)"
   ]
  },
  {
   "cell_type": "code",
   "execution_count": 3,
   "metadata": {},
   "outputs": [
    {
     "name": "stdout",
     "output_type": "stream",
     "text": [
      "     DEPARTMENT_ID      JOB_ID\n",
      "0             10.0     AD_ASST\n",
      "1             20.0      MK_MAN\n",
      "2             20.0      MK_REP\n",
      "3             30.0      PU_MAN\n",
      "4             30.0    PU_CLERK\n",
      "5             30.0    PU_CLERK\n",
      "6             30.0    PU_CLERK\n",
      "7             30.0    PU_CLERK\n",
      "8             30.0    PU_CLERK\n",
      "9             40.0      HR_REP\n",
      "10            50.0      ST_MAN\n",
      "11            50.0      ST_MAN\n",
      "12            50.0      ST_MAN\n",
      "13            50.0      ST_MAN\n",
      "14            50.0      ST_MAN\n",
      "15            50.0    ST_CLERK\n",
      "16            50.0    ST_CLERK\n",
      "17            50.0    ST_CLERK\n",
      "18            50.0    ST_CLERK\n",
      "19            50.0    ST_CLERK\n",
      "20            50.0    ST_CLERK\n",
      "21            50.0    ST_CLERK\n",
      "22            50.0    ST_CLERK\n",
      "23            50.0    ST_CLERK\n",
      "24            50.0    ST_CLERK\n",
      "25            50.0    ST_CLERK\n",
      "26            50.0    ST_CLERK\n",
      "27            50.0    ST_CLERK\n",
      "28            50.0    ST_CLERK\n",
      "29            50.0    ST_CLERK\n",
      "..             ...         ...\n",
      "77            80.0      SA_REP\n",
      "78            80.0      SA_REP\n",
      "79            80.0      SA_REP\n",
      "80            80.0      SA_REP\n",
      "81            80.0      SA_REP\n",
      "82            80.0      SA_REP\n",
      "83            80.0      SA_REP\n",
      "84            80.0      SA_REP\n",
      "85            80.0      SA_REP\n",
      "86            80.0      SA_REP\n",
      "87            80.0      SA_REP\n",
      "88            80.0      SA_REP\n",
      "89            80.0      SA_REP\n",
      "90            80.0      SA_REP\n",
      "91            80.0      SA_REP\n",
      "92            80.0      SA_REP\n",
      "93            80.0      SA_REP\n",
      "94            80.0      SA_REP\n",
      "95            90.0     AD_PRES\n",
      "96            90.0       AD_VP\n",
      "97            90.0       AD_VP\n",
      "98           100.0      FI_MGR\n",
      "99           100.0  FI_ACCOUNT\n",
      "100          100.0  FI_ACCOUNT\n",
      "101          100.0  FI_ACCOUNT\n",
      "102          100.0  FI_ACCOUNT\n",
      "103          100.0  FI_ACCOUNT\n",
      "104          110.0      AC_MGR\n",
      "105          110.0  AC_ACCOUNT\n",
      "106            NaN      SA_REP\n",
      "\n",
      "[107 rows x 2 columns]\n"
     ]
    }
   ],
   "source": [
    "df = pd.read_sql(\"\"\"\n",
    "        SELECT department_id, job_id\n",
    "        FROM employees\n",
    "        ORDER BY 1\n",
    "        \"\"\",xedb)\n",
    "print(df)\n"
   ]
  },
  {
   "cell_type": "code",
   "execution_count": 4,
   "metadata": {},
   "outputs": [
    {
     "name": "stdout",
     "output_type": "stream",
     "text": [
      "    DEPARTMENT_ID      JOB_ID  COUNT(*)\n",
      "0            10.0     AD_ASST         1\n",
      "1            20.0      MK_MAN         1\n",
      "2            20.0      MK_REP         1\n",
      "3            30.0    PU_CLERK         5\n",
      "4            30.0      PU_MAN         1\n",
      "5            40.0      HR_REP         1\n",
      "6            50.0    SH_CLERK        20\n",
      "7            50.0    ST_CLERK        20\n",
      "8            50.0      ST_MAN         5\n",
      "9            60.0     IT_PROG         5\n",
      "10           70.0      PR_REP         1\n",
      "11           80.0      SA_MAN         5\n",
      "12           80.0      SA_REP        29\n",
      "13           90.0     AD_PRES         1\n",
      "14           90.0       AD_VP         2\n",
      "15          100.0  FI_ACCOUNT         5\n",
      "16          100.0      FI_MGR         1\n",
      "17          110.0  AC_ACCOUNT         1\n",
      "18          110.0      AC_MGR         1\n",
      "19            NaN      SA_REP         1\n"
     ]
    }
   ],
   "source": [
    "df = pd.read_sql(\"\"\"\n",
    "        SELECT department_id, job_id,count(*)\n",
    "        FROM employees\n",
    "        GROUP BY department_id, job_id\n",
    "        ORDER BY 1\n",
    "        \"\"\",xedb)\n",
    "print(df)"
   ]
  },
  {
   "cell_type": "code",
   "execution_count": 5,
   "metadata": {},
   "outputs": [
    {
     "name": "stdout",
     "output_type": "stream",
     "text": [
      "   DEPARTMENT_ID    JOB_ID  COUNT(*)  AVG(SALARY)  SUM(SALARY)\n",
      "0             10   AD_ASST         1         4400         4400\n",
      "1             20    MK_MAN         1        13000        13000\n",
      "2             20    MK_REP         1         6000         6000\n",
      "3             30  PU_CLERK         5         2780        13900\n",
      "4             30    PU_MAN         1        11000        11000\n"
     ]
    }
   ],
   "source": [
    "df = pd.read_sql(\"\"\"\n",
    "        SELECT department_id, job_id,count(*),avg(salary), sum(salary)\n",
    "        FROM employees\n",
    "        WHERE department_id IN(10,20,30)\n",
    "        GROUP BY department_id, job_id\n",
    "        ORDER BY 1\n",
    "        \"\"\",xedb)\n",
    "print(df)"
   ]
  },
  {
   "cell_type": "markdown",
   "metadata": {},
   "source": [
    "###  HAVING : 그룹함수의 결과를 제한하는 절 \n",
    "참고 : where절은 행을 제한하는 절"
   ]
  },
  {
   "cell_type": "code",
   "execution_count": 6,
   "metadata": {},
   "outputs": [
    {
     "name": "stdout",
     "output_type": "stream",
     "text": [
      "   DEPARTMENT_ID  JOB_ID  COUNT(*)  AVG(SALARY)  SUM(SALARY)\n",
      "0             20  MK_MAN         1        13000        13000\n",
      "1             30  PU_MAN         1        11000        11000\n"
     ]
    }
   ],
   "source": [
    "df = pd.read_sql(\"\"\"\n",
    "        SELECT department_id, job_id, count(*), avg(salary), sum(salary)\n",
    "        FROM employees\n",
    "        WHERE department_id IN(10,20,30)\n",
    "        GROUP BY department_id, job_id\n",
    "        HAVING avg(salary)>6000\n",
    "        ORDER BY 1\n",
    "        \"\"\",xedb)\n",
    "print(df)"
   ]
  },
  {
   "cell_type": "markdown",
   "metadata": {},
   "source": [
    "### 작업수행순서\n",
    "- 4 SELECT \n",
    "- 1 FROM \n",
    "- 2 WHERE \n",
    "- 3 GROUP BY \n",
    "- 5 HAVING \n",
    "- 6 ORDER BY "
   ]
  },
  {
   "cell_type": "markdown",
   "metadata": {},
   "source": [
    "***\n",
    "## [ 연습문제 ]\n",
    "***"
   ]
  },
  {
   "cell_type": "markdown",
   "metadata": {},
   "source": [
    "#### (1) 모든 사원의 최고급여, 최저급여, 급여합계 및 평균급여를 조회하세요. 결과는 소수점을 반올림하여 정수값으로 출력하세요."
   ]
  },
  {
   "cell_type": "code",
   "execution_count": 7,
   "metadata": {},
   "outputs": [
    {
     "name": "stdout",
     "output_type": "stream",
     "text": [
      "   MAXIMUM  MINIMUM     SUM  AVERAGE\n",
      "0    24000     2100  691416     6462\n"
     ]
    }
   ],
   "source": [
    "df = pd.read_sql(\"\"\"\n",
    "        SELECT ROUND(MAX(salary),0) Maximum,\n",
    "                ROUND(MIN(salary),0) Minimum,\n",
    "                ROUND(SUM(salary),0) Sum,\n",
    "                ROUND(AVG(salary),0) Average\n",
    "        FROM employees\n",
    "        \"\"\",xedb)\n",
    "print(df)"
   ]
  },
  {
   "cell_type": "markdown",
   "metadata": {},
   "source": [
    "#### (2) 2008년도에 입사한 사원들의 job_id별 사원수를 조회하고 인원수가 많은 순으로 출력하세요."
   ]
  },
  {
   "cell_type": "code",
   "execution_count": 8,
   "metadata": {
    "scrolled": true
   },
   "outputs": [
    {
     "name": "stdout",
     "output_type": "stream",
     "text": [
      "     JOB_ID  COUNT(*)\n",
      "0    SA_REP         6\n",
      "1  SH_CLERK         2\n",
      "2  ST_CLERK         2\n",
      "3    SA_MAN         1\n"
     ]
    }
   ],
   "source": [
    "df = pd.read_sql(\"\"\"\n",
    "        SELECT job_id, COUNT(*)\\\n",
    "        FROM employees WHERE hire_date >= to_date('2008-01-01','YYYY-MM-DD')\n",
    "        AND hire_date < to_date('2009-01-01','YYYY-MM-DD')\n",
    "        GROUP BY job_id\n",
    "        ORDER BY 2 desc\n",
    "        \"\"\",xedb)\n",
    "print(df)"
   ]
  },
  {
   "cell_type": "markdown",
   "metadata": {},
   "source": [
    "#### (3) 총 사원수와 2005년, 2006년, 2007년, 2008년에 각각 입사한 사원의 수를 출력하세요."
   ]
  },
  {
   "cell_type": "code",
   "execution_count": 10,
   "metadata": {},
   "outputs": [
    {
     "name": "stdout",
     "output_type": "stream",
     "text": [
      "  TO_CHAR(HIRE_DATE,'YYYY')  COUNT(*)\n",
      "0                      2001         1\n",
      "1                      2002         7\n",
      "2                      2003         6\n",
      "3                      2004        10\n",
      "4                      2005        29\n",
      "5                      2006        24\n",
      "6                      2007        19\n",
      "7                      2008        11\n"
     ]
    }
   ],
   "source": [
    "df = pd.read_sql(\"\"\"\n",
    "                 SELECT TO_CHAR(HIRE_DATE,'YYYY'), COUNT(*)\n",
    "                 FROM EMPLOYEES\n",
    "                 GROUP BY TO_CHAR(HIRE_DATE,'YYYY')\n",
    "                 ORDER BY 1\n",
    "                 \"\"\",xedb)\n",
    "print(df)"
   ]
  },
  {
   "cell_type": "markdown",
   "metadata": {},
   "source": [
    "#### SUM, DECODE"
   ]
  },
  {
   "cell_type": "code",
   "execution_count": 11,
   "metadata": {},
   "outputs": [
    {
     "name": "stdout",
     "output_type": "stream",
     "text": [
      "   TOTAL  YR_05  YR_06  YR_07  YR_08\n",
      "0    107     29     24     19     11\n"
     ]
    }
   ],
   "source": [
    "df = pd.read_sql(\"\"\"\n",
    "        SELECT COUNT(*) total,\\\n",
    "                SUM(DECODE(TO_CHAR(hire_date,'YYYY'),'2005',1)) YR_05,\n",
    "                SUM(DECODE(TO_CHAR(hire_date,'YYYY'),'2006',1)) YR_06,\n",
    "                SUM(DECODE(TO_CHAR(hire_date,'YYYY'),'2007',1)) YR_07,\n",
    "                SUM(DECODE(TO_CHAR(hire_date,'YYYY'),'2008',1)) YR_08\n",
    "        FROM employees\n",
    "        \"\"\",xedb)\n",
    "print(df)"
   ]
  },
  {
   "cell_type": "markdown",
   "metadata": {},
   "source": [
    "#### COUNT, CASE..WHEN"
   ]
  },
  {
   "cell_type": "code",
   "execution_count": 12,
   "metadata": {},
   "outputs": [
    {
     "name": "stdout",
     "output_type": "stream",
     "text": [
      "   TOTAL  YR_05  YR_06  YR_07  YR_08\n",
      "0    107     29     24     19     11\n"
     ]
    }
   ],
   "source": [
    "df = pd.read_sql(\"\"\"\n",
    "        SELECT COUNT(*) total,\\\n",
    "                COUNT(CASE TO_CHAR(hire_date,'YYYY') WHEN '2005' THEN 1 END) YR_05,\n",
    "                COUNT(CASE TO_CHAR(hire_date,'YYYY') WHEN '2006' THEN 1 END) YR_06,\n",
    "                COUNT(CASE TO_CHAR(hire_date,'YYYY') WHEN '2007'THEN 1 END) YR_07,\n",
    "                COUNT(CASE TO_CHAR(hire_date,'YYYY') WHEN '2008'THEN 1 END) YR_08\n",
    "        FROM employees\n",
    "        \"\"\",xedb)\n",
    "print(df)"
   ]
  },
  {
   "cell_type": "code",
   "execution_count": 13,
   "metadata": {},
   "outputs": [
    {
     "name": "stdout",
     "output_type": "stream",
     "text": [
      "   TOTAL  YR_05  YR_06  YR_07  YR_08\n",
      "0    107     29     24     19     11\n"
     ]
    }
   ],
   "source": [
    "df = pd.read_sql(\"\"\"\n",
    "        SELECT COUNT(*) total,\\\n",
    "                COUNT(CASE EXTRACT(YEAR FROM hire_date) WHEN 2005 THEN 'X' END) YR_05,\n",
    "                COUNT(CASE EXTRACT(YEAR FROM hire_date) WHEN 2006 THEN 'X' END) YR_06,\n",
    "                COUNT(CASE EXTRACT(YEAR FROM hire_date) WHEN 2007 THEN 'X' END)YR_07,\n",
    "                COUNT(CASE EXTRACT(year from hire_date) WHEN 2008 THEN 'X' END) YR_08\n",
    "        FROM employees\n",
    "        \"\"\",xedb)\n",
    "print(df)"
   ]
  },
  {
   "cell_type": "code",
   "execution_count": 15,
   "metadata": {
    "collapsed": true
   },
   "outputs": [],
   "source": [
    "cur.close()\n",
    "xedb.close()"
   ]
  },
  {
   "cell_type": "code",
   "execution_count": null,
   "metadata": {
    "collapsed": true
   },
   "outputs": [],
   "source": []
  }
 ],
 "metadata": {
  "kernelspec": {
   "display_name": "Python 3",
   "language": "python",
   "name": "python3"
  },
  "language_info": {
   "codemirror_mode": {
    "name": "ipython",
    "version": 3
   },
   "file_extension": ".py",
   "mimetype": "text/x-python",
   "name": "python",
   "nbconvert_exporter": "python",
   "pygments_lexer": "ipython3",
   "version": "3.6.1"
  }
 },
 "nbformat": 4,
 "nbformat_minor": 2
}
