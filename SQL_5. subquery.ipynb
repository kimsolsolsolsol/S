{
 "cells": [
  {
   "cell_type": "markdown",
   "metadata": {},
   "source": [
    "# chapter 5. SUBQUERY\n",
    "***\n",
    "## 5-1 SINGLE ROW SUBQUERY "
   ]
  },
  {
   "cell_type": "markdown",
   "metadata": {},
   "source": [
    "#### 사원 141의 job_id 와 동일한 job_id 가진 사원의 이름을 조회"
   ]
  },
  {
   "cell_type": "code",
   "execution_count": 1,
   "metadata": {
    "collapsed": true
   },
   "outputs": [],
   "source": [
    "import cx_Oracle\n",
    "import pandas as pd\n",
    "xedb = cx_Oracle.connect('hr/hr@localhost/xe')\n",
    "cur = xedb.cursor()"
   ]
  },
  {
   "cell_type": "code",
   "execution_count": 2,
   "metadata": {},
   "outputs": [
    {
     "name": "stdout",
     "output_type": "stream",
     "text": [
      "      LAST_NAME    JOB_ID\n",
      "0         Nayer  ST_CLERK\n",
      "1   Mikkilineni  ST_CLERK\n",
      "2        Landry  ST_CLERK\n",
      "3        Markle  ST_CLERK\n",
      "4        Bissot  ST_CLERK\n",
      "5      Atkinson  ST_CLERK\n",
      "6        Marlow  ST_CLERK\n",
      "7         Olson  ST_CLERK\n",
      "8        Mallin  ST_CLERK\n",
      "9        Rogers  ST_CLERK\n",
      "10          Gee  ST_CLERK\n",
      "11   Philtanker  ST_CLERK\n",
      "12       Ladwig  ST_CLERK\n",
      "13       Stiles  ST_CLERK\n",
      "14          Seo  ST_CLERK\n",
      "15        Patel  ST_CLERK\n",
      "16         Rajs  ST_CLERK\n",
      "17       Davies  ST_CLERK\n",
      "18        Matos  ST_CLERK\n",
      "19       Vargas  ST_CLERK\n"
     ]
    }
   ],
   "source": [
    "df = pd.read_sql(\"\"\"\n",
    "        SELECT last_name, job_id\n",
    "        FROM employees\n",
    "        WHERE job_id =  (SELECT job_id\n",
    "                         FROM employees\n",
    "                         WHERE employee_id = 141)\n",
    "        \"\"\",xedb)\n",
    "print(df)"
   ]
  },
  {
   "cell_type": "markdown",
   "metadata": {},
   "source": [
    "#### 사원141와 동일한 job_id의  사원 중에 141사원 보다 급여를 많이 받는 사원을 조회"
   ]
  },
  {
   "cell_type": "code",
   "execution_count": 3,
   "metadata": {},
   "outputs": [
    {
     "name": "stdout",
     "output_type": "stream",
     "text": [
      "  LAST_NAME    JOB_ID  SALARY\n",
      "0    Ladwig  ST_CLERK  3600.0\n"
     ]
    }
   ],
   "source": [
    "df = pd.read_sql(\"\"\"\n",
    "        SELECT last_name, job_id, salary\n",
    "        FROM employees\n",
    "        WHERE job_id = (SELECT job_id\n",
    "                        FROM employees\n",
    "                        WHERE employee_id = 141)\n",
    "        AND salary > (SELECT salary\n",
    "                      FROM employees\n",
    "                      WHERE employee_id = 141)\n",
    "        \"\"\",xedb)\n",
    "print(df)"
   ]
  },
  {
   "cell_type": "markdown",
   "metadata": {},
   "source": [
    "#### 최소월급을 받는 사원의 이름과 월급을 출력"
   ]
  },
  {
   "cell_type": "code",
   "execution_count": 4,
   "metadata": {},
   "outputs": [
    {
     "name": "stdout",
     "output_type": "stream",
     "text": [
      "  LAST_NAME  SALARY\n",
      "0     Olson  2100.0\n"
     ]
    }
   ],
   "source": [
    "df = pd.read_sql(\"\"\"\n",
    "        SELECT last_name, salary\n",
    "        FROM employees\n",
    "        WHERE salary = (SELECT MIN(salary)\n",
    "                        FROM employees)         \n",
    "        \"\"\",xedb)\n",
    "print(df)"
   ]
  },
  {
   "cell_type": "markdown",
   "metadata": {},
   "source": [
    "#### 평균 급여가 가장 낮은 job_id"
   ]
  },
  {
   "cell_type": "code",
   "execution_count": 5,
   "metadata": {},
   "outputs": [
    {
     "name": "stdout",
     "output_type": "stream",
     "text": [
      "     JOB_ID  AVG(SALARY)\n",
      "0  PU_CLERK         2780\n"
     ]
    }
   ],
   "source": [
    "df = pd.read_sql(\"\"\"\n",
    "        SELECT job_id, AVG(salary)\n",
    "        FROM employees\n",
    "        GROUP BY job_id\n",
    "        HAVING AVG(salary) = (SELECT MIN(AVG(salary))\n",
    "                          FROM employees\n",
    "                          GROUP BY job_id)\n",
    "        \"\"\",xedb)\n",
    "print(df)"
   ]
  },
  {
   "cell_type": "markdown",
   "metadata": {},
   "source": [
    "## 5-2  MULTIPLE ROW SUBQUERY\n",
    "* Multiple row subquery  연산자 :  in, any, all"
   ]
  },
  {
   "cell_type": "markdown",
   "metadata": {},
   "source": [
    "### < IN, NOT IN >\n",
    "* IN (=, or ,=, or, =. or......)\n",
    "* NOT IN (<>, AND, <>, AND, <>, AND .....) "
   ]
  },
  {
   "cell_type": "markdown",
   "metadata": {},
   "source": [
    "#### 부서별로 최소 급여자들의 이름과 급여 출력"
   ]
  },
  {
   "cell_type": "code",
   "execution_count": 6,
   "metadata": {},
   "outputs": [
    {
     "name": "stdout",
     "output_type": "stream",
     "text": [
      "     LAST_NAME   SALARY\n",
      "0      Kochhar  17000.0\n",
      "1      De Haan  17000.0\n",
      "2        Ernst   6000.0\n",
      "3      Lorentz   4200.0\n",
      "4         Popp   6900.0\n",
      "5   Colmenares   2500.0\n",
      "6      Vollman   6500.0\n",
      "7       Marlow   2500.0\n",
      "8        Olson   2100.0\n",
      "9        Patel   2500.0\n",
      "10      Vargas   2500.0\n",
      "11      Tucker  10000.0\n",
      "12     Tuvault   7000.0\n",
      "13        King  10000.0\n",
      "14      Sewall   7000.0\n",
      "15       Bloom  10000.0\n",
      "16       Kumar   6100.0\n",
      "17       Grant   7000.0\n",
      "18    Sullivan   2500.0\n",
      "19    Sarchand   4200.0\n",
      "20     Perkins   2500.0\n",
      "21      Whalen   4400.0\n",
      "22         Fay   6000.0\n",
      "23      Mavris   6500.0\n",
      "24        Baer  10000.0\n",
      "25       Gietz   8300.0\n"
     ]
    }
   ],
   "source": [
    "df = pd.read_sql(\"\"\"\n",
    "        select last_name, salary\n",
    "        FROM employees\n",
    "        WHERE salary IN (SELECT MIN(salary)\n",
    "                         FROM employees\n",
    "                         GROUP BY department_id)\n",
    "        \"\"\",xedb)\n",
    "print(df)"
   ]
  },
  {
   "cell_type": "markdown",
   "metadata": {},
   "source": [
    "#### 관리자인 사원들의 이름을 조회"
   ]
  },
  {
   "cell_type": "code",
   "execution_count": 8,
   "metadata": {},
   "outputs": [
    {
     "name": "stdout",
     "output_type": "stream",
     "text": [
      "    LAST_NAME\n",
      "0   Cambrault\n",
      "1     De Haan\n",
      "2   Errazuriz\n",
      "3       Fripp\n",
      "4   Greenberg\n",
      "5   Hartstein\n",
      "6     Higgins\n",
      "7      Hunold\n",
      "8    Kaufling\n",
      "9        King\n",
      "10    Kochhar\n",
      "11    Mourgos\n",
      "12   Partners\n",
      "13   Raphaely\n",
      "14    Russell\n",
      "15    Vollman\n",
      "16      Weiss\n",
      "17    Zlotkey\n"
     ]
    }
   ],
   "source": [
    "df = pd.read_sql(\"\"\"\n",
    "        SELECT last_name\n",
    "        FROM employees\n",
    "        WHERE employee_id IN (SELECT manager_id\n",
    "                              FROM employees)\n",
    "        \"\"\",xedb)\n",
    "print(df)"
   ]
  },
  {
   "cell_type": "markdown",
   "metadata": {},
   "source": [
    "#### 관리자가 아닌 사원들의 이름을 조회"
   ]
  },
  {
   "cell_type": "code",
   "execution_count": 9,
   "metadata": {},
   "outputs": [
    {
     "name": "stdout",
     "output_type": "stream",
     "text": [
      "Empty DataFrame\n",
      "Columns: [LAST_NAME]\n",
      "Index: []\n"
     ]
    }
   ],
   "source": [
    "df = pd.read_sql(\"\"\"\n",
    "        SELECT last_name\n",
    "        FROM employees\n",
    "        WHERE employee_id NOT IN (SELECT manager_id\n",
    "                                  FROM employees)\n",
    "        \"\"\",xedb)\n",
    "print(df)\n",
    "\n",
    "# but 서브쿼리에 null값이 포함되어 있을 경우 조회가 되지않는다 (T and null = null)"
   ]
  },
  {
   "cell_type": "code",
   "execution_count": 10,
   "metadata": {},
   "outputs": [
    {
     "name": "stdout",
     "output_type": "stream",
     "text": [
      "     LAST_NAME\n",
      "0         Abel\n",
      "1         Ande\n",
      "2     Atkinson\n",
      "3       Austin\n",
      "4         Baer\n",
      "5        Baida\n",
      "6        Banda\n",
      "7        Bates\n",
      "8         Bell\n",
      "9    Bernstein\n",
      "10      Bissot\n",
      "11       Bloom\n",
      "12        Bull\n",
      "13      Cabrio\n",
      "14   Cambrault\n",
      "15        Chen\n",
      "16       Chung\n",
      "17  Colmenares\n",
      "18      Davies\n",
      "19   Dellinger\n",
      "20       Dilly\n",
      "21       Doran\n",
      "22       Ernst\n",
      "23     Everett\n",
      "24      Faviet\n",
      "25         Fay\n",
      "26      Feeney\n",
      "27      Fleaur\n",
      "28         Fox\n",
      "29       Gates\n",
      "..         ...\n",
      "59    OConnell\n",
      "60       Olsen\n",
      "61       Olson\n",
      "62        Ozer\n",
      "63   Pataballa\n",
      "64       Patel\n",
      "65     Perkins\n",
      "66  Philtanker\n",
      "67        Popp\n",
      "68        Rajs\n",
      "69      Rogers\n",
      "70    Sarchand\n",
      "71     Sciarra\n",
      "72         Seo\n",
      "73      Sewall\n",
      "74       Smith\n",
      "75       Smith\n",
      "76      Stiles\n",
      "77    Sullivan\n",
      "78       Sully\n",
      "79      Taylor\n",
      "80      Taylor\n",
      "81      Tobias\n",
      "82      Tucker\n",
      "83     Tuvault\n",
      "84       Urman\n",
      "85      Vargas\n",
      "86     Vishney\n",
      "87       Walsh\n",
      "88      Whalen\n",
      "\n",
      "[89 rows x 1 columns]\n"
     ]
    }
   ],
   "source": [
    "df = pd.read_sql(\"\"\"\n",
    "        SELECT  last_name\n",
    "        FROM  employees\n",
    "        WHERE  employee_id NOT IN (SELECT  manager_id\n",
    "                                   FROM employees\n",
    "                                   WHERE manager_id IS NOT NULL)\n",
    "        \"\"\",xedb)\n",
    "print(df)"
   ]
  },
  {
   "cell_type": "markdown",
   "metadata": {},
   "source": [
    "### < ANY >\n",
    "#### job_id 'IT_PROG'에서 최고 급여를 받는 사원보다 급여를 적게 받는 사원을 조회"
   ]
  },
  {
   "cell_type": "code",
   "execution_count": 11,
   "metadata": {},
   "outputs": [
    {
     "name": "stdout",
     "output_type": "stream",
     "text": [
      "    EMPLOYEE_ID    LAST_NAME      JOB_ID  SALARY\n",
      "0           104        Ernst     IT_PROG  6000.0\n",
      "1           105       Austin     IT_PROG  4800.0\n",
      "2           106    Pataballa     IT_PROG  4800.0\n",
      "3           107      Lorentz     IT_PROG  4200.0\n",
      "4           110         Chen  FI_ACCOUNT  8200.0\n",
      "5           111      Sciarra  FI_ACCOUNT  7700.0\n",
      "6           112        Urman  FI_ACCOUNT  7800.0\n",
      "7           113         Popp  FI_ACCOUNT  6900.0\n",
      "8           115         Khoo    PU_CLERK  3100.0\n",
      "9           116        Baida    PU_CLERK  2900.0\n",
      "10          117       Tobias    PU_CLERK  2800.0\n",
      "11          118       Himuro    PU_CLERK  2600.0\n",
      "12          119   Colmenares    PU_CLERK  2500.0\n",
      "13          120        Weiss      ST_MAN  8000.0\n",
      "14          121        Fripp      ST_MAN  8200.0\n",
      "15          122     Kaufling      ST_MAN  7900.0\n",
      "16          123      Vollman      ST_MAN  6500.0\n",
      "17          124      Mourgos      ST_MAN  5800.0\n",
      "18          125        Nayer    ST_CLERK  3200.0\n",
      "19          126  Mikkilineni    ST_CLERK  2700.0\n",
      "20          127       Landry    ST_CLERK  2400.0\n",
      "21          128       Markle    ST_CLERK  2200.0\n",
      "22          129       Bissot    ST_CLERK  3300.0\n",
      "23          130     Atkinson    ST_CLERK  2800.0\n",
      "24          131       Marlow    ST_CLERK  2500.0\n",
      "25          132        Olson    ST_CLERK  2100.0\n",
      "26          133       Mallin    ST_CLERK  3300.0\n",
      "27          134       Rogers    ST_CLERK  2900.0\n",
      "28          135          Gee    ST_CLERK  2400.0\n",
      "29          136   Philtanker    ST_CLERK  2200.0\n",
      "..          ...          ...         ...     ...\n",
      "50          173        Kumar      SA_REP  6100.0\n",
      "51          175       Hutton      SA_REP  8800.0\n",
      "52          176       Taylor      SA_REP  8600.0\n",
      "53          177   Livingston      SA_REP  8400.0\n",
      "54          178        Grant      SA_REP  7000.0\n",
      "55          179      Johnson      SA_REP  6200.0\n",
      "56          180       Taylor    SH_CLERK  3200.0\n",
      "57          181       Fleaur    SH_CLERK  3100.0\n",
      "58          182     Sullivan    SH_CLERK  2500.0\n",
      "59          183        Geoni    SH_CLERK  2800.0\n",
      "60          184     Sarchand    SH_CLERK  4200.0\n",
      "61          185         Bull    SH_CLERK  4100.0\n",
      "62          186    Dellinger    SH_CLERK  3400.0\n",
      "63          187       Cabrio    SH_CLERK  3000.0\n",
      "64          188        Chung    SH_CLERK  3800.0\n",
      "65          189        Dilly    SH_CLERK  3600.0\n",
      "66          190        Gates    SH_CLERK  2900.0\n",
      "67          191      Perkins    SH_CLERK  2500.0\n",
      "68          192         Bell    SH_CLERK  4000.0\n",
      "69          193      Everett    SH_CLERK  3900.0\n",
      "70          194       McCain    SH_CLERK  3200.0\n",
      "71          195        Jones    SH_CLERK  2800.0\n",
      "72          196        Walsh    SH_CLERK  3100.0\n",
      "73          197       Feeney    SH_CLERK  3000.0\n",
      "74          198     OConnell    SH_CLERK  2600.0\n",
      "75          199        Grant    SH_CLERK  2600.0\n",
      "76          200       Whalen     AD_ASST  4400.0\n",
      "77          202          Fay      MK_REP  6000.0\n",
      "78          203       Mavris      HR_REP  6500.0\n",
      "79          206        Gietz  AC_ACCOUNT  8300.0\n",
      "\n",
      "[80 rows x 4 columns]\n"
     ]
    }
   ],
   "source": [
    "df = pd.read_sql(\"\"\"\n",
    "        SELECT employee_id, last_name, job_id, salary\n",
    "        FROM employees\n",
    "        WHERE salary < (SELECT MAX(salary)\n",
    "                        FROM employees\n",
    "                        WHERE job_id = 'IT_PROG')\n",
    "        \"\"\",xedb)\n",
    "print(df)"
   ]
  },
  {
   "cell_type": "code",
   "execution_count": 12,
   "metadata": {},
   "outputs": [
    {
     "name": "stdout",
     "output_type": "stream",
     "text": [
      "    EMPLOYEE_ID    LAST_NAME      JOB_ID  SALARY\n",
      "0           132        Olson    ST_CLERK  2100.0\n",
      "1           128       Markle    ST_CLERK  2200.0\n",
      "2           136   Philtanker    ST_CLERK  2200.0\n",
      "3           127       Landry    ST_CLERK  2400.0\n",
      "4           135          Gee    ST_CLERK  2400.0\n",
      "5           119   Colmenares    PU_CLERK  2500.0\n",
      "6           131       Marlow    ST_CLERK  2500.0\n",
      "7           140        Patel    ST_CLERK  2500.0\n",
      "8           144       Vargas    ST_CLERK  2500.0\n",
      "9           182     Sullivan    SH_CLERK  2500.0\n",
      "10          191      Perkins    SH_CLERK  2500.0\n",
      "11          118       Himuro    PU_CLERK  2600.0\n",
      "12          143        Matos    ST_CLERK  2600.0\n",
      "13          198     OConnell    SH_CLERK  2600.0\n",
      "14          199        Grant    SH_CLERK  2600.0\n",
      "15          126  Mikkilineni    ST_CLERK  2700.0\n",
      "16          139          Seo    ST_CLERK  2700.0\n",
      "17          117       Tobias    PU_CLERK  2800.0\n",
      "18          130     Atkinson    ST_CLERK  2800.0\n",
      "19          183        Geoni    SH_CLERK  2800.0\n",
      "20          195        Jones    SH_CLERK  2800.0\n",
      "21          116        Baida    PU_CLERK  2900.0\n",
      "22          134       Rogers    ST_CLERK  2900.0\n",
      "23          190        Gates    SH_CLERK  2900.0\n",
      "24          187       Cabrio    SH_CLERK  3000.0\n",
      "25          197       Feeney    SH_CLERK  3000.0\n",
      "26          115         Khoo    PU_CLERK  3100.0\n",
      "27          142       Davies    ST_CLERK  3100.0\n",
      "28          181       Fleaur    SH_CLERK  3100.0\n",
      "29          196        Walsh    SH_CLERK  3100.0\n",
      "..          ...          ...         ...     ...\n",
      "50          104        Ernst     IT_PROG  6000.0\n",
      "51          202          Fay      MK_REP  6000.0\n",
      "52          173        Kumar      SA_REP  6100.0\n",
      "53          167        Banda      SA_REP  6200.0\n",
      "54          179      Johnson      SA_REP  6200.0\n",
      "55          166         Ande      SA_REP  6400.0\n",
      "56          123      Vollman      ST_MAN  6500.0\n",
      "57          203       Mavris      HR_REP  6500.0\n",
      "58          165          Lee      SA_REP  6800.0\n",
      "59          113         Popp  FI_ACCOUNT  6900.0\n",
      "60          155      Tuvault      SA_REP  7000.0\n",
      "61          161       Sewall      SA_REP  7000.0\n",
      "62          178        Grant      SA_REP  7000.0\n",
      "63          164      Marvins      SA_REP  7200.0\n",
      "64          172        Bates      SA_REP  7300.0\n",
      "65          171        Smith      SA_REP  7400.0\n",
      "66          154    Cambrault      SA_REP  7500.0\n",
      "67          160        Doran      SA_REP  7500.0\n",
      "68          111      Sciarra  FI_ACCOUNT  7700.0\n",
      "69          112        Urman  FI_ACCOUNT  7800.0\n",
      "70          122     Kaufling      ST_MAN  7900.0\n",
      "71          120        Weiss      ST_MAN  8000.0\n",
      "72          153        Olsen      SA_REP  8000.0\n",
      "73          159        Smith      SA_REP  8000.0\n",
      "74          110         Chen  FI_ACCOUNT  8200.0\n",
      "75          121        Fripp      ST_MAN  8200.0\n",
      "76          206        Gietz  AC_ACCOUNT  8300.0\n",
      "77          177   Livingston      SA_REP  8400.0\n",
      "78          176       Taylor      SA_REP  8600.0\n",
      "79          175       Hutton      SA_REP  8800.0\n",
      "\n",
      "[80 rows x 4 columns]\n"
     ]
    }
   ],
   "source": [
    "df = pd.read_sql(\"\"\"\n",
    "        SELECT employee_id, last_name, job_id, salary\n",
    "        FROM employees\n",
    "        WHERE salary < ANY (SELECT salary\n",
    "                            FROM employees\n",
    "                            where job_id='IT_PROG')\n",
    "        \"\"\",xedb)\n",
    "print(df)"
   ]
  },
  {
   "cell_type": "markdown",
   "metadata": {},
   "source": [
    "### < AND >\n",
    "#### job_id 'IT_PROG'에서 최저 급여를 받는 사원보다 급여를 적게 받는 사원을 조회"
   ]
  },
  {
   "cell_type": "code",
   "execution_count": 13,
   "metadata": {},
   "outputs": [
    {
     "name": "stdout",
     "output_type": "stream",
     "text": [
      "    EMPLOYEE_ID    LAST_NAME    JOB_ID  SALARY\n",
      "0           115         Khoo  PU_CLERK  3100.0\n",
      "1           116        Baida  PU_CLERK  2900.0\n",
      "2           117       Tobias  PU_CLERK  2800.0\n",
      "3           118       Himuro  PU_CLERK  2600.0\n",
      "4           119   Colmenares  PU_CLERK  2500.0\n",
      "5           125        Nayer  ST_CLERK  3200.0\n",
      "6           126  Mikkilineni  ST_CLERK  2700.0\n",
      "7           127       Landry  ST_CLERK  2400.0\n",
      "8           128       Markle  ST_CLERK  2200.0\n",
      "9           129       Bissot  ST_CLERK  3300.0\n",
      "10          130     Atkinson  ST_CLERK  2800.0\n",
      "11          131       Marlow  ST_CLERK  2500.0\n",
      "12          132        Olson  ST_CLERK  2100.0\n",
      "13          133       Mallin  ST_CLERK  3300.0\n",
      "14          134       Rogers  ST_CLERK  2900.0\n",
      "15          135          Gee  ST_CLERK  2400.0\n",
      "16          136   Philtanker  ST_CLERK  2200.0\n",
      "17          137       Ladwig  ST_CLERK  3600.0\n",
      "18          138       Stiles  ST_CLERK  3200.0\n",
      "19          139          Seo  ST_CLERK  2700.0\n",
      "20          140        Patel  ST_CLERK  2500.0\n",
      "21          141         Rajs  ST_CLERK  3500.0\n",
      "22          142       Davies  ST_CLERK  3100.0\n",
      "23          143        Matos  ST_CLERK  2600.0\n",
      "24          144       Vargas  ST_CLERK  2500.0\n",
      "25          180       Taylor  SH_CLERK  3200.0\n",
      "26          181       Fleaur  SH_CLERK  3100.0\n",
      "27          182     Sullivan  SH_CLERK  2500.0\n",
      "28          183        Geoni  SH_CLERK  2800.0\n",
      "29          185         Bull  SH_CLERK  4100.0\n",
      "30          186    Dellinger  SH_CLERK  3400.0\n",
      "31          187       Cabrio  SH_CLERK  3000.0\n",
      "32          188        Chung  SH_CLERK  3800.0\n",
      "33          189        Dilly  SH_CLERK  3600.0\n",
      "34          190        Gates  SH_CLERK  2900.0\n",
      "35          191      Perkins  SH_CLERK  2500.0\n",
      "36          192         Bell  SH_CLERK  4000.0\n",
      "37          193      Everett  SH_CLERK  3900.0\n",
      "38          194       McCain  SH_CLERK  3200.0\n",
      "39          195        Jones  SH_CLERK  2800.0\n",
      "40          196        Walsh  SH_CLERK  3100.0\n",
      "41          197       Feeney  SH_CLERK  3000.0\n",
      "42          198     OConnell  SH_CLERK  2600.0\n",
      "43          199        Grant  SH_CLERK  2600.0\n"
     ]
    }
   ],
   "source": [
    "df = pd.read_sql(\"\"\"\n",
    "        SELECT employee_id, last_name, job_id, salary\n",
    "        FROM employees\n",
    "        WHERE salary < (SELECT MIN(salary)\n",
    "                        FROM employees\n",
    "                        WHERE job_id = 'IT_PROG')\n",
    "        \"\"\",xedb)\n",
    "print(df)"
   ]
  },
  {
   "cell_type": "code",
   "execution_count": 14,
   "metadata": {},
   "outputs": [
    {
     "name": "stdout",
     "output_type": "stream",
     "text": [
      "    EMPLOYEE_ID    LAST_NAME    JOB_ID  SALARY\n",
      "0           185         Bull  SH_CLERK  4100.0\n",
      "1           192         Bell  SH_CLERK  4000.0\n",
      "2           193      Everett  SH_CLERK  3900.0\n",
      "3           188        Chung  SH_CLERK  3800.0\n",
      "4           189        Dilly  SH_CLERK  3600.0\n",
      "5           137       Ladwig  ST_CLERK  3600.0\n",
      "6           141         Rajs  ST_CLERK  3500.0\n",
      "7           186    Dellinger  SH_CLERK  3400.0\n",
      "8           133       Mallin  ST_CLERK  3300.0\n",
      "9           129       Bissot  ST_CLERK  3300.0\n",
      "10          125        Nayer  ST_CLERK  3200.0\n",
      "11          194       McCain  SH_CLERK  3200.0\n",
      "12          180       Taylor  SH_CLERK  3200.0\n",
      "13          138       Stiles  ST_CLERK  3200.0\n",
      "14          115         Khoo  PU_CLERK  3100.0\n",
      "15          196        Walsh  SH_CLERK  3100.0\n",
      "16          181       Fleaur  SH_CLERK  3100.0\n",
      "17          142       Davies  ST_CLERK  3100.0\n",
      "18          197       Feeney  SH_CLERK  3000.0\n",
      "19          187       Cabrio  SH_CLERK  3000.0\n",
      "20          116        Baida  PU_CLERK  2900.0\n",
      "21          190        Gates  SH_CLERK  2900.0\n",
      "22          134       Rogers  ST_CLERK  2900.0\n",
      "23          117       Tobias  PU_CLERK  2800.0\n",
      "24          195        Jones  SH_CLERK  2800.0\n",
      "25          183        Geoni  SH_CLERK  2800.0\n",
      "26          130     Atkinson  ST_CLERK  2800.0\n",
      "27          139          Seo  ST_CLERK  2700.0\n",
      "28          126  Mikkilineni  ST_CLERK  2700.0\n",
      "29          118       Himuro  PU_CLERK  2600.0\n",
      "30          199        Grant  SH_CLERK  2600.0\n",
      "31          198     OConnell  SH_CLERK  2600.0\n",
      "32          143        Matos  ST_CLERK  2600.0\n",
      "33          119   Colmenares  PU_CLERK  2500.0\n",
      "34          131       Marlow  ST_CLERK  2500.0\n",
      "35          191      Perkins  SH_CLERK  2500.0\n",
      "36          144       Vargas  ST_CLERK  2500.0\n",
      "37          182     Sullivan  SH_CLERK  2500.0\n",
      "38          140        Patel  ST_CLERK  2500.0\n",
      "39          135          Gee  ST_CLERK  2400.0\n",
      "40          127       Landry  ST_CLERK  2400.0\n",
      "41          136   Philtanker  ST_CLERK  2200.0\n",
      "42          128       Markle  ST_CLERK  2200.0\n",
      "43          132        Olson  ST_CLERK  2100.0\n"
     ]
    }
   ],
   "source": [
    "df = pd.read_sql(\"\"\"\n",
    "        SELECT employee_id, last_name, job_id, salary\n",
    "        FROM employees\n",
    "        WHERE salary < ALL(SELECT salary\n",
    "                           FROM employees\n",
    "                           WHERE job_id = 'IT_PROG')\n",
    "        \"\"\",xedb)\n",
    "print(df)"
   ]
  },
  {
   "cell_type": "markdown",
   "metadata": {},
   "source": [
    "## 5-3 MULTIPLE COLUMN SUBQUERY  \n",
    "### < 쌍비교방식 >"
   ]
  },
  {
   "cell_type": "code",
   "execution_count": 15,
   "metadata": {},
   "outputs": [
    {
     "name": "stdout",
     "output_type": "stream",
     "text": [
      "    EMPLOYEE_ID  MANAGER_ID  DEPARTMENT_ID\n",
      "0           137         123             50\n",
      "1           138         123             50\n",
      "2           139         123             50\n",
      "3           140         123             50\n",
      "4           192         123             50\n",
      "5           193         123             50\n",
      "6           194         123             50\n",
      "7           195         123             50\n",
      "8           145         100             80\n",
      "9           146         100             80\n",
      "10          147         100             80\n",
      "11          148         100             80\n",
      "12          149         100             80\n",
      "13          109         108            100\n",
      "14          110         108            100\n",
      "15          111         108            100\n",
      "16          112         108            100\n",
      "17          113         108            100\n"
     ]
    }
   ],
   "source": [
    "df = pd.read_sql(\"\"\"\n",
    "        SELECT employee_id, manager_id, department_id\n",
    "        FROM employees\n",
    "        WHERE (manager_id, department_id) IN (SELECT manager_id, department_id\n",
    "                                              FROM employees\n",
    "                                              WHERE first_name = 'John')\n",
    "        \"\"\",xedb)\n",
    "print(df)"
   ]
  },
  {
   "cell_type": "markdown",
   "metadata": {},
   "source": [
    "### < 비쌍비교방식 >"
   ]
  },
  {
   "cell_type": "code",
   "execution_count": 16,
   "metadata": {},
   "outputs": [
    {
     "name": "stdout",
     "output_type": "stream",
     "text": [
      "    EMPLOYEE_ID  MANAGER_ID  DEPARTMENT_ID\n",
      "0           120         100             50\n",
      "1           121         100             50\n",
      "2           122         100             50\n",
      "3           123         100             50\n",
      "4           124         100             50\n",
      "5           137         123             50\n",
      "6           138         123             50\n",
      "7           139         123             50\n",
      "8           140         123             50\n",
      "9           192         123             50\n",
      "10          193         123             50\n",
      "11          194         123             50\n",
      "12          195         123             50\n",
      "13          145         100             80\n",
      "14          146         100             80\n",
      "15          147         100             80\n",
      "16          148         100             80\n",
      "17          149         100             80\n",
      "18          109         108            100\n",
      "19          110         108            100\n",
      "20          111         108            100\n",
      "21          112         108            100\n",
      "22          113         108            100\n"
     ]
    }
   ],
   "source": [
    "df = pd.read_sql(\"\"\"\n",
    "        SELECT employee_id, manager_id, department_id\n",
    "        FROM employees\n",
    "        WHERE manager_id IN (SELECT manager_id\n",
    "                             FROM employees\n",
    "                             WHERE first_name = 'John')\n",
    "        AND department_id IN (SELECT department_id\n",
    "                             FROM employees\n",
    "                             WHERE first_name = 'John')\n",
    "        \"\"\",xedb)\n",
    "print(df)"
   ]
  },
  {
   "cell_type": "markdown",
   "metadata": {},
   "source": [
    "## 5-4 CORRELATED SUBQUERY \n",
    "* 메인쿼리의 컬럼이 서브쿼리에 포함되어 있는 경우\n",
    "* 메인쿼리의 값을 서브쿼리가 사용하고, 서브쿼리를 수행한 다음에 그 결과를 다시 메인쿼리로 반환해서 수행하는 구조 \n",
    "    (중첩서브쿼리의 경우 서브쿼리절이 먼저 수행되고, 그 다음에 메인쿼리가 수행되는 반면에 CORRELATED SUBQUERY는 메인쿼리가 먼저 수행이 된다.)"
   ]
  },
  {
   "cell_type": "markdown",
   "metadata": {},
   "source": [
    "#### 자신의 부서 평균급여보다 많은 급여를 받는 사원 조회\n",
    "    SELECT employee_id, salary, department_id\n",
    "    FROM employees\n",
    "    WHERE salary > 내 부서 평균급여 (SELECT avg(salary)\n",
    "                                   FROM employees\n",
    "                                   WHERE department_id=내 부서코드)\n",
    "     => 전체사원을 조회하게 된다.\n",
    "     => 그러므로 메인쿼리가 먼저 수행되어야 한다.\n",
    "     (메인쿼리의 row만큼 수행하기 때문에 부하가 심하다)\n"
   ]
  },
  {
   "cell_type": "code",
   "execution_count": 17,
   "metadata": {},
   "outputs": [
    {
     "name": "stdout",
     "output_type": "stream",
     "text": [
      "    LAST_NAME   SALARY  DEPARTMENT_ID\n",
      "0        King  24000.0             90\n",
      "1      Hunold   9000.0             60\n",
      "2       Ernst   6000.0             60\n",
      "3   Greenberg  12008.0            100\n",
      "4      Faviet   9000.0            100\n",
      "5    Raphaely  11000.0             30\n",
      "6       Weiss   8000.0             50\n",
      "7       Fripp   8200.0             50\n",
      "8    Kaufling   7900.0             50\n",
      "9     Vollman   6500.0             50\n",
      "10    Mourgos   5800.0             50\n",
      "11     Ladwig   3600.0             50\n",
      "12       Rajs   3500.0             50\n",
      "13    Russell  14000.0             80\n",
      "14   Partners  13500.0             80\n",
      "15  Errazuriz  12000.0             80\n",
      "16  Cambrault  11000.0             80\n",
      "17    Zlotkey  10500.0             80\n",
      "18     Tucker  10000.0             80\n",
      "19  Bernstein   9500.0             80\n",
      "20       Hall   9000.0             80\n",
      "21       King  10000.0             80\n",
      "22      Sully   9500.0             80\n",
      "23     McEwen   9000.0             80\n",
      "24    Vishney  10500.0             80\n",
      "25     Greene   9500.0             80\n",
      "26       Ozer  11500.0             80\n",
      "27      Bloom  10000.0             80\n",
      "28        Fox   9600.0             80\n",
      "29       Abel  11000.0             80\n",
      "30   Sarchand   4200.0             50\n",
      "31       Bull   4100.0             50\n",
      "32      Chung   3800.0             50\n",
      "33      Dilly   3600.0             50\n",
      "34       Bell   4000.0             50\n",
      "35    Everett   3900.0             50\n",
      "36  Hartstein  13000.0             20\n",
      "37    Higgins  12008.0            110\n"
     ]
    }
   ],
   "source": [
    "df = pd.read_sql(\"\"\"\n",
    "        SELECT last_name, salary, department_id\n",
    "        FROM employees o\n",
    "        WHERE salary > (SELECT AVG(salary)\n",
    "                        FROM employees \n",
    "                        WHERE department_id = o.department_id)\n",
    "        \"\"\",xedb)\n",
    "print(df)"
   ]
  },
  {
   "cell_type": "markdown",
   "metadata": {},
   "source": [
    "### < EXISTS, NOT EXISTS >\n",
    "#### 관리자인 사원들의 정보 출력\n",
    "    SELECT * \n",
    "    FROM employees\n",
    "    WHERE employee_id IN (SELECT manager_id\n",
    "                          FROM employees )\n",
    "   \n",
    "    =>서브쿼리를 먼저 수행하기 때문에 중복된 것 검색하는 불필요한 작업을 수행한다.\n",
    "    이 때 존재여부를 찾는 CORRELATED SUBQUERY의 연산자 EXISTS 사용\n",
    "    후보행 값이 서브쿼리에 존재하면 데이터검색을 종료하여 불필요한 작업수행X"
   ]
  },
  {
   "cell_type": "code",
   "execution_count": 18,
   "metadata": {},
   "outputs": [
    {
     "name": "stdout",
     "output_type": "stream",
     "text": [
      "    LAST_NAME\n",
      "0   Cambrault\n",
      "1     De Haan\n",
      "2   Errazuriz\n",
      "3       Fripp\n",
      "4   Greenberg\n",
      "5   Hartstein\n",
      "6     Higgins\n",
      "7      Hunold\n",
      "8    Kaufling\n",
      "9        King\n",
      "10    Kochhar\n",
      "11    Mourgos\n",
      "12   Partners\n",
      "13   Raphaely\n",
      "14    Russell\n",
      "15    Vollman\n",
      "16      Weiss\n",
      "17    Zlotkey\n"
     ]
    }
   ],
   "source": [
    "df = pd.read_sql(\"\"\"\n",
    "        SELECT last_name\n",
    "        FROM employees o\n",
    "        WHERE EXISTS (SELECT 'X'\n",
    "                      FROM employees\n",
    "                      WHERE manager_id = o.employee_id)\n",
    "        \"\"\",xedb)\n",
    "print(df)"
   ]
  },
  {
   "cell_type": "markdown",
   "metadata": {},
   "source": [
    "#### 관리자가 아닌 사원에 대해서 출력\n",
    "     SELECT last_name\n",
    "     FROM employees\n",
    "     WHERE employee_id NOT IN (SELECT manager_id\n",
    "                               FROM employees\n",
    "                               WHERE manager_id IS NOT NULL )"
   ]
  },
  {
   "cell_type": "code",
   "execution_count": 19,
   "metadata": {},
   "outputs": [
    {
     "name": "stdout",
     "output_type": "stream",
     "text": [
      "     LAST_NAME\n",
      "0         Abel\n",
      "1         Ande\n",
      "2     Atkinson\n",
      "3       Austin\n",
      "4         Baer\n",
      "5        Baida\n",
      "6        Banda\n",
      "7        Bates\n",
      "8         Bell\n",
      "9    Bernstein\n",
      "10      Bissot\n",
      "11       Bloom\n",
      "12        Bull\n",
      "13      Cabrio\n",
      "14   Cambrault\n",
      "15        Chen\n",
      "16       Chung\n",
      "17  Colmenares\n",
      "18      Davies\n",
      "19   Dellinger\n",
      "20       Dilly\n",
      "21       Doran\n",
      "22       Ernst\n",
      "23     Everett\n",
      "24      Faviet\n",
      "25         Fay\n",
      "26      Feeney\n",
      "27      Fleaur\n",
      "28         Fox\n",
      "29       Gates\n",
      "..         ...\n",
      "59    OConnell\n",
      "60       Olsen\n",
      "61       Olson\n",
      "62        Ozer\n",
      "63   Pataballa\n",
      "64       Patel\n",
      "65     Perkins\n",
      "66  Philtanker\n",
      "67        Popp\n",
      "68        Rajs\n",
      "69      Rogers\n",
      "70    Sarchand\n",
      "71     Sciarra\n",
      "72         Seo\n",
      "73      Sewall\n",
      "74       Smith\n",
      "75       Smith\n",
      "76      Stiles\n",
      "77    Sullivan\n",
      "78       Sully\n",
      "79      Taylor\n",
      "80      Taylor\n",
      "81      Tobias\n",
      "82      Tucker\n",
      "83     Tuvault\n",
      "84       Urman\n",
      "85      Vargas\n",
      "86     Vishney\n",
      "87       Walsh\n",
      "88      Whalen\n",
      "\n",
      "[89 rows x 1 columns]\n"
     ]
    }
   ],
   "source": [
    "df = pd.read_sql(\"\"\"\n",
    "        SELECT last_name\n",
    "        FROM employees o\n",
    "        WHERE NOT EXISTS (SELECT 'X'\n",
    "                          FROM employees\n",
    "                          WHERE manager_id = o.employee_id)\n",
    "        \"\"\",xedb)\n",
    "print(df)\n",
    "\n",
    "# NOT IN과 차이점 : 값이 존재하지 않는 데이터를 찾기 때문에 null값이 있어도 상관없다"
   ]
  },
  {
   "cell_type": "markdown",
   "metadata": {},
   "source": [
    "## 5-5 SCALAR SUBQUERY\n",
    "* SELECT절에서 사용하는 서브쿼리 \n",
    "* 한 개의 ROW만 반환하며 메인쿼리에서 추출되는 데이터 건수만큼 수행되기 때문에\n",
    "    JOIN으로 작업할 때 보다 수행횟수가 적다.\n",
    "* 일치하는 값이 없을 경우 NULL을 반환한다.\n",
    "* 캐시기능이 돌아가는 서브쿼리\n",
    "* 하나의 행에서 정확히 하나의 열 값을 반환하는 서브쿼리"
   ]
  },
  {
   "cell_type": "code",
   "execution_count": 20,
   "metadata": {},
   "outputs": [
    {
     "name": "stdout",
     "output_type": "stream",
     "text": [
      "      LAST_NAME  DEPARTMENT_ID  DEPARTMENT_ID  DEPARTMENT_NAME\n",
      "0        Whalen             10             10   Administration\n",
      "1           Fay             20             20        Marketing\n",
      "2     Hartstein             20             20        Marketing\n",
      "3        Tobias             30             30       Purchasing\n",
      "4    Colmenares             30             30       Purchasing\n",
      "5         Baida             30             30       Purchasing\n",
      "6      Raphaely             30             30       Purchasing\n",
      "7          Khoo             30             30       Purchasing\n",
      "8        Himuro             30             30       Purchasing\n",
      "9        Mavris             40             40  Human Resources\n",
      "10       Feeney             50             50         Shipping\n",
      "11       Fleaur             50             50         Shipping\n",
      "12        Fripp             50             50         Shipping\n",
      "13        Gates             50             50         Shipping\n",
      "14          Gee             50             50         Shipping\n",
      "15        Geoni             50             50         Shipping\n",
      "16        Grant             50             50         Shipping\n",
      "17        Jones             50             50         Shipping\n",
      "18     Kaufling             50             50         Shipping\n",
      "19       Ladwig             50             50         Shipping\n",
      "20      Everett             50             50         Shipping\n",
      "21        Dilly             50             50         Shipping\n",
      "22    Dellinger             50             50         Shipping\n",
      "23       Davies             50             50         Shipping\n",
      "24        Chung             50             50         Shipping\n",
      "25       Cabrio             50             50         Shipping\n",
      "26         Bull             50             50         Shipping\n",
      "27       Bissot             50             50         Shipping\n",
      "28         Bell             50             50         Shipping\n",
      "29     Atkinson             50             50         Shipping\n",
      "..          ...            ...            ...              ...\n",
      "76        Bates             80             80            Sales\n",
      "77        Banda             80             80            Sales\n",
      "78         Ande             80             80            Sales\n",
      "79         Abel             80             80            Sales\n",
      "80      Marvins             80             80            Sales\n",
      "81      Zlotkey             80             80            Sales\n",
      "82      Vishney             80             80            Sales\n",
      "83      Tuvault             80             80            Sales\n",
      "84       Tucker             80             80            Sales\n",
      "85       Taylor             80             80            Sales\n",
      "86        Sully             80             80            Sales\n",
      "87        Smith             80             80            Sales\n",
      "88        Smith             80             80            Sales\n",
      "89       Sewall             80             80            Sales\n",
      "90      Russell             80             80            Sales\n",
      "91       McEwen             80             80            Sales\n",
      "92        Olsen             80             80            Sales\n",
      "93         Ozer             80             80            Sales\n",
      "94     Partners             80             80            Sales\n",
      "95      Kochhar             90             90        Executive\n",
      "96         King             90             90        Executive\n",
      "97      De Haan             90             90        Executive\n",
      "98      Sciarra            100            100          Finance\n",
      "99       Faviet            100            100          Finance\n",
      "100   Greenberg            100            100          Finance\n",
      "101        Popp            100            100          Finance\n",
      "102       Urman            100            100          Finance\n",
      "103        Chen            100            100          Finance\n",
      "104     Higgins            110            110       Accounting\n",
      "105       Gietz            110            110       Accounting\n",
      "\n",
      "[106 rows x 4 columns]\n"
     ]
    }
   ],
   "source": [
    "df = pd.read_sql(\"\"\"\n",
    "        SELECT e.last_name, e.department_id, d.department_id, d.department_name\n",
    "        FROM employees e, departments d\n",
    "        WHERE e.department_id = d.department_id\n",
    "        ORDER BY 2,3\n",
    "        \"\"\",xedb)\n",
    "print(df)"
   ]
  },
  {
   "cell_type": "markdown",
   "metadata": {},
   "source": [
    "=> 동일한 인수값이 들어와도 반복적으로 결과를 출력하기 때문에 비효율적\n",
    "\n",
    "* 이 때 동일한 값이 들어오면 SELECT가 수행되지 않는 CACHE기능이 있어 효율적인 작업이 가능\n",
    "* NULL이 있어도 출력되기 때문에 OUTER JOIN의 기능이 포함된다.\n",
    "* 중복성이 많을수록 성능은 좋아지지만\n",
    "* 다중열을 표현할 수 없기 때문에 단일컬럼, 단일값만 수행할 수 있는 제약 \n"
   ]
  },
  {
   "cell_type": "code",
   "execution_count": 21,
   "metadata": {},
   "outputs": [
    {
     "name": "stdout",
     "output_type": "stream",
     "text": [
      "       LAST_NAME  DEPARTMENT_ID  DEPARTMENT_NAME\n",
      "0         Whalen           10.0   Administration\n",
      "1      Hartstein           20.0        Marketing\n",
      "2            Fay           20.0        Marketing\n",
      "3       Raphaely           30.0       Purchasing\n",
      "4           Khoo           30.0       Purchasing\n",
      "5          Baida           30.0       Purchasing\n",
      "6         Tobias           30.0       Purchasing\n",
      "7         Himuro           30.0       Purchasing\n",
      "8     Colmenares           30.0       Purchasing\n",
      "9         Mavris           40.0  Human Resources\n",
      "10         Weiss           50.0         Shipping\n",
      "11         Fripp           50.0         Shipping\n",
      "12      Kaufling           50.0         Shipping\n",
      "13       Vollman           50.0         Shipping\n",
      "14       Mourgos           50.0         Shipping\n",
      "15         Nayer           50.0         Shipping\n",
      "16   Mikkilineni           50.0         Shipping\n",
      "17        Landry           50.0         Shipping\n",
      "18        Markle           50.0         Shipping\n",
      "19        Bissot           50.0         Shipping\n",
      "20      Atkinson           50.0         Shipping\n",
      "21        Marlow           50.0         Shipping\n",
      "22         Olson           50.0         Shipping\n",
      "23        Mallin           50.0         Shipping\n",
      "24        Rogers           50.0         Shipping\n",
      "25           Gee           50.0         Shipping\n",
      "26    Philtanker           50.0         Shipping\n",
      "27        Ladwig           50.0         Shipping\n",
      "28        Stiles           50.0         Shipping\n",
      "29           Seo           50.0         Shipping\n",
      "..           ...            ...              ...\n",
      "77        Sewall           80.0            Sales\n",
      "78       Vishney           80.0            Sales\n",
      "79        Greene           80.0            Sales\n",
      "80       Marvins           80.0            Sales\n",
      "81           Lee           80.0            Sales\n",
      "82          Ande           80.0            Sales\n",
      "83         Banda           80.0            Sales\n",
      "84          Ozer           80.0            Sales\n",
      "85         Bloom           80.0            Sales\n",
      "86           Fox           80.0            Sales\n",
      "87         Smith           80.0            Sales\n",
      "88         Bates           80.0            Sales\n",
      "89         Kumar           80.0            Sales\n",
      "90          Abel           80.0            Sales\n",
      "91        Hutton           80.0            Sales\n",
      "92        Taylor           80.0            Sales\n",
      "93    Livingston           80.0            Sales\n",
      "94       Johnson           80.0            Sales\n",
      "95          King           90.0        Executive\n",
      "96       Kochhar           90.0        Executive\n",
      "97       De Haan           90.0        Executive\n",
      "98     Greenberg          100.0          Finance\n",
      "99        Faviet          100.0          Finance\n",
      "100         Chen          100.0          Finance\n",
      "101      Sciarra          100.0          Finance\n",
      "102        Urman          100.0          Finance\n",
      "103         Popp          100.0          Finance\n",
      "104      Higgins          110.0       Accounting\n",
      "105        Gietz          110.0       Accounting\n",
      "106        Grant            NaN             None\n",
      "\n",
      "[107 rows x 3 columns]\n"
     ]
    }
   ],
   "source": [
    "df = pd.read_sql(\"\"\"\n",
    "        SELECT e.last_name, e.department_id, (SELECT department_name\n",
    "                                                FROM departments\n",
    "                                                WHERE department_id = e.department_id) DEPARTMENT_NAME\n",
    "        FROM employees e\n",
    "        ORDER BY 2\n",
    "        \"\"\",xedb)\n",
    "print(df)"
   ]
  },
  {
   "cell_type": "markdown",
   "metadata": {},
   "source": [
    "## 5-6  INLINE VIEW\n",
    "* 가상테이블\n",
    "#### 자신의 부서 평균급여보다 많은 급여를 받는 사원 조회"
   ]
  },
  {
   "cell_type": "code",
   "execution_count": 22,
   "metadata": {},
   "outputs": [
    {
     "name": "stdout",
     "output_type": "stream",
     "text": [
      "    LAST_NAME   SALARY  DEPARTMENT_ID\n",
      "0        King  24000.0             90\n",
      "1      Hunold   9000.0             60\n",
      "2       Ernst   6000.0             60\n",
      "3   Greenberg  12008.0            100\n",
      "4      Faviet   9000.0            100\n",
      "5    Raphaely  11000.0             30\n",
      "6       Weiss   8000.0             50\n",
      "7       Fripp   8200.0             50\n",
      "8    Kaufling   7900.0             50\n",
      "9     Vollman   6500.0             50\n",
      "10    Mourgos   5800.0             50\n",
      "11     Ladwig   3600.0             50\n",
      "12       Rajs   3500.0             50\n",
      "13    Russell  14000.0             80\n",
      "14   Partners  13500.0             80\n",
      "15  Errazuriz  12000.0             80\n",
      "16  Cambrault  11000.0             80\n",
      "17    Zlotkey  10500.0             80\n",
      "18     Tucker  10000.0             80\n",
      "19  Bernstein   9500.0             80\n",
      "20       Hall   9000.0             80\n",
      "21       King  10000.0             80\n",
      "22      Sully   9500.0             80\n",
      "23     McEwen   9000.0             80\n",
      "24    Vishney  10500.0             80\n",
      "25     Greene   9500.0             80\n",
      "26       Ozer  11500.0             80\n",
      "27      Bloom  10000.0             80\n",
      "28        Fox   9600.0             80\n",
      "29       Abel  11000.0             80\n",
      "30   Sarchand   4200.0             50\n",
      "31       Bull   4100.0             50\n",
      "32      Chung   3800.0             50\n",
      "33      Dilly   3600.0             50\n",
      "34       Bell   4000.0             50\n",
      "35    Everett   3900.0             50\n",
      "36  Hartstein  13000.0             20\n",
      "37    Higgins  12008.0            110\n"
     ]
    }
   ],
   "source": [
    "df = pd.read_sql(\"\"\"\n",
    "        SELECT last_name, salary, department_id\n",
    "        FROM employees o\n",
    "        WHERE salary > (SELECT avg(salary)\n",
    "                        FROM employees\n",
    "                        WHERE department_id = o.department_id)\n",
    "        \"\"\",xedb)\n",
    "print(df)"
   ]
  },
  {
   "cell_type": "markdown",
   "metadata": {},
   "source": [
    "비효율적인 서브쿼리를 개선하기 위해서 부서별 평균급여가 있는 테이블을 가상으로 만든다."
   ]
  },
  {
   "cell_type": "code",
   "execution_count": 23,
   "metadata": {},
   "outputs": [
    {
     "name": "stdout",
     "output_type": "stream",
     "text": [
      "    LAST_NAME   SALARY  DEPARTMENT_ID\n",
      "0        King  24000.0             90\n",
      "1      Hunold   9000.0             60\n",
      "2       Ernst   6000.0             60\n",
      "3   Greenberg  12008.0            100\n",
      "4      Faviet   9000.0            100\n",
      "5    Raphaely  11000.0             30\n",
      "6       Weiss   8000.0             50\n",
      "7       Fripp   8200.0             50\n",
      "8    Kaufling   7900.0             50\n",
      "9     Vollman   6500.0             50\n",
      "10    Mourgos   5800.0             50\n",
      "11     Ladwig   3600.0             50\n",
      "12       Rajs   3500.0             50\n",
      "13    Russell  14000.0             80\n",
      "14   Partners  13500.0             80\n",
      "15  Errazuriz  12000.0             80\n",
      "16  Cambrault  11000.0             80\n",
      "17    Zlotkey  10500.0             80\n",
      "18     Tucker  10000.0             80\n",
      "19  Bernstein   9500.0             80\n",
      "20       Hall   9000.0             80\n",
      "21       King  10000.0             80\n",
      "22      Sully   9500.0             80\n",
      "23     McEwen   9000.0             80\n",
      "24    Vishney  10500.0             80\n",
      "25     Greene   9500.0             80\n",
      "26       Ozer  11500.0             80\n",
      "27      Bloom  10000.0             80\n",
      "28        Fox   9600.0             80\n",
      "29       Abel  11000.0             80\n",
      "30   Sarchand   4200.0             50\n",
      "31       Bull   4100.0             50\n",
      "32      Chung   3800.0             50\n",
      "33      Dilly   3600.0             50\n",
      "34       Bell   4000.0             50\n",
      "35    Everett   3900.0             50\n",
      "36  Hartstein  13000.0             20\n",
      "37    Higgins  12008.0            110\n"
     ]
    }
   ],
   "source": [
    "df = pd.read_sql(\"\"\"\n",
    "        SELECT e2.last_name, e2.salary, e2.department_id\n",
    "        FROM (SELECT department_id, avg(salary) avgsal\n",
    "              FROM employees\n",
    "              GROUP BY department_id) e1, employees e2\n",
    "        WHERE e1.department_id = e2.department_id\n",
    "        AND e2.salary > e1.avgsal\n",
    "        \"\"\",xedb)\n",
    "print(df)"
   ]
  },
  {
   "cell_type": "markdown",
   "metadata": {},
   "source": [
    "#### 부서별 총액급여 조회"
   ]
  },
  {
   "cell_type": "code",
   "execution_count": 24,
   "metadata": {},
   "outputs": [
    {
     "name": "stdout",
     "output_type": "stream",
     "text": [
      "     DEPARTMENT_NAME  SUMSAL\n",
      "0     Administration    4400\n",
      "1          Marketing   19000\n",
      "2         Purchasing   24900\n",
      "3    Human Resources    6500\n",
      "4           Shipping  156400\n",
      "5                 IT   28800\n",
      "6   Public Relations   10000\n",
      "7              Sales  304500\n",
      "8          Executive   58000\n",
      "9            Finance   51608\n",
      "10        Accounting   20308\n"
     ]
    }
   ],
   "source": [
    "df = pd.read_sql(\"\"\"\n",
    "        SELECT d.department_name, sumsal\n",
    "        FROM (SELECT department_id, sum(salary) sumsal\n",
    "              FROM employees\n",
    "              GROUP BY department_id)e, departments d\n",
    "        WHERE e.department_id=d.department_id\n",
    "        \"\"\",xedb)\n",
    "print(df)"
   ]
  },
  {
   "cell_type": "markdown",
   "metadata": {},
   "source": [
    "=> INLINE VIEW는 오브젝트가 아니기 때문에 호출할 수 없다. \n",
    "즉 가공하여 다시 사용하지 못한다. 이 제약을 해결하기 위해 WITH절 사용"
   ]
  },
  {
   "cell_type": "markdown",
   "metadata": {},
   "source": [
    "## 5-7 WITH\n",
    "* WITH절 내에 퀄리블락(가상집합)을 생성한 후에 SELECT문에서 바로 사용\n",
    "* 그러나 WITH 역시 오브젝트가 아니기 때문에 다른 쿼리문에서는 사용하지 못한다."
   ]
  },
  {
   "cell_type": "code",
   "execution_count": 25,
   "metadata": {},
   "outputs": [
    {
     "name": "stdout",
     "output_type": "stream",
     "text": [
      "  DEPARTMENT_NAME  DEPT_TOTAL\n",
      "0           Sales      304500\n",
      "1        Shipping      156400\n"
     ]
    }
   ],
   "source": [
    "df = pd.read_sql(\"\"\"\n",
    "        WITH\n",
    "        dept_costs AS (SELECT d.department_name, SUM(e.salary) dept_total\n",
    "                       FROM employees e\n",
    "                       JOIN departments d\n",
    "                       ON e.department_id = d.department_id\n",
    "                       GROUP BY d.department_name),\n",
    "        avg_cost AS (SELECT SUM(dept_total)/COUNT(*) dept_avg\n",
    "                     FROM dept_costs)\n",
    "        \n",
    "        SELECT *\n",
    "        FROM dept_costs\n",
    "        WHERE dept_total > (SELECT dept_avg\n",
    "                            FROM avg_cost)\n",
    "                            ORDER BY department_name\n",
    "        \"\"\",xedb)\n",
    "print(df)"
   ]
  },
  {
   "cell_type": "markdown",
   "metadata": {},
   "source": [
    "***\n",
    "# [ 더 연습문제 ]"
   ]
  },
  {
   "cell_type": "markdown",
   "metadata": {
    "collapsed": true
   },
   "source": [
    "* ##  IN, ANY, ALL \n",
    "#### (1) 사원전체의 평균급여보다 급여를 많이 받는 사원의 정보를 조회하세요"
   ]
  },
  {
   "cell_type": "code",
   "execution_count": 26,
   "metadata": {},
   "outputs": [
    {
     "name": "stdout",
     "output_type": "stream",
     "text": [
      "    EMPLOYEE_ID   LAST_NAME   SALARY\n",
      "0           100        King  24000.0\n",
      "1           101     Kochhar  17000.0\n",
      "2           102     De Haan  17000.0\n",
      "3           103      Hunold   9000.0\n",
      "4           108   Greenberg  12008.0\n",
      "5           109      Faviet   9000.0\n",
      "6           110        Chen   8200.0\n",
      "7           111     Sciarra   7700.0\n",
      "8           112       Urman   7800.0\n",
      "9           113        Popp   6900.0\n",
      "10          114    Raphaely  11000.0\n",
      "11          120       Weiss   8000.0\n",
      "12          121       Fripp   8200.0\n",
      "13          122    Kaufling   7900.0\n",
      "14          123     Vollman   6500.0\n",
      "15          145     Russell  14000.0\n",
      "16          146    Partners  13500.0\n",
      "17          147   Errazuriz  12000.0\n",
      "18          148   Cambrault  11000.0\n",
      "19          149     Zlotkey  10500.0\n",
      "20          150      Tucker  10000.0\n",
      "21          151   Bernstein   9500.0\n",
      "22          152        Hall   9000.0\n",
      "23          153       Olsen   8000.0\n",
      "24          154   Cambrault   7500.0\n",
      "25          155     Tuvault   7000.0\n",
      "26          156        King  10000.0\n",
      "27          157       Sully   9500.0\n",
      "28          158      McEwen   9000.0\n",
      "29          159       Smith   8000.0\n",
      "30          160       Doran   7500.0\n",
      "31          161      Sewall   7000.0\n",
      "32          162     Vishney  10500.0\n",
      "33          163      Greene   9500.0\n",
      "34          164     Marvins   7200.0\n",
      "35          165         Lee   6800.0\n",
      "36          168        Ozer  11500.0\n",
      "37          169       Bloom  10000.0\n",
      "38          170         Fox   9600.0\n",
      "39          171       Smith   7400.0\n",
      "40          172       Bates   7300.0\n",
      "41          174        Abel  11000.0\n",
      "42          175      Hutton   8800.0\n",
      "43          176      Taylor   8600.0\n",
      "44          177  Livingston   8400.0\n",
      "45          178       Grant   7000.0\n",
      "46          201   Hartstein  13000.0\n",
      "47          203      Mavris   6500.0\n",
      "48          204        Baer  10000.0\n",
      "49          205     Higgins  12008.0\n",
      "50          206       Gietz   8300.0\n"
     ]
    }
   ],
   "source": [
    "df = pd.read_sql(\"\"\"\n",
    "        SELECT employee_id, last_name, salary\n",
    "        FROM employees\n",
    "        WHERE salary >= (SELECT avg(salary)\n",
    "                         FROM employees)\n",
    "        \"\"\",xedb)\n",
    "print(df)"
   ]
  },
  {
   "cell_type": "markdown",
   "metadata": {},
   "source": [
    "#### (2) last_name에 'u'가 있는 사원과 같은 부서에 근무하는 사원의 정보를 조회하세요"
   ]
  },
  {
   "cell_type": "code",
   "execution_count": 27,
   "metadata": {},
   "outputs": [
    {
     "name": "stdout",
     "output_type": "stream",
     "text": [
      "    EMPLOYEE_ID   LAST_NAME\n",
      "0           107     Lorentz\n",
      "1           106   Pataballa\n",
      "2           105      Austin\n",
      "3           104       Ernst\n",
      "4           103      Hunold\n",
      "5           199       Grant\n",
      "6           198    OConnell\n",
      "7           197      Feeney\n",
      "8           196       Walsh\n",
      "9           195       Jones\n",
      "10          194      McCain\n",
      "11          193     Everett\n",
      "12          192        Bell\n",
      "13          191     Perkins\n",
      "14          190       Gates\n",
      "15          189       Dilly\n",
      "16          188       Chung\n",
      "17          187      Cabrio\n",
      "18          186   Dellinger\n",
      "19          185        Bull\n",
      "20          184    Sarchand\n",
      "21          183       Geoni\n",
      "22          182    Sullivan\n",
      "23          181      Fleaur\n",
      "24          180      Taylor\n",
      "25          144      Vargas\n",
      "26          143       Matos\n",
      "27          142      Davies\n",
      "28          141        Rajs\n",
      "29          140       Patel\n",
      "..          ...         ...\n",
      "60          168        Ozer\n",
      "61          167       Banda\n",
      "62          166        Ande\n",
      "63          165         Lee\n",
      "64          164     Marvins\n",
      "65          163      Greene\n",
      "66          162     Vishney\n",
      "67          161      Sewall\n",
      "68          160       Doran\n",
      "69          159       Smith\n",
      "70          158      McEwen\n",
      "71          157       Sully\n",
      "72          156        King\n",
      "73          155     Tuvault\n",
      "74          154   Cambrault\n",
      "75          153       Olsen\n",
      "76          152        Hall\n",
      "77          151   Bernstein\n",
      "78          150      Tucker\n",
      "79          149     Zlotkey\n",
      "80          148   Cambrault\n",
      "81          147   Errazuriz\n",
      "82          146    Partners\n",
      "83          145     Russell\n",
      "84          119  Colmenares\n",
      "85          118      Himuro\n",
      "86          117      Tobias\n",
      "87          116       Baida\n",
      "88          115        Khoo\n",
      "89          114    Raphaely\n",
      "\n",
      "[90 rows x 2 columns]\n"
     ]
    }
   ],
   "source": [
    "df = pd.read_sql(\"\"\"\n",
    "        SELECT employee_id, last_name\n",
    "        FROM employees\n",
    "        WHERE department_id IN (SELECT department_id\n",
    "                                FROM employees\n",
    "                                WHERE last_name LIKE '%u%')\n",
    "        \"\"\",xedb)\n",
    "print(df)"
   ]
  },
  {
   "cell_type": "markdown",
   "metadata": {},
   "source": [
    "#### (3) location_id가 1700 인 사원의 last_name, department_id, job_id를 조회하세요."
   ]
  },
  {
   "cell_type": "code",
   "execution_count": 28,
   "metadata": {},
   "outputs": [
    {
     "name": "stdout",
     "output_type": "stream",
     "text": [
      "     LAST_NAME  DEPARTMENT_ID      JOB_ID\n",
      "0         King             90     AD_PRES\n",
      "1      Kochhar             90       AD_VP\n",
      "2      De Haan             90       AD_VP\n",
      "3    Greenberg            100      FI_MGR\n",
      "4       Faviet            100  FI_ACCOUNT\n",
      "5         Chen            100  FI_ACCOUNT\n",
      "6      Sciarra            100  FI_ACCOUNT\n",
      "7        Urman            100  FI_ACCOUNT\n",
      "8         Popp            100  FI_ACCOUNT\n",
      "9     Raphaely             30      PU_MAN\n",
      "10        Khoo             30    PU_CLERK\n",
      "11       Baida             30    PU_CLERK\n",
      "12      Tobias             30    PU_CLERK\n",
      "13      Himuro             30    PU_CLERK\n",
      "14  Colmenares             30    PU_CLERK\n",
      "15      Whalen             10     AD_ASST\n",
      "16     Higgins            110      AC_MGR\n",
      "17       Gietz            110  AC_ACCOUNT\n"
     ]
    }
   ],
   "source": [
    "df = pd.read_sql(\"\"\"\n",
    "        SELECT last_name, department_id, job_id\n",
    "        FROM employees\n",
    "        WHERE department_id IN (SELECT department_id\n",
    "                                FROM departments\n",
    "                                WHERE location_id = 1700)\n",
    "        \"\"\",xedb)\n",
    "print(df)"
   ]
  },
  {
   "cell_type": "code",
   "execution_count": 29,
   "metadata": {},
   "outputs": [
    {
     "name": "stdout",
     "output_type": "stream",
     "text": [
      "     LAST_NAME  DEPARTMENT_ID      JOB_ID\n",
      "0         King             90     AD_PRES\n",
      "1      Kochhar             90       AD_VP\n",
      "2      De Haan             90       AD_VP\n",
      "3    Greenberg            100      FI_MGR\n",
      "4       Faviet            100  FI_ACCOUNT\n",
      "5         Chen            100  FI_ACCOUNT\n",
      "6      Sciarra            100  FI_ACCOUNT\n",
      "7        Urman            100  FI_ACCOUNT\n",
      "8         Popp            100  FI_ACCOUNT\n",
      "9     Raphaely             30      PU_MAN\n",
      "10        Khoo             30    PU_CLERK\n",
      "11       Baida             30    PU_CLERK\n",
      "12      Tobias             30    PU_CLERK\n",
      "13      Himuro             30    PU_CLERK\n",
      "14  Colmenares             30    PU_CLERK\n",
      "15      Whalen             10     AD_ASST\n",
      "16     Higgins            110      AC_MGR\n",
      "17       Gietz            110  AC_ACCOUNT\n"
     ]
    }
   ],
   "source": [
    "df = pd.read_sql(\"\"\"\n",
    "        SELECT e.last_name, e.department_id, e.job_id\n",
    "        FROM employees e, departments d\n",
    "        WHERE e.department_id = d.department_id\n",
    "        AND d.location_id = 1700\n",
    "        \"\"\",xedb)\n",
    "print(df)"
   ]
  },
  {
   "cell_type": "markdown",
   "metadata": {},
   "source": [
    "#### (4) King에게 결재보고하는 사원의 이름과 급여를 조회하세요."
   ]
  },
  {
   "cell_type": "code",
   "execution_count": 30,
   "metadata": {},
   "outputs": [
    {
     "name": "stdout",
     "output_type": "stream",
     "text": [
      "    LAST_NAME   SALARY\n",
      "0     Kochhar  17000.0\n",
      "1     De Haan  17000.0\n",
      "2    Raphaely  11000.0\n",
      "3       Weiss   8000.0\n",
      "4       Fripp   8200.0\n",
      "5    Kaufling   7900.0\n",
      "6     Vollman   6500.0\n",
      "7     Mourgos   5800.0\n",
      "8     Russell  14000.0\n",
      "9    Partners  13500.0\n",
      "10  Errazuriz  12000.0\n",
      "11  Cambrault  11000.0\n",
      "12    Zlotkey  10500.0\n",
      "13  Hartstein  13000.0\n"
     ]
    }
   ],
   "source": [
    "df = pd.read_sql(\"\"\"\n",
    "        SELECT last_name, salary\n",
    "        FROM employees\n",
    "        WHERE manager_id IN (SELECT employee_id\n",
    "                             FROM employees\n",
    "                             WHERE last_name = 'King')\n",
    "        \"\"\",xedb)\n",
    "print(df)"
   ]
  },
  {
   "cell_type": "code",
   "execution_count": 31,
   "metadata": {},
   "outputs": [
    {
     "name": "stdout",
     "output_type": "stream",
     "text": [
      "    WORK_ID  WORK_NAME\n",
      "0       101    Kochhar\n",
      "1       102    De Haan\n",
      "2       114   Raphaely\n",
      "3       120      Weiss\n",
      "4       121      Fripp\n",
      "5       122   Kaufling\n",
      "6       123    Vollman\n",
      "7       124    Mourgos\n",
      "8       145    Russell\n",
      "9       146   Partners\n",
      "10      147  Errazuriz\n",
      "11      148  Cambrault\n",
      "12      149    Zlotkey\n",
      "13      201  Hartstein\n"
     ]
    }
   ],
   "source": [
    "df = pd.read_sql(\"\"\"\n",
    "        SELECT w.employee_id work_id, w.last_name work_name\n",
    "        FROM employees w, employees m\n",
    "        WHERE w.manager_id = m.employee_id\n",
    "        AND m.last_name = 'King'\n",
    "        \"\"\",xedb)\n",
    "print(df)"
   ]
  },
  {
   "cell_type": "markdown",
   "metadata": {},
   "source": [
    "#### (5) Executive부서의 모든 사원에 대한 department_id, last_name, job_id 출력하세요."
   ]
  },
  {
   "cell_type": "code",
   "execution_count": 32,
   "metadata": {},
   "outputs": [
    {
     "name": "stdout",
     "output_type": "stream",
     "text": [
      "   DEPARTMENT_ID LAST_NAME   JOB_ID\n",
      "0             90      King  AD_PRES\n",
      "1             90   Kochhar    AD_VP\n",
      "2             90   De Haan    AD_VP\n"
     ]
    }
   ],
   "source": [
    "df = pd.read_sql(\"\"\"\n",
    "        SELECT department_id, last_name, job_id\n",
    "        FROM employees\n",
    "        WHERE department_id IN (SELECT department_id\n",
    "                                FROM departments\n",
    "                                WHERE department_name = 'Executive')\n",
    "        \"\"\",xedb)\n",
    "print(df)"
   ]
  },
  {
   "cell_type": "code",
   "execution_count": 33,
   "metadata": {},
   "outputs": [
    {
     "name": "stdout",
     "output_type": "stream",
     "text": [
      "   DEPARTMENT_ID LAST_NAME   JOB_ID\n",
      "0             90      King  AD_PRES\n",
      "1             90   Kochhar    AD_VP\n",
      "2             90   De Haan    AD_VP\n"
     ]
    }
   ],
   "source": [
    "df = pd.read_sql(\"\"\"\n",
    "        SELECT e.department_id, e.last_name, e.job_id\n",
    "        FROM employees e, departments d\n",
    "        WHERE e.department_id = d.department_id\n",
    "        AND department_name = 'Executive'\n",
    "        \"\"\",xedb)\n",
    "print(df)"
   ]
  },
  {
   "cell_type": "markdown",
   "metadata": {},
   "source": [
    "#### (6) 부서 60에 소속된 사원의 급여보다 높은 급여를 받는 모든 사원을 조회하세요."
   ]
  },
  {
   "cell_type": "code",
   "execution_count": 34,
   "metadata": {},
   "outputs": [
    {
     "name": "stdout",
     "output_type": "stream",
     "text": [
      "    LAST_NAME\n",
      "0       Sully\n",
      "1      Greene\n",
      "2   Bernstein\n",
      "3         Fox\n",
      "4        Baer\n",
      "5       Bloom\n",
      "6        King\n",
      "7      Tucker\n",
      "8     Vishney\n",
      "9     Zlotkey\n",
      "10  Cambrault\n",
      "11   Raphaely\n",
      "12       Abel\n",
      "13       Ozer\n",
      "14  Errazuriz\n",
      "15    Higgins\n",
      "16  Greenberg\n",
      "17  Hartstein\n",
      "18   Partners\n",
      "19    Russell\n",
      "20    De Haan\n",
      "21    Kochhar\n",
      "22       King\n"
     ]
    }
   ],
   "source": [
    "df = pd.read_sql(\"\"\"\n",
    "        SELECT last_name\n",
    "        FROM employees\n",
    "        WHERE salary > ALL (SELECT salary\n",
    "                            FROM employees\n",
    "                            WHERE department_id=60)\n",
    "        \"\"\",xedb)\n",
    "print(df)"
   ]
  },
  {
   "cell_type": "code",
   "execution_count": 35,
   "metadata": {},
   "outputs": [
    {
     "name": "stdout",
     "output_type": "stream",
     "text": [
      "    LAST_NAME\n",
      "0        King\n",
      "1     Kochhar\n",
      "2     De Haan\n",
      "3   Greenberg\n",
      "4    Raphaely\n",
      "5     Russell\n",
      "6    Partners\n",
      "7   Errazuriz\n",
      "8   Cambrault\n",
      "9     Zlotkey\n",
      "10     Tucker\n",
      "11  Bernstein\n",
      "12       King\n",
      "13      Sully\n",
      "14    Vishney\n",
      "15     Greene\n",
      "16       Ozer\n",
      "17      Bloom\n",
      "18        Fox\n",
      "19       Abel\n",
      "20  Hartstein\n",
      "21       Baer\n",
      "22    Higgins\n"
     ]
    }
   ],
   "source": [
    "df = pd.read_sql(\"\"\"\n",
    "        SELECT last_name\n",
    "        FROM employees\n",
    "        WHERE salary > (SELECT max(salary)\n",
    "                        FROM employees\n",
    "                        WHERE department_id=60)\n",
    "        \"\"\",xedb)\n",
    "print(df)"
   ]
  },
  {
   "cell_type": "markdown",
   "metadata": {},
   "source": [
    "#### (7) IT 부서 사원에 대한 employee_id, last_name, job_id을 조회하세요."
   ]
  },
  {
   "cell_type": "code",
   "execution_count": 36,
   "metadata": {},
   "outputs": [
    {
     "name": "stdout",
     "output_type": "stream",
     "text": [
      "   EMPLOYEE_ID  LAST_NAME   JOB_ID\n",
      "0          103     Hunold  IT_PROG\n",
      "1          104      Ernst  IT_PROG\n",
      "2          105     Austin  IT_PROG\n",
      "3          106  Pataballa  IT_PROG\n",
      "4          107    Lorentz  IT_PROG\n"
     ]
    }
   ],
   "source": [
    "df = pd.read_sql(\"\"\"\n",
    "        SELECT employee_id, last_name, job_id\n",
    "        FROM employees\n",
    "        WHERE department_id = (SELECT department_id\n",
    "                               FROM departments\n",
    "                               WHERE department_name = 'IT')\n",
    "        \"\"\",xedb)\n",
    "print(df)"
   ]
  },
  {
   "cell_type": "code",
   "execution_count": 37,
   "metadata": {},
   "outputs": [
    {
     "name": "stdout",
     "output_type": "stream",
     "text": [
      "   EMPLOYEE_ID  LAST_NAME   JOB_ID\n",
      "0          103     Hunold  IT_PROG\n",
      "1          104      Ernst  IT_PROG\n",
      "2          105     Austin  IT_PROG\n",
      "3          106  Pataballa  IT_PROG\n",
      "4          107    Lorentz  IT_PROG\n"
     ]
    }
   ],
   "source": [
    "df = pd.read_sql(\"\"\"\n",
    "        SELECT e.employee_id, e.last_name, e.job_id\n",
    "        FROM employees e, departments d\n",
    "        WHERE e.department_id = d.department_id\n",
    "        AND d.department_name = 'IT'\n",
    "        \"\"\",xedb)\n",
    "print(df)"
   ]
  },
  {
   "cell_type": "markdown",
   "metadata": {},
   "source": [
    "#### (8) 전체 사원의 평균 급여보다 급여를 많이 받고, last_name에 \"u\"가 포함된 사원이 있는 부서에서 근무하는 모든 사원의 employee_id, last_name, salary을 조회하세요"
   ]
  },
  {
   "cell_type": "code",
   "execution_count": 38,
   "metadata": {},
   "outputs": [
    {
     "name": "stdout",
     "output_type": "stream",
     "text": [
      "    EMPLOYEE_ID   LAST_NAME   SALARY\n",
      "0           103      Hunold   9000.0\n",
      "1           123     Vollman   6500.0\n",
      "2           122    Kaufling   7900.0\n",
      "3           121       Fripp   8200.0\n",
      "4           120       Weiss   8000.0\n",
      "5           177  Livingston   8400.0\n",
      "6           176      Taylor   8600.0\n",
      "7           175      Hutton   8800.0\n",
      "8           174        Abel  11000.0\n",
      "9           172       Bates   7300.0\n",
      "10          171       Smith   7400.0\n",
      "11          170         Fox   9600.0\n",
      "12          169       Bloom  10000.0\n",
      "13          168        Ozer  11500.0\n",
      "14          165         Lee   6800.0\n",
      "15          164     Marvins   7200.0\n",
      "16          163      Greene   9500.0\n",
      "17          162     Vishney  10500.0\n",
      "18          161      Sewall   7000.0\n",
      "19          160       Doran   7500.0\n",
      "20          159       Smith   8000.0\n",
      "21          158      McEwen   9000.0\n",
      "22          157       Sully   9500.0\n",
      "23          156        King  10000.0\n",
      "24          155     Tuvault   7000.0\n",
      "25          154   Cambrault   7500.0\n",
      "26          153       Olsen   8000.0\n",
      "27          152        Hall   9000.0\n",
      "28          151   Bernstein   9500.0\n",
      "29          150      Tucker  10000.0\n",
      "30          149     Zlotkey  10500.0\n",
      "31          148   Cambrault  11000.0\n",
      "32          147   Errazuriz  12000.0\n",
      "33          146    Partners  13500.0\n",
      "34          145     Russell  14000.0\n",
      "35          114    Raphaely  11000.0\n"
     ]
    }
   ],
   "source": [
    "df = pd.read_sql(\"\"\"\n",
    "        SELECT employee_id, last_name, salary\n",
    "        FROM employees\n",
    "        WHERE department_id IN (SELECT department_id\n",
    "                                FROM employees\n",
    "                                WHERE last_name like '%u%')\n",
    "        AND salary >(SELECT AVG(salary) \n",
    "                     FROM employees)\n",
    "        \"\"\",xedb)\n",
    "print(df)"
   ]
  },
  {
   "cell_type": "markdown",
   "metadata": {},
   "source": [
    "* ## EXISTS\n",
    "#### (9) 같은 부서에서 자신보다 입사한 날짜는 늦지만 더 높은 급여를 받는 사원을 조회하세요"
   ]
  },
  {
   "cell_type": "code",
   "execution_count": 39,
   "metadata": {},
   "outputs": [
    {
     "name": "stdout",
     "output_type": "stream",
     "text": [
      "    EMPLOYEE_ID   FIRST_NAME  HIRE_DATE   SALARY\n",
      "0           102          Lex 2001-01-13  17000.0\n",
      "1           105        David 2005-06-25   4800.0\n",
      "2           107        Diana 2007-02-07   4200.0\n",
      "3           106        Valli 2006-02-05   4800.0\n",
      "4           109       Daniel 2002-08-16   9000.0\n",
      "5           111       Ismael 2005-09-30   7700.0\n",
      "6           117        Sigal 2005-07-24   2800.0\n",
      "7           192        Sarah 2004-02-04   4000.0\n",
      "8           184      Nandita 2004-01-27   4200.0\n",
      "9           141       Trenna 2003-10-17   3500.0\n",
      "10          137       Renske 2003-07-14   3600.0\n",
      "11          133        Jason 2004-06-14   3300.0\n",
      "12          122        Payam 2003-05-01   7900.0\n",
      "13          193      Britney 2005-03-03   3900.0\n",
      "14          185       Alexis 2005-02-20   4100.0\n",
      "15          142       Curtis 2005-01-29   3100.0\n",
      "16          131        James 2005-02-16   2500.0\n",
      "17          120      Matthew 2004-07-18   8000.0\n",
      "18          189     Jennifer 2005-08-13   3600.0\n",
      "19          188        Kelly 2005-06-14   3800.0\n",
      "20          129        Laura 2005-08-20   3300.0\n",
      "21          125        Julia 2005-07-16   3200.0\n",
      "22          198       Donald 2007-06-21   2600.0\n",
      "23          197        Kevin 2006-05-23   3000.0\n",
      "24          196        Alana 2006-04-24   3100.0\n",
      "25          195        Vance 2007-03-17   2800.0\n",
      "26          194       Samuel 2006-07-01   3200.0\n",
      "27          190      Timothy 2006-07-11   2900.0\n",
      "28          187      Anthony 2007-02-07   3000.0\n",
      "29          186        Julia 2006-06-24   3400.0\n",
      "..          ...          ...        ...      ...\n",
      "40          130        Mozhe 2005-10-30   2800.0\n",
      "41          127        James 2007-01-14   2400.0\n",
      "42          126        Irene 2006-09-28   2700.0\n",
      "43          174        Ellen 2004-05-11  11000.0\n",
      "44          158        Allan 2004-08-01   9000.0\n",
      "45          157      Patrick 2004-03-04   9500.0\n",
      "46          156      Janette 2004-01-30  10000.0\n",
      "47          150        Peter 2005-01-30  10000.0\n",
      "48          177         Jack 2006-04-23   8400.0\n",
      "49          176     Jonathon 2006-03-24   8600.0\n",
      "50          175       Alyssa 2005-03-19   8800.0\n",
      "51          172    Elizabeth 2007-03-24   7300.0\n",
      "52          171      William 2007-02-23   7400.0\n",
      "53          170       Tayler 2006-01-24   9600.0\n",
      "54          169     Harrison 2006-03-23  10000.0\n",
      "55          163     Danielle 2007-03-19   9500.0\n",
      "56          162        Clara 2005-11-11  10500.0\n",
      "57          161       Sarath 2006-11-03   7000.0\n",
      "58          160       Louise 2005-12-15   7500.0\n",
      "59          159      Lindsey 2005-03-10   8000.0\n",
      "60          154      Nanette 2006-12-09   7500.0\n",
      "61          153  Christopher 2006-03-30   8000.0\n",
      "62          152        Peter 2005-08-20   9000.0\n",
      "63          151        David 2005-03-24   9500.0\n",
      "64          179      Charles 2008-01-04   6200.0\n",
      "65          164       Mattea 2008-01-24   7200.0\n",
      "66          155       Oliver 2007-11-23   7000.0\n",
      "67          199      Douglas 2008-01-13   2600.0\n",
      "68          191      Randall 2007-12-19   2500.0\n",
      "69          135           Ki 2007-12-12   2400.0\n",
      "\n",
      "[70 rows x 4 columns]\n"
     ]
    }
   ],
   "source": [
    "df = pd.read_sql(\"\"\"\n",
    "        SELECT  employee_id, first_name, hire_date, salary\n",
    "        FROM employees o\n",
    "        WHERE EXISTS (SELECT 'X'\n",
    "                      FROM employees i\n",
    "                      WHERE i.department_id = o.department_id\n",
    "                      AND i.hire_date > o.hire_date\n",
    "                      AND i.salary > o.salary)\n",
    "        \"\"\",xedb)\n",
    "print(df)"
   ]
  },
  {
   "cell_type": "markdown",
   "metadata": {},
   "source": [
    "#### (10) 부서 이름별 사원들의 평균 급여와 급여 총액\n",
    "#### < JOIN >"
   ]
  },
  {
   "cell_type": "code",
   "execution_count": 40,
   "metadata": {},
   "outputs": [
    {
     "name": "stdout",
     "output_type": "stream",
     "text": [
      "     DEPARTMENT_NAME  SUM_SAL  AVG_SAL\n",
      "0     Administration     4400     4400\n",
      "1         Accounting    20308    10154\n",
      "2         Purchasing    24900     4150\n",
      "3    Human Resources     6500     6500\n",
      "4                 IT    28800     5760\n",
      "5   Public Relations    10000    10000\n",
      "6          Executive    58000    19333\n",
      "7           Shipping   156400     3476\n",
      "8              Sales   304500     8956\n",
      "9            Finance    51608     8601\n",
      "10         Marketing    19000     9500\n"
     ]
    }
   ],
   "source": [
    "df = pd.read_sql(\"\"\"\n",
    "        SELECT d.department_name, sum(e.salary) sum_sal, round(avg(e.salary),0)avg_sal\n",
    "        FROM employees e, departments d\n",
    "        WHERE e.department_id = d.department_id\n",
    "        GROUP BY department_name\n",
    "        \"\"\",xedb)\n",
    "print(df)"
   ]
  },
  {
   "cell_type": "markdown",
   "metadata": {},
   "source": [
    "#### < INLINE VIEW >"
   ]
  },
  {
   "cell_type": "code",
   "execution_count": 41,
   "metadata": {},
   "outputs": [
    {
     "name": "stdout",
     "output_type": "stream",
     "text": [
      "     DEPARTMENT_NAME  SUMSAL  AVGSAL\n",
      "0     Administration    4400    4400\n",
      "1          Marketing   19000    9500\n",
      "2         Purchasing   24900    4150\n",
      "3    Human Resources    6500    6500\n",
      "4           Shipping  156400    3476\n",
      "5                 IT   28800    5760\n",
      "6   Public Relations   10000   10000\n",
      "7              Sales  304500    8956\n",
      "8          Executive   58000   19333\n",
      "9            Finance   51608    8601\n",
      "10        Accounting   20308   10154\n"
     ]
    }
   ],
   "source": [
    "df = pd.read_sql(\"\"\"\n",
    "        SELECT d.department_name, e.sumsal, round(e.avgsal,0) avgsal\n",
    "        FROM (SELECT department_id, sum(salary) sumsal, avg(salary) avgsal\n",
    "              FROM employees\n",
    "              GROUP BY department_id) e, departments d\n",
    "        WHERE e.department_id = d.department_id\n",
    "        \"\"\",xedb)\n",
    "print(df)"
   ]
  },
  {
   "cell_type": "markdown",
   "metadata": {},
   "source": [
    "#### < SCALAR SUBQUERY >"
   ]
  },
  {
   "cell_type": "code",
   "execution_count": 42,
   "metadata": {},
   "outputs": [
    {
     "name": "stdout",
     "output_type": "stream",
     "text": [
      "         DEPARTMENT_NAME    SUMSAL   AVGSAL\n",
      "0         Administration    4400.0   4400.0\n",
      "1              Marketing   19000.0   9500.0\n",
      "2             Purchasing   24900.0   4150.0\n",
      "3        Human Resources    6500.0   6500.0\n",
      "4               Shipping  156400.0   3476.0\n",
      "5                     IT   28800.0   5760.0\n",
      "6       Public Relations   10000.0  10000.0\n",
      "7                  Sales  304500.0   8956.0\n",
      "8              Executive   58000.0  19333.0\n",
      "9                Finance   51608.0   8601.0\n",
      "10            Accounting   20308.0  10154.0\n",
      "11              Treasury       NaN      NaN\n",
      "12         Corporate Tax       NaN      NaN\n",
      "13    Control And Credit       NaN      NaN\n",
      "14  Shareholder Services       NaN      NaN\n",
      "15              Benefits       NaN      NaN\n",
      "16         Manufacturing       NaN      NaN\n",
      "17          Construction       NaN      NaN\n",
      "18           Contracting       NaN      NaN\n",
      "19            Operations       NaN      NaN\n",
      "20            IT Support       NaN      NaN\n",
      "21                   NOC       NaN      NaN\n",
      "22           IT Helpdesk       NaN      NaN\n",
      "23      Government Sales       NaN      NaN\n",
      "24          Retail Sales       NaN      NaN\n",
      "25            Recruiting       NaN      NaN\n",
      "26               Payroll       NaN      NaN\n"
     ]
    }
   ],
   "source": [
    "df = pd.read_sql(\"\"\"\n",
    "        SELECT department_name, (SELECT sum(salary)\n",
    "                                 FROM employees\n",
    "                                 WHERE department_id = d.department_id) sumsal,\n",
    "                                   \n",
    "                                 (SELECT round(avg(salary),0)\n",
    "                                  FROM employees\n",
    "                                  WHERE department_id = d.department_id) avgsal\n",
    "        FROM departments d\n",
    "        \"\"\",xedb)\n",
    "print(df)"
   ]
  },
  {
   "cell_type": "markdown",
   "metadata": {},
   "source": [
    "#### (11) 사원수가 3명 미만인 부서번호, 부서이름, 인원수를 조회하세요\n",
    "#### < JOIN >"
   ]
  },
  {
   "cell_type": "code",
   "execution_count": 43,
   "metadata": {},
   "outputs": [
    {
     "name": "stdout",
     "output_type": "stream",
     "text": [
      "   DEPARTMENT_ID   DEPARTMENT_NAME  CN\n",
      "0             70  Public Relations   1\n",
      "1             10    Administration   1\n",
      "2            110        Accounting   2\n",
      "3             40   Human Resources   1\n",
      "4             20         Marketing   2\n"
     ]
    }
   ],
   "source": [
    "df = pd.read_sql(\"\"\"\n",
    "        SELECT d.department_id, d.department_name, COUNT(*) cn\n",
    "        FROM departments d \n",
    "        JOIN employees e\n",
    "        ON d.department_id = e.department_id\n",
    "        GROUP BY d.department_id, d.department_name\n",
    "        HAVING COUNT(*) < 3\n",
    "        \"\"\",xedb)\n",
    "print(df)"
   ]
  },
  {
   "cell_type": "markdown",
   "metadata": {},
   "source": [
    "#### < INLINE VIEW >"
   ]
  },
  {
   "cell_type": "code",
   "execution_count": 44,
   "metadata": {},
   "outputs": [
    {
     "name": "stdout",
     "output_type": "stream",
     "text": [
      "   DEPARTMENT_ID   DEPARTMENT_NAME  CN\n",
      "0             70  Public Relations   1\n",
      "1             10    Administration   1\n",
      "2             20         Marketing   2\n",
      "3             40   Human Resources   1\n",
      "4            110        Accounting   2\n"
     ]
    }
   ],
   "source": [
    "df = pd.read_sql(\"\"\"\n",
    "        SELECT d.department_id, d.department_name, e.cn\n",
    "        FROM (SELECT department_id, count(*) cn\n",
    "              FROM employees\n",
    "              GROUP BY department_id\n",
    "              HAVING count(*) < 3) e, departments d\n",
    "        WHERE d.department_id = e.department_id\n",
    "        \"\"\",xedb)\n",
    "print(df)"
   ]
  },
  {
   "cell_type": "markdown",
   "metadata": {},
   "source": [
    "#### (12) 사원 수가 가장 많은 부서번호, 부서이름, 인원수를 조회하세요."
   ]
  },
  {
   "cell_type": "code",
   "execution_count": 45,
   "metadata": {},
   "outputs": [
    {
     "name": "stdout",
     "output_type": "stream",
     "text": [
      "   DEPARTMENT_ID DEPARTMENT_NAME  COUNT(*)\n",
      "0             50        Shipping        45\n"
     ]
    }
   ],
   "source": [
    "df = pd.read_sql(\"\"\"\n",
    "        SELECT d.department_id, d.department_name, COUNT(*)\n",
    "        FROM departments d \n",
    "        JOIN employees e\n",
    "        ON d.department_id = e.department_id\n",
    "        GROUP BY d.department_id, d.department_name\n",
    "        HAVING COUNT(*) = (SELECT MAX(COUNT(*))\n",
    "                         FROM employees\n",
    "                         GROUP BY department_id)\n",
    "        \"\"\",xedb)\n",
    "print(df)"
   ]
  },
  {
   "cell_type": "markdown",
   "metadata": {},
   "source": [
    "#### (13) 각 해에 입사한 사원들의 수를 조회하세요."
   ]
  },
  {
   "cell_type": "code",
   "execution_count": 46,
   "metadata": {},
   "outputs": [
    {
     "name": "stdout",
     "output_type": "stream",
     "text": [
      "    DAY  COUNT(*)\n",
      "0  2001         1\n",
      "1  2002         7\n",
      "2  2003         6\n",
      "3  2004        10\n",
      "4  2005        29\n",
      "5  2006        24\n",
      "6  2007        19\n",
      "7  2008        11\n"
     ]
    }
   ],
   "source": [
    "df = pd.read_sql(\"\"\"\n",
    "        SELECT to_char(hire_date,'yyyy') day, count(*)\n",
    "        FROM employees\n",
    "        GROUP BY to_char(hire_date,'yyyy')\n",
    "        ORDER BY DAY\n",
    "        \"\"\",xedb)\n",
    "print(df)"
   ]
  },
  {
   "cell_type": "markdown",
   "metadata": {},
   "source": [
    "####  < 데이터 출력물의 작성방법에 따라 쿼리가공 >"
   ]
  },
  {
   "cell_type": "code",
   "execution_count": 47,
   "metadata": {},
   "outputs": [
    {
     "name": "stdout",
     "output_type": "stream",
     "text": [
      "   YR2001  YR2002  YR2003  YR2004  YR2005  YR2006  YR2007  YR2008\n",
      "0       1       7       6      10      29      24      19      11\n"
     ]
    }
   ],
   "source": [
    "df = pd.read_sql(\"\"\"\n",
    "        SELECT\n",
    "                MAX (decode(YEAR,'2001',cn))yr2001,\n",
    "                MAX (decode(YEAR,'2002',cn))yr2002,\n",
    "                MAX (decode(YEAR,'2003',cn))yr2003,\n",
    "                MAX (decode(YEAR,'2004',cn))yr2004,\n",
    "                MAX (decode(YEAR,'2005',cn))yr2005,\n",
    "                MAX (decode(YEAR,'2006',cn))yr2006,\n",
    "                MAX (decode(YEAR,'2007',cn))yr2007,\n",
    "                MAX (decode(YEAR,'2008',cn))yr2008\n",
    "        FROM (SELECT to_char(hire_date,'yyyy')YEAR, count(*)cn\n",
    "              FROM employees\n",
    "              GROUP BY (to_char(hire_date,'yyyy')))\n",
    "        \"\"\",xedb)\n",
    "print(df)"
   ]
  },
  {
   "cell_type": "code",
   "execution_count": 48,
   "metadata": {
    "collapsed": true
   },
   "outputs": [],
   "source": [
    "cur.close()\n",
    "xedb.close()"
   ]
  },
  {
   "cell_type": "code",
   "execution_count": null,
   "metadata": {
    "collapsed": true
   },
   "outputs": [],
   "source": []
  }
 ],
 "metadata": {
  "kernelspec": {
   "display_name": "Python 3",
   "language": "python",
   "name": "python3"
  },
  "language_info": {
   "codemirror_mode": {
    "name": "ipython",
    "version": 3
   },
   "file_extension": ".py",
   "mimetype": "text/x-python",
   "name": "python",
   "nbconvert_exporter": "python",
   "pygments_lexer": "ipython3",
   "version": "3.6.1"
  }
 },
 "nbformat": 4,
 "nbformat_minor": 2
}
