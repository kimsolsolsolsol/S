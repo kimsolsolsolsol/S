{
 "cells": [
  {
   "cell_type": "markdown",
   "metadata": {},
   "source": [
    "***\n",
    "# CHAPTER 9. DML\n",
    "(Data Manipulation Language)  \n",
    "\n",
    "### KEYWORD\n",
    "* INSERT/ UPDATE/ DELETE /MERGE\n",
    "* 다중테이블 (INSERT ALL, INSERT FIRST)\n",
    "\n",
    "* AS OF TIMESTAMP (Flashback Query)\n",
    "* ROLLBACK, COMMIT, SAVEPOINT\n",
    "\n",
    "***\n",
    "\n",
    "### before\n",
    "\n",
    "* SELECT * FROM user_sys_privs;  #시스템권한 : 오라클db에 영향을 주는 권한\n",
    "* SELECT * FROM user_tab_privs;  #오브젝트권한 : 테이블 소유자로부터 받은 오브젝트 권한(엑세스 가능)\n",
    "* 테이블을 생성하려면 권한을 부여받아야 한다.\n",
    "      1.dba로부터 직접 권한을 부여받을 수 있고,\n",
    "      2.공통적인 권한들을 role이라는 곳에 모아놓고 그 role을 통해 권한을 받는다\n",
    "* SELECT * FROM role_sys_privs; #CREATE TABLE 확인\n",
    "* SELECT * FROM SESSION_PRIVS; #user_sys_privs와 role_sys_privs의 UNION\n",
    "***"
   ]
  },
  {
   "cell_type": "code",
   "execution_count": 1,
   "metadata": {
    "collapsed": true
   },
   "outputs": [],
   "source": [
    "import cx_Oracle\n",
    "import pandas as pd\n",
    "conn = cx_Oracle.connect('hr/hr@localhost/xe')\n",
    "c = conn.cursor()"
   ]
  },
  {
   "cell_type": "markdown",
   "metadata": {},
   "source": [
    "## 9-1. INSERT, UPDATE, DELETE\n",
    "### [ 연습문제 ]\n",
    "#### (1) departments 테이블의 department_id, department_name, manager_id 데이터를 dept테이블로 insert 후, 영구저장하세요"
   ]
  },
  {
   "cell_type": "code",
   "execution_count": 3,
   "metadata": {},
   "outputs": [
    {
     "name": "stdout",
     "output_type": "stream",
     "text": [
      "    DEPT_ID             DEPT_NAME    MGR\n",
      "0        10        Administration  200.0\n",
      "1        20             Marketing  201.0\n",
      "2        30            Purchasing  114.0\n",
      "3        40       Human Resources  203.0\n",
      "4        50              Shipping  121.0\n",
      "5        60                    IT  103.0\n",
      "6        70      Public Relations  204.0\n",
      "7        80                 Sales  145.0\n",
      "8        90             Executive  100.0\n",
      "9       100               Finance  108.0\n",
      "10      110            Accounting  205.0\n",
      "11      120              Treasury    NaN\n",
      "12      130         Corporate Tax    NaN\n",
      "13      140    Control And Credit    NaN\n",
      "14      150  Shareholder Services    NaN\n",
      "15      160              Benefits    NaN\n",
      "16      170         Manufacturing    NaN\n",
      "17      180          Construction    NaN\n",
      "18      190           Contracting    NaN\n",
      "19      200            Operations    NaN\n",
      "20      210            IT Support    NaN\n",
      "21      220                   NOC    NaN\n",
      "22      230           IT Helpdesk    NaN\n",
      "23      240      Government Sales    NaN\n",
      "24      250          Retail Sales    NaN\n",
      "25      260            Recruiting    NaN\n",
      "26      270               Payroll    NaN\n"
     ]
    }
   ],
   "source": [
    "# dept 테이블 생성\n",
    "c.execute(\"CREATE TABLE dept(dept_id NUMBER(20), dept_name VARCHAR2(30), mgr NUMBER(20))\")\n",
    "\n",
    "# 데이터 삽입\n",
    "c.execute(\"\"\"INSERT INTO dept(dept_id, dept_name, mgr)\n",
    "                    SELECT department_id, department_name, manager_id\n",
    "                    FROM departments\"\"\")\n",
    "\n",
    "# 출력\n",
    "data = pd.read_sql(\"SELECT * FROM dept\", conn)\n",
    "print(data)\n",
    "\n",
    "# 영구저장\n",
    "conn.commit()"
   ]
  },
  {
   "cell_type": "markdown",
   "metadata": {},
   "source": [
    "#### (2) employees 테이블의 employee_id, last_name, first_name, hire_date, salary데이터를 emp 테이블에 insert를 하되 last_name과 first_name은 붙여서 입력하고 영구히 저장하세요."
   ]
  },
  {
   "cell_type": "code",
   "execution_count": 5,
   "metadata": {},
   "outputs": [
    {
     "name": "stdout",
     "output_type": "stream",
     "text": [
      "      ID              NAME  HIRE_DATE    SAL  DEPT_ID\n",
      "0    100        KingSteven 2003-06-17  24000     90.0\n",
      "1    101      KochharNeena 2005-09-21  17000     90.0\n",
      "2    102        De HaanLex 2001-01-13  17000     90.0\n",
      "3    103   HunoldAlexander 2006-01-03   9000     60.0\n",
      "4    104        ErnstBruce 2007-05-21   6000     60.0\n",
      "5    105       AustinDavid 2005-06-25   4800     60.0\n",
      "6    106    PataballaValli 2006-02-05   4800     60.0\n",
      "7    107      LorentzDiana 2007-02-07   4200     60.0\n",
      "8    108    GreenbergNancy 2002-08-17  12008    100.0\n",
      "9    109      FavietDaniel 2002-08-16   9000    100.0\n",
      "10   110          ChenJohn 2005-09-28   8200    100.0\n",
      "11   111     SciarraIsmael 2005-09-30   7700    100.0\n",
      "12   112  UrmanJose Manuel 2006-03-07   7800    100.0\n",
      "13   113          PoppLuis 2007-12-07   6900    100.0\n",
      "14   114       RaphaelyDen 2002-12-07  11000     30.0\n",
      "15   115     KhooAlexander 2003-05-18   3100     30.0\n",
      "16   116       BaidaShelli 2005-12-24   2900     30.0\n",
      "17   117       TobiasSigal 2005-07-24   2800     30.0\n",
      "18   118         HimuroGuy 2006-11-15   2600     30.0\n",
      "19   119   ColmenaresKaren 2007-08-10   2500     30.0\n",
      "20   120      WeissMatthew 2004-07-18   8000     50.0\n",
      "21   121         FrippAdam 2005-04-10   8200     50.0\n",
      "22   122     KauflingPayam 2003-05-01   7900     50.0\n",
      "23   123     VollmanShanta 2005-10-10   6500     50.0\n",
      "24   124      MourgosKevin 2007-11-16   5800     50.0\n",
      "25   125        NayerJulia 2005-07-16   3200     50.0\n",
      "26   126  MikkilineniIrene 2006-09-28   2700     50.0\n",
      "27   127       LandryJames 2007-01-14   2400     50.0\n",
      "28   128      MarkleSteven 2008-03-08   2200     50.0\n",
      "29   129       BissotLaura 2005-08-20   3300     50.0\n",
      "..   ...               ...        ...    ...      ...\n",
      "77   177    LivingstonJack 2006-04-23   8400     80.0\n",
      "78   178    GrantKimberely 2007-05-24   7000      NaN\n",
      "79   179    JohnsonCharles 2008-01-04   6200     80.0\n",
      "80   180     TaylorWinston 2006-01-24   3200     50.0\n",
      "81   181        FleaurJean 2006-02-23   3100     50.0\n",
      "82   182    SullivanMartha 2007-06-21   2500     50.0\n",
      "83   183       GeoniGirard 2008-02-03   2800     50.0\n",
      "84   184   SarchandNandita 2004-01-27   4200     50.0\n",
      "85   185        BullAlexis 2005-02-20   4100     50.0\n",
      "86   186    DellingerJulia 2006-06-24   3400     50.0\n",
      "87   187     CabrioAnthony 2007-02-07   3000     50.0\n",
      "88   188        ChungKelly 2005-06-14   3800     50.0\n",
      "89   189     DillyJennifer 2005-08-13   3600     50.0\n",
      "90   190      GatesTimothy 2006-07-11   2900     50.0\n",
      "91   191    PerkinsRandall 2007-12-19   2500     50.0\n",
      "92   192         BellSarah 2004-02-04   4000     50.0\n",
      "93   193    EverettBritney 2005-03-03   3900     50.0\n",
      "94   194      McCainSamuel 2006-07-01   3200     50.0\n",
      "95   195        JonesVance 2007-03-17   2800     50.0\n",
      "96   196        WalshAlana 2006-04-24   3100     50.0\n",
      "97   197       FeeneyKevin 2006-05-23   3000     50.0\n",
      "98   198    OConnellDonald 2007-06-21   2600     50.0\n",
      "99   199      GrantDouglas 2008-01-13   2600     50.0\n",
      "100  200    WhalenJennifer 2003-09-17   4400     10.0\n",
      "101  201  HartsteinMichael 2004-02-17  13000     20.0\n",
      "102  202            FayPat 2005-08-17   6000     20.0\n",
      "103  203       MavrisSusan 2002-06-07   6500     40.0\n",
      "104  204       BaerHermann 2002-06-07  10000     70.0\n",
      "105  205    HigginsShelley 2002-06-07  12008    110.0\n",
      "106  206      GietzWilliam 2002-06-07   8300    110.0\n",
      "\n",
      "[107 rows x 5 columns]\n"
     ]
    }
   ],
   "source": [
    "# emp 테이블 생성\n",
    "c.execute(\"CREATE TABLE emp(id NUMBER(20), name VARCHAR2(30), hire_date date, sal NUMBER(20), dept_id NUMBER(20))\")\n",
    "\n",
    "# 데이터 삽입\n",
    "c.execute(\"\"\"INSERT INTO emp(ID, NAME, hire_date, sal, dept_id)\n",
    "                  SELECT employee_id, last_name||first_name, hire_date, salary, department_id\n",
    "                  FROM employees\"\"\")\n",
    "# 출력\n",
    "data = pd.read_sql(\"SELECT * FROM emp\", conn)\n",
    "print(data)\n",
    "\n",
    "# 영구저장\n",
    "conn.commit()"
   ]
  },
  {
   "cell_type": "markdown",
   "metadata": {},
   "source": [
    "#### (3) dept테이블에서 소속사원이 없는 부서 정보는 삭제하고 영구히 저장하세요.(CORRELATED SUBQUERY)"
   ]
  },
  {
   "cell_type": "code",
   "execution_count": 6,
   "metadata": {},
   "outputs": [
    {
     "name": "stdout",
     "output_type": "stream",
     "text": [
      "    DEPT_ID         DEPT_NAME  MGR\n",
      "0        10    Administration  200\n",
      "1        20         Marketing  201\n",
      "2        30        Purchasing  114\n",
      "3        40   Human Resources  203\n",
      "4        50          Shipping  121\n",
      "5        60                IT  103\n",
      "6        70  Public Relations  204\n",
      "7        80             Sales  145\n",
      "8        90         Executive  100\n",
      "9       100           Finance  108\n",
      "10      110        Accounting  205\n"
     ]
    }
   ],
   "source": [
    "# 데이터 삭제\n",
    "c.execute(\"\"\"DELETE\n",
    "             FROM dept d\n",
    "             WHERE NOT EXISTS (SELECT 'x'\n",
    "                               FROM emp\n",
    "                               WHERE dept_id = d.dept_id)\"\"\")\n",
    "\n",
    "# 출력\n",
    "data = pd.read_sql(\"SELECT * FROM dept\", conn)\n",
    "print(data)\n",
    "\n",
    "# 영구저장\n",
    "conn.commit()"
   ]
  },
  {
   "cell_type": "markdown",
   "metadata": {},
   "source": [
    "#### (4) emp 테이블에 dept_name varchar2(50) 컬럼을 추가하세요."
   ]
  },
  {
   "cell_type": "code",
   "execution_count": 7,
   "metadata": {},
   "outputs": [
    {
     "name": "stdout",
     "output_type": "stream",
     "text": [
      "      ID              NAME  HIRE_DATE    SAL  DEPT_ID DEPT_NAME\n",
      "0    100        KingSteven 2003-06-17  24000     90.0      None\n",
      "1    101      KochharNeena 2005-09-21  17000     90.0      None\n",
      "2    102        De HaanLex 2001-01-13  17000     90.0      None\n",
      "3    103   HunoldAlexander 2006-01-03   9000     60.0      None\n",
      "4    104        ErnstBruce 2007-05-21   6000     60.0      None\n",
      "5    105       AustinDavid 2005-06-25   4800     60.0      None\n",
      "6    106    PataballaValli 2006-02-05   4800     60.0      None\n",
      "7    107      LorentzDiana 2007-02-07   4200     60.0      None\n",
      "8    108    GreenbergNancy 2002-08-17  12008    100.0      None\n",
      "9    109      FavietDaniel 2002-08-16   9000    100.0      None\n",
      "10   110          ChenJohn 2005-09-28   8200    100.0      None\n",
      "11   111     SciarraIsmael 2005-09-30   7700    100.0      None\n",
      "12   112  UrmanJose Manuel 2006-03-07   7800    100.0      None\n",
      "13   113          PoppLuis 2007-12-07   6900    100.0      None\n",
      "14   114       RaphaelyDen 2002-12-07  11000     30.0      None\n",
      "15   115     KhooAlexander 2003-05-18   3100     30.0      None\n",
      "16   116       BaidaShelli 2005-12-24   2900     30.0      None\n",
      "17   117       TobiasSigal 2005-07-24   2800     30.0      None\n",
      "18   118         HimuroGuy 2006-11-15   2600     30.0      None\n",
      "19   119   ColmenaresKaren 2007-08-10   2500     30.0      None\n",
      "20   120      WeissMatthew 2004-07-18   8000     50.0      None\n",
      "21   121         FrippAdam 2005-04-10   8200     50.0      None\n",
      "22   122     KauflingPayam 2003-05-01   7900     50.0      None\n",
      "23   123     VollmanShanta 2005-10-10   6500     50.0      None\n",
      "24   124      MourgosKevin 2007-11-16   5800     50.0      None\n",
      "25   125        NayerJulia 2005-07-16   3200     50.0      None\n",
      "26   126  MikkilineniIrene 2006-09-28   2700     50.0      None\n",
      "27   127       LandryJames 2007-01-14   2400     50.0      None\n",
      "28   128      MarkleSteven 2008-03-08   2200     50.0      None\n",
      "29   129       BissotLaura 2005-08-20   3300     50.0      None\n",
      "..   ...               ...        ...    ...      ...       ...\n",
      "77   177    LivingstonJack 2006-04-23   8400     80.0      None\n",
      "78   178    GrantKimberely 2007-05-24   7000      NaN      None\n",
      "79   179    JohnsonCharles 2008-01-04   6200     80.0      None\n",
      "80   180     TaylorWinston 2006-01-24   3200     50.0      None\n",
      "81   181        FleaurJean 2006-02-23   3100     50.0      None\n",
      "82   182    SullivanMartha 2007-06-21   2500     50.0      None\n",
      "83   183       GeoniGirard 2008-02-03   2800     50.0      None\n",
      "84   184   SarchandNandita 2004-01-27   4200     50.0      None\n",
      "85   185        BullAlexis 2005-02-20   4100     50.0      None\n",
      "86   186    DellingerJulia 2006-06-24   3400     50.0      None\n",
      "87   187     CabrioAnthony 2007-02-07   3000     50.0      None\n",
      "88   188        ChungKelly 2005-06-14   3800     50.0      None\n",
      "89   189     DillyJennifer 2005-08-13   3600     50.0      None\n",
      "90   190      GatesTimothy 2006-07-11   2900     50.0      None\n",
      "91   191    PerkinsRandall 2007-12-19   2500     50.0      None\n",
      "92   192         BellSarah 2004-02-04   4000     50.0      None\n",
      "93   193    EverettBritney 2005-03-03   3900     50.0      None\n",
      "94   194      McCainSamuel 2006-07-01   3200     50.0      None\n",
      "95   195        JonesVance 2007-03-17   2800     50.0      None\n",
      "96   196        WalshAlana 2006-04-24   3100     50.0      None\n",
      "97   197       FeeneyKevin 2006-05-23   3000     50.0      None\n",
      "98   198    OConnellDonald 2007-06-21   2600     50.0      None\n",
      "99   199      GrantDouglas 2008-01-13   2600     50.0      None\n",
      "100  200    WhalenJennifer 2003-09-17   4400     10.0      None\n",
      "101  201  HartsteinMichael 2004-02-17  13000     20.0      None\n",
      "102  202            FayPat 2005-08-17   6000     20.0      None\n",
      "103  203       MavrisSusan 2002-06-07   6500     40.0      None\n",
      "104  204       BaerHermann 2002-06-07  10000     70.0      None\n",
      "105  205    HigginsShelley 2002-06-07  12008    110.0      None\n",
      "106  206      GietzWilliam 2002-06-07   8300    110.0      None\n",
      "\n",
      "[107 rows x 6 columns]\n"
     ]
    }
   ],
   "source": [
    "# 테이블 변경 (컬럼추가)\n",
    "c.execute(\"ALTER TABLE emp ADD dept_name VARCHAR2(50)\")\n",
    "\n",
    "# 출력\n",
    "data = pd.read_sql(\"SELECT * FROM emp\", conn)\n",
    "print(data)"
   ]
  },
  {
   "cell_type": "markdown",
   "metadata": {},
   "source": [
    "#### (5) emp 테이블의 dept_name 데이터는 dept테이블에 있는 dept_name 데이터를 기준으로 수정 후 영구저장하세요(CORRELATED SUBQUERY)"
   ]
  },
  {
   "cell_type": "code",
   "execution_count": 8,
   "metadata": {},
   "outputs": [
    {
     "name": "stdout",
     "output_type": "stream",
     "text": [
      "      ID              NAME  HIRE_DATE    SAL  DEPT_ID         DEPT_NAME\n",
      "0    100        KingSteven 2003-06-17  24000     90.0         Executive\n",
      "1    101      KochharNeena 2005-09-21  17000     90.0         Executive\n",
      "2    102        De HaanLex 2001-01-13  17000     90.0         Executive\n",
      "3    103   HunoldAlexander 2006-01-03   9000     60.0                IT\n",
      "4    104        ErnstBruce 2007-05-21   6000     60.0                IT\n",
      "5    105       AustinDavid 2005-06-25   4800     60.0                IT\n",
      "6    106    PataballaValli 2006-02-05   4800     60.0                IT\n",
      "7    107      LorentzDiana 2007-02-07   4200     60.0                IT\n",
      "8    108    GreenbergNancy 2002-08-17  12008    100.0           Finance\n",
      "9    109      FavietDaniel 2002-08-16   9000    100.0           Finance\n",
      "10   110          ChenJohn 2005-09-28   8200    100.0           Finance\n",
      "11   111     SciarraIsmael 2005-09-30   7700    100.0           Finance\n",
      "12   112  UrmanJose Manuel 2006-03-07   7800    100.0           Finance\n",
      "13   113          PoppLuis 2007-12-07   6900    100.0           Finance\n",
      "14   114       RaphaelyDen 2002-12-07  11000     30.0        Purchasing\n",
      "15   115     KhooAlexander 2003-05-18   3100     30.0        Purchasing\n",
      "16   116       BaidaShelli 2005-12-24   2900     30.0        Purchasing\n",
      "17   117       TobiasSigal 2005-07-24   2800     30.0        Purchasing\n",
      "18   118         HimuroGuy 2006-11-15   2600     30.0        Purchasing\n",
      "19   119   ColmenaresKaren 2007-08-10   2500     30.0        Purchasing\n",
      "20   120      WeissMatthew 2004-07-18   8000     50.0          Shipping\n",
      "21   121         FrippAdam 2005-04-10   8200     50.0          Shipping\n",
      "22   122     KauflingPayam 2003-05-01   7900     50.0          Shipping\n",
      "23   123     VollmanShanta 2005-10-10   6500     50.0          Shipping\n",
      "24   124      MourgosKevin 2007-11-16   5800     50.0          Shipping\n",
      "25   125        NayerJulia 2005-07-16   3200     50.0          Shipping\n",
      "26   126  MikkilineniIrene 2006-09-28   2700     50.0          Shipping\n",
      "27   127       LandryJames 2007-01-14   2400     50.0          Shipping\n",
      "28   128      MarkleSteven 2008-03-08   2200     50.0          Shipping\n",
      "29   129       BissotLaura 2005-08-20   3300     50.0          Shipping\n",
      "..   ...               ...        ...    ...      ...               ...\n",
      "77   177    LivingstonJack 2006-04-23   8400     80.0             Sales\n",
      "78   178    GrantKimberely 2007-05-24   7000      NaN              None\n",
      "79   179    JohnsonCharles 2008-01-04   6200     80.0             Sales\n",
      "80   180     TaylorWinston 2006-01-24   3200     50.0          Shipping\n",
      "81   181        FleaurJean 2006-02-23   3100     50.0          Shipping\n",
      "82   182    SullivanMartha 2007-06-21   2500     50.0          Shipping\n",
      "83   183       GeoniGirard 2008-02-03   2800     50.0          Shipping\n",
      "84   184   SarchandNandita 2004-01-27   4200     50.0          Shipping\n",
      "85   185        BullAlexis 2005-02-20   4100     50.0          Shipping\n",
      "86   186    DellingerJulia 2006-06-24   3400     50.0          Shipping\n",
      "87   187     CabrioAnthony 2007-02-07   3000     50.0          Shipping\n",
      "88   188        ChungKelly 2005-06-14   3800     50.0          Shipping\n",
      "89   189     DillyJennifer 2005-08-13   3600     50.0          Shipping\n",
      "90   190      GatesTimothy 2006-07-11   2900     50.0          Shipping\n",
      "91   191    PerkinsRandall 2007-12-19   2500     50.0          Shipping\n",
      "92   192         BellSarah 2004-02-04   4000     50.0          Shipping\n",
      "93   193    EverettBritney 2005-03-03   3900     50.0          Shipping\n",
      "94   194      McCainSamuel 2006-07-01   3200     50.0          Shipping\n",
      "95   195        JonesVance 2007-03-17   2800     50.0          Shipping\n",
      "96   196        WalshAlana 2006-04-24   3100     50.0          Shipping\n",
      "97   197       FeeneyKevin 2006-05-23   3000     50.0          Shipping\n",
      "98   198    OConnellDonald 2007-06-21   2600     50.0          Shipping\n",
      "99   199      GrantDouglas 2008-01-13   2600     50.0          Shipping\n",
      "100  200    WhalenJennifer 2003-09-17   4400     10.0    Administration\n",
      "101  201  HartsteinMichael 2004-02-17  13000     20.0         Marketing\n",
      "102  202            FayPat 2005-08-17   6000     20.0         Marketing\n",
      "103  203       MavrisSusan 2002-06-07   6500     40.0   Human Resources\n",
      "104  204       BaerHermann 2002-06-07  10000     70.0  Public Relations\n",
      "105  205    HigginsShelley 2002-06-07  12008    110.0        Accounting\n",
      "106  206      GietzWilliam 2002-06-07   8300    110.0        Accounting\n",
      "\n",
      "[107 rows x 6 columns]\n"
     ]
    }
   ],
   "source": [
    "# 데이터 수정\n",
    "c.execute(\"\"\"UPDATE emp e  \n",
    "            SET dept_name = (SELECT dept_name\n",
    "                             FROM dept\n",
    "                             WHERE dept_id = e.dept_id)\"\"\")\n",
    "# 출력 \n",
    "data = pd.read_sql(\"SELECT * FROM emp\", conn)\n",
    "print(data)\n",
    "\n",
    "# 영구저장\n",
    "conn.commit()"
   ]
  },
  {
   "cell_type": "markdown",
   "metadata": {},
   "source": [
    "## 9-2. INSERT ALL, INSERT FIRST \n",
    "다중테이블\n",
    "\n",
    "### < UNCONDITIONAL INSERT ALL >"
   ]
  },
  {
   "cell_type": "code",
   "execution_count": 11,
   "metadata": {},
   "outputs": [
    {
     "name": "stdout",
     "output_type": "stream",
     "text": [
      "   EMPLOYEE_ID  HIRE_DATE   SALARY\n",
      "0          201 2004-02-17  13000.0\n",
      "1          202 2005-08-17   6000.0\n",
      "2          203 2002-06-07   6500.0\n",
      "3          204 2002-06-07  10000.0\n",
      "4          205 2002-06-07  12008.0\n",
      "5          206 2002-06-07   8300.0\n",
      " \n",
      "   EMPLOYEE_ID  MANAGER_ID   SALARY\n",
      "0          201         100  13000.0\n",
      "1          202         201   6000.0\n",
      "2          203         101   6500.0\n",
      "3          204         101  10000.0\n",
      "4          205         101  12008.0\n",
      "5          206         205   8300.0\n"
     ]
    }
   ],
   "source": [
    "# 테이블생성\n",
    "c.execute(\"\"\"CREATE TABLE sal_history\n",
    "          AS\n",
    "          SELECT employee_id, hire_date, salary\n",
    "          FROM employees\n",
    "          WHERE 1=2\"\"\") #테이블 구조만 복제 \n",
    "    \n",
    "c.execute(\"\"\"CREATE TABLE mgr_history\n",
    "          AS\n",
    "          SELECT employee_id, manager_id, salary\n",
    "          FROM employees\n",
    "          WHERE 1=2\"\"\")   \n",
    "\n",
    "# 두 개의 테이블로 데이터 동시 삽입\n",
    "\n",
    "c.execute(\"\"\"INSERT ALL\n",
    "          INTO sal_history(employee_id, hire_date, salary) \n",
    "          VALUES(EMPID,HIREDATE,SAL)\n",
    "          \n",
    "          INTO mgr_history(employee_id, manager_id, salary) \n",
    "          VALUES(EMPID,MGR,SAL)\n",
    "          \n",
    "          SELECT employee_id EMPID, hire_date HIREDATE,salary SAL, manager_id MGR\n",
    "          FROM employees\n",
    "          WHERE employee_id > 200\"\"\")\n",
    "\n",
    "# 출력\n",
    "sal = pd.read_sql(\"SELECT * FROM sal_history\", conn)\n",
    "mgr = pd.read_sql(\"SELECT * FROM mgr_history\", conn)\n",
    "\n",
    "print(sal)\n",
    "print(' ')\n",
    "print(mgr)\n",
    "\n",
    "# 작업수행 취소\n",
    "conn.rollback()"
   ]
  },
  {
   "cell_type": "markdown",
   "metadata": {},
   "source": [
    "### < CONDITIONAL INSERT ALL >"
   ]
  },
  {
   "cell_type": "code",
   "execution_count": 12,
   "metadata": {},
   "outputs": [
    {
     "name": "stdout",
     "output_type": "stream",
     "text": [
      "    EMPLOYEE_ID  HIRE_DATE   SALARY\n",
      "0           100 2003-06-17  24000.0\n",
      "1           102 2001-01-13  17000.0\n",
      "2           108 2002-08-17  12008.0\n",
      "3           109 2002-08-16   9000.0\n",
      "4           114 2002-12-07  11000.0\n",
      "5           115 2003-05-18   3100.0\n",
      "6           120 2004-07-18   8000.0\n",
      "7           122 2003-05-01   7900.0\n",
      "8           133 2004-06-14   3300.0\n",
      "9           137 2003-07-14   3600.0\n",
      "10          141 2003-10-17   3500.0\n",
      "11          145 2004-10-01  14000.0\n",
      "12          156 2004-01-30  10000.0\n",
      "13          157 2004-03-04   9500.0\n",
      "14          158 2004-08-01   9000.0\n",
      "15          174 2004-05-11  11000.0\n",
      "16          184 2004-01-27   4200.0\n",
      "17          192 2004-02-04   4000.0\n",
      "18          200 2003-09-17   4400.0\n",
      "19          201 2004-02-17  13000.0\n",
      "20          203 2002-06-07   6500.0\n",
      "21          204 2002-06-07  10000.0\n",
      "22          205 2002-06-07  12008.0\n",
      "23          206 2002-06-07   8300.0\n",
      " \n",
      "    EMPLOYEE_ID  COMMISSION_PCT   SALARY\n",
      "0           145            0.40  14000.0\n",
      "1           146            0.30  13500.0\n",
      "2           147            0.30  12000.0\n",
      "3           148            0.30  11000.0\n",
      "4           149            0.20  10500.0\n",
      "5           150            0.30  10000.0\n",
      "6           151            0.25   9500.0\n",
      "7           152            0.25   9000.0\n",
      "8           153            0.20   8000.0\n",
      "9           154            0.20   7500.0\n",
      "10          155            0.15   7000.0\n",
      "11          156            0.35  10000.0\n",
      "12          157            0.35   9500.0\n",
      "13          158            0.35   9000.0\n",
      "14          159            0.30   8000.0\n",
      "15          160            0.30   7500.0\n",
      "16          161            0.25   7000.0\n",
      "17          162            0.25  10500.0\n",
      "18          163            0.15   9500.0\n",
      "19          164            0.10   7200.0\n",
      "20          165            0.10   6800.0\n",
      "21          166            0.10   6400.0\n",
      "22          167            0.10   6200.0\n",
      "23          168            0.25  11500.0\n",
      "24          169            0.20  10000.0\n",
      "25          170            0.20   9600.0\n",
      "26          171            0.15   7400.0\n",
      "27          172            0.15   7300.0\n",
      "28          173            0.10   6100.0\n",
      "29          174            0.30  11000.0\n",
      "30          175            0.25   8800.0\n",
      "31          176            0.20   8600.0\n",
      "32          177            0.20   8400.0\n",
      "33          178            0.15   7000.0\n",
      "34          179            0.10   6200.0\n"
     ]
    }
   ],
   "source": [
    "# 테이블생성\n",
    "c.execute(\"\"\"CREATE TABLE emp_history\n",
    "          AS\n",
    "          SELECT employee_id, hire_date, salary\n",
    "          FROM employees\n",
    "          WHERE 1=2\"\"\")   #테이블 구조만 복제 \n",
    "\n",
    "c.execute(\"\"\"CREATE TABLE emp_sales\n",
    "          AS\n",
    "          SELECT employee_id, commission_pct, salary\n",
    "          FROM employees\n",
    "          WHERE 1=2\"\"\")  \n",
    "\n",
    "# 조건부 데이터 삽입\n",
    "c.execute(\"\"\"INSERT ALL\n",
    "          WHEN HIREDATE < to_date('2005-01-01','YYYY-MM-DD') THEN\n",
    "          INTO emp_history(employee_id, hire_date, salary) \n",
    "          VALUES(EMPID,HIREDATE,SAL)\n",
    "          \n",
    "          WHEN COMM IS NOT NULL THEN\\\n",
    "          INTO emp_sales(employee_id, commission_pct, salary) \n",
    "          VALUES(EMPID,COMM,SAL)\n",
    "          \n",
    "          SELECT employee_id EMPID, hire_date HIREDATE,salary SAL, commission_pct COMM\n",
    "          FROM employees\"\"\")\n",
    "# 출력\n",
    "history = pd.read_sql(\"SELECT * FROM emp_history\", conn)\n",
    "sales = pd.read_sql(\"SELECT * FROM emp_sales\", conn)\n",
    "\n",
    "print(history)\n",
    "print(' ')\n",
    "print(sales)\n",
    "\n",
    "# 작업수행 취소 \n",
    "conn.rollback()"
   ]
  },
  {
   "cell_type": "markdown",
   "metadata": {},
   "source": [
    "### < CONDITIONAL INSERT FIRST >"
   ]
  },
  {
   "cell_type": "code",
   "execution_count": 13,
   "metadata": {},
   "outputs": [
    {
     "name": "stdout",
     "output_type": "stream",
     "text": [
      "---------------LOW---------------\n",
      "    EMPLOYEE_ID    LAST_NAME  SALARY\n",
      "0           105       Austin  4800.0\n",
      "1           106    Pataballa  4800.0\n",
      "2           107      Lorentz  4200.0\n",
      "3           115         Khoo  3100.0\n",
      "4           116        Baida  2900.0\n",
      "5           117       Tobias  2800.0\n",
      "6           118       Himuro  2600.0\n",
      "7           119   Colmenares  2500.0\n",
      "8           125        Nayer  3200.0\n",
      "9           126  Mikkilineni  2700.0\n",
      "10          127       Landry  2400.0\n",
      "11          128       Markle  2200.0\n",
      "12          129       Bissot  3300.0\n",
      "13          130     Atkinson  2800.0\n",
      "14          131       Marlow  2500.0\n",
      "15          132        Olson  2100.0\n",
      "16          133       Mallin  3300.0\n",
      "17          134       Rogers  2900.0\n",
      "18          135          Gee  2400.0\n",
      "19          136   Philtanker  2200.0\n",
      "20          137       Ladwig  3600.0\n",
      "21          138       Stiles  3200.0\n",
      "22          139          Seo  2700.0\n",
      "23          140        Patel  2500.0\n",
      "24          141         Rajs  3500.0\n",
      "25          142       Davies  3100.0\n",
      "26          143        Matos  2600.0\n",
      "27          144       Vargas  2500.0\n",
      "28          180       Taylor  3200.0\n",
      "29          181       Fleaur  3100.0\n",
      "30          182     Sullivan  2500.0\n",
      "31          183        Geoni  2800.0\n",
      "32          184     Sarchand  4200.0\n",
      "33          185         Bull  4100.0\n",
      "34          186    Dellinger  3400.0\n",
      "35          187       Cabrio  3000.0\n",
      "36          188        Chung  3800.0\n",
      "37          189        Dilly  3600.0\n",
      "38          190        Gates  2900.0\n",
      "39          191      Perkins  2500.0\n",
      "40          192         Bell  4000.0\n",
      "41          193      Everett  3900.0\n",
      "42          194       McCain  3200.0\n",
      "43          195        Jones  2800.0\n",
      "44          196        Walsh  3100.0\n",
      "45          197       Feeney  3000.0\n",
      "46          198     OConnell  2600.0\n",
      "47          199        Grant  2600.0\n",
      "48          200       Whalen  4400.0\n",
      "---------------MID---------------\n",
      "    EMPLOYEE_ID   LAST_NAME   SALARY\n",
      "0           103      Hunold   9000.0\n",
      "1           104       Ernst   6000.0\n",
      "2           109      Faviet   9000.0\n",
      "3           110        Chen   8200.0\n",
      "4           111     Sciarra   7700.0\n",
      "5           112       Urman   7800.0\n",
      "6           113        Popp   6900.0\n",
      "7           120       Weiss   8000.0\n",
      "8           121       Fripp   8200.0\n",
      "9           122    Kaufling   7900.0\n",
      "10          123     Vollman   6500.0\n",
      "11          124     Mourgos   5800.0\n",
      "12          150      Tucker  10000.0\n",
      "13          151   Bernstein   9500.0\n",
      "14          152        Hall   9000.0\n",
      "15          153       Olsen   8000.0\n",
      "16          154   Cambrault   7500.0\n",
      "17          155     Tuvault   7000.0\n",
      "18          156        King  10000.0\n",
      "19          157       Sully   9500.0\n",
      "20          158      McEwen   9000.0\n",
      "21          159       Smith   8000.0\n",
      "22          160       Doran   7500.0\n",
      "23          161      Sewall   7000.0\n",
      "24          163      Greene   9500.0\n",
      "25          164     Marvins   7200.0\n",
      "26          165         Lee   6800.0\n",
      "27          166        Ande   6400.0\n",
      "28          167       Banda   6200.0\n",
      "29          169       Bloom  10000.0\n",
      "30          170         Fox   9600.0\n",
      "31          171       Smith   7400.0\n",
      "32          172       Bates   7300.0\n",
      "33          173       Kumar   6100.0\n",
      "34          175      Hutton   8800.0\n",
      "35          176      Taylor   8600.0\n",
      "36          177  Livingston   8400.0\n",
      "37          178       Grant   7000.0\n",
      "38          179     Johnson   6200.0\n",
      "39          202         Fay   6000.0\n",
      "40          203      Mavris   6500.0\n",
      "41          204        Baer  10000.0\n",
      "42          206       Gietz   8300.0\n",
      "---------------HIGH---------------\n",
      "    EMPLOYEE_ID  LAST_NAME   SALARY\n",
      "0           100       King  24000.0\n",
      "1           101    Kochhar  17000.0\n",
      "2           102    De Haan  17000.0\n",
      "3           108  Greenberg  12008.0\n",
      "4           114   Raphaely  11000.0\n",
      "5           145    Russell  14000.0\n",
      "6           146   Partners  13500.0\n",
      "7           147  Errazuriz  12000.0\n",
      "8           148  Cambrault  11000.0\n",
      "9           149    Zlotkey  10500.0\n",
      "10          162    Vishney  10500.0\n",
      "11          168       Ozer  11500.0\n",
      "12          174       Abel  11000.0\n",
      "13          201  Hartstein  13000.0\n",
      "14          205    Higgins  12008.0\n"
     ]
    }
   ],
   "source": [
    "# 테이블생성\n",
    "c.execute(\"\"\"CREATE TABLE sal_low\n",
    "          AS\n",
    "          SELECT employee_id, last_name, salary\n",
    "          FROM employees\n",
    "          WHERE 1=2\"\"\")  #테이블의 구조만 복제 \n",
    "\n",
    "c.execute(\"\"\"CREATE TABLE sal_mid\n",
    "          AS\n",
    "          SELECT employee_id, last_name, salary\n",
    "          FROM employees\n",
    "          WHERE 1=2\"\"\")\n",
    "\n",
    "c.execute(\"\"\"CREATE TABLE sal_high\n",
    "          AS\n",
    "          SELECT employee_id, last_name, salary\n",
    "          FROM employees\n",
    "          WHERE 1=2\"\"\")\n",
    "\n",
    "# 조건부 데이터 삽입(조건에 만족한 첫번째만 작업수행)\n",
    "c.execute(\"\"\"INSERT FIRST\n",
    "          WHEN salary < 5000 THEN\n",
    "          INTO sal_low(employee_id, last_name, salary) \n",
    "          VALUES (employee_id, last_name, salary)\n",
    "          \n",
    "          WHEN salary between 5000 and 10000 THEN\n",
    "          INTO sal_mid(employee_id, last_name, salary) \n",
    "          VALUES (employee_id, last_name, salary)\n",
    "          \n",
    "          ELSE\n",
    "          INTO sal_high(employee_id, last_name, salary) \n",
    "          VALUES (employee_id, last_name, salary)\n",
    "          \n",
    "          SELECT employee_id, last_name, salary\n",
    "          FROM employees\"\"\")\n",
    "\n",
    "# 출력\n",
    "low = pd.read_sql(\"SELECT * FROM sal_low\", conn)\n",
    "mid = pd.read_sql(\"SELECT * FROM sal_mid\", conn)\n",
    "high = pd.read_sql(\"SELECT * FROM sal_high\", conn)\n",
    "\n",
    "print('---------------LOW---------------')\n",
    "print(low)\n",
    "print('---------------MID---------------')\n",
    "print(mid)\n",
    "print('---------------HIGH---------------')\n",
    "print(high)\n",
    "\n",
    "# 작업수행 취소 \n",
    "conn.rollback()"
   ]
  },
  {
   "cell_type": "markdown",
   "metadata": {},
   "source": [
    "## 9-3. MERGE\n",
    "조건에 따라서 INSERT, UPDATE, DELETE 작업을 한 번에 할 수 있다."
   ]
  },
  {
   "cell_type": "code",
   "execution_count": 14,
   "metadata": {},
   "outputs": [
    {
     "name": "stdout",
     "output_type": "stream",
     "text": [
      "----------------------dw_emp----------------------\n",
      "   EMPLOYEE_ID  LAST_NAME   SALARY  DEPARTMENT_ID\n",
      "0          201  Hartstein  13000.0             20\n",
      "1          202        Fay   6000.0             20\n"
     ]
    }
   ],
   "source": [
    "# 테이블생성 \n",
    "c.execute(\"\"\"CREATE TABLE oltp_emp\n",
    "          AS \n",
    "          SELECT employee_id, last_name, salary, department_id\n",
    "          FROM employees\"\"\")\n",
    "   \n",
    "\n",
    "c.execute(\"\"\"CREATE TABLE dw_emp\n",
    "          AS \n",
    "          SELECT employee_id, last_name, salary, department_id\n",
    "          FROM employees\n",
    "          WHERE department_id = 20\"\"\")\n",
    "\n",
    "# dw_emp 테이블 출력\n",
    "dw = pd.read_sql(\"SELECT * FROM dw_emp\", conn)\n",
    "print('----------------------dw_emp----------------------')\n",
    "print(dw)"
   ]
  },
  {
   "cell_type": "code",
   "execution_count": 15,
   "metadata": {
    "scrolled": true
   },
   "outputs": [
    {
     "name": "stdout",
     "output_type": "stream",
     "text": [
      "----------------------oltp_emp----------------------\n",
      "   EMPLOYEE_ID LAST_NAME  SALARY  DEPARTMENT_ID FLAG\n",
      "0          202       Fay  6000.0             20    d\n",
      "----------------------dw_emp----------------------\n",
      "   EMPLOYEE_ID  LAST_NAME   SALARY  DEPARTMENT_ID\n",
      "0          201  Hartstein  13000.0             20\n",
      "1          202        Fay   6000.0             20\n"
     ]
    }
   ],
   "source": [
    "# 테이블에 컬럼추가\n",
    "c.execute(\"ALTER TABLE oltp_emp ADD flag CHAR(1)\")\n",
    "\n",
    "# oltp_emp 테이블 갱신\n",
    "c.execute(\"\"\"UPDATE oltp_emp\n",
    "          SET flag = 'd'\n",
    "          WHERE employee_id = 202\"\"\")\n",
    "\n",
    "c.execute(\"\"\"UPDATE oltp_emp\n",
    "          SET salary  = 20000\n",
    "          WHERE employee_id = 201\"\"\")\n",
    "\n",
    "# 저장\n",
    "conn.commit()\n",
    "\n",
    "# 테이블 출력\n",
    "oltp = pd.read_sql(\"SELECT * FROM oltp_emp WHERE employee_id = 202\", conn)\n",
    "dw = pd.read_sql(\"SELECT * FROM dw_emp\", conn)\n",
    "\n",
    "print('----------------------oltp_emp----------------------')\n",
    "print(oltp)\n",
    "print('----------------------dw_emp----------------------')\n",
    "print(dw)"
   ]
  },
  {
   "cell_type": "code",
   "execution_count": 16,
   "metadata": {},
   "outputs": [
    {
     "name": "stdout",
     "output_type": "stream",
     "text": [
      "   COUNT(*)\n",
      "0       106\n",
      "----------------------dw_emp----------------------\n",
      "Empty DataFrame\n",
      "Columns: [EMPLOYEE_ID, LAST_NAME, SALARY, DEPARTMENT_ID]\n",
      "Index: []\n"
     ]
    }
   ],
   "source": [
    "# 데이터 이행작업\n",
    "c.execute(\"\"\"MERGE INTO dw_emp c \n",
    "              USING (SELECT * FROM oltp_emp ) e      \n",
    "              ON (c.employee_id = e.employee_id)\n",
    "              \n",
    "              WHEN MATCHED THEN\n",
    "                  UPDATE SET\n",
    "                      c.last_name     = e.last_name,\n",
    "                      c.salary        = e.salary * 1.1,\n",
    "                      c.department_id = e.department_id\n",
    "                  DELETE WHERE \n",
    "                      e.flag = 'd'\n",
    "                  \n",
    "             WHEN NOT MATCHED THEN\n",
    "                 INSERT(c.employee_id, c.last_name, c.salary, c.department_id)\n",
    "                 VALUES(e.employee_id, e.last_name, e.salary, e.department_id)\"\"\")\n",
    "             \n",
    "             \n",
    "             \n",
    "cn = pd.read_sql(\"SELECT count(*) FROM dw_emp\", conn)\n",
    "dw_emp = pd.read_sql(\"SELECT * FROM dw_emp WHERE employee_id = 202\", conn)\n",
    "\n",
    "print(cn)\n",
    "print('----------------------dw_emp----------------------')\n",
    "print(dw_emp)"
   ]
  },
  {
   "cell_type": "code",
   "execution_count": 17,
   "metadata": {},
   "outputs": [
    {
     "name": "stdout",
     "output_type": "stream",
     "text": [
      "   EMPLOYEE_ID LAST_NAME  SALARY  DEPARTMENT_ID\n",
      "0          202       Fay  6000.0             20\n"
     ]
    }
   ],
   "source": [
    "conn.rollback()\n",
    "\n",
    "dw_emp = pd.read_sql(\"SELECT * FROM dw_emp WHERE employee_id = 202\", conn)\n",
    "print(dw_emp)"
   ]
  },
  {
   "cell_type": "markdown",
   "metadata": {},
   "source": [
    "## 9-4. Flashback Query / Savepoint\n",
    "### < Flashback Query _ AS OF TIMESTAMP >"
   ]
  },
  {
   "cell_type": "code",
   "execution_count": 19,
   "metadata": {},
   "outputs": [
    {
     "name": "stdout",
     "output_type": "stream",
     "text": [
      "   EMPLOYEE_ID   SALARY  DEPARTMENT_ID\n",
      "0          114  11000.0             30\n",
      "1          115   3100.0             30\n",
      "2          116   2900.0             30\n",
      "3          117   2800.0             30\n",
      "4          118   2600.0             30\n",
      "5          119   2500.0             30\n",
      " \n",
      "             SYSTIMESTAMP\n",
      "0 2017-11-13 13:01:54.073\n"
     ]
    }
   ],
   "source": [
    "# 테이블 생성 및 조회\n",
    "c.execute(\"\"\"CREATE TABLE hr.emp_30\n",
    "          AS SELECT * FROM hr.employees WHERE department_id = 30\"\"\")\n",
    "\n",
    "data = pd.read_sql(\"\"\"SELECT employee_id, salary, department_id \n",
    "                   FROM hr.emp_30\"\"\", conn)\n",
    "print(data)\n",
    "\n",
    "# 현재시간\n",
    "data = pd.read_sql(\"SELECT SYSTIMESTAMP FROM dual\", conn)\n",
    "print(' ')\n",
    "print(data)"
   ]
  },
  {
   "cell_type": "code",
   "execution_count": 20,
   "metadata": {},
   "outputs": [
    {
     "name": "stdout",
     "output_type": "stream",
     "text": [
      "   EMPLOYEE_ID   SALARY\n",
      "0          114  30000.0\n"
     ]
    }
   ],
   "source": [
    "# 데이터 갱신  \n",
    "c.execute(\"\"\"UPDATE hr.emp_30\n",
    "          SET salary = 30000\n",
    "          WHERE employee_id = 114\"\"\")\n",
    "\n",
    "conn.commit()\n",
    "\n",
    "# commit 후 갱신된 데이터 조회\n",
    "data = pd.read_sql(\"\"\"SELECT employee_id, salary \n",
    "                   FROM hr.emp_30 \n",
    "                   WHERE employee_id = 114\"\"\", conn)\n",
    "print(data)"
   ]
  },
  {
   "cell_type": "markdown",
   "metadata": {},
   "source": [
    "#### commit 이전의 데이터 조회\n",
    "commit을 하더라도 갱신 전 데이터는 undo에 저장되어있다.\n",
    "집계값을 구하는 동안 DML수정 못하도록(읽기의 일관성) 이전값을 undo가 가지고 있는 것"
   ]
  },
  {
   "cell_type": "code",
   "execution_count": 24,
   "metadata": {},
   "outputs": [
    {
     "name": "stdout",
     "output_type": "stream",
     "text": [
      "   EMPLOYEE_ID   SALARY\n",
      "0          114  11000.0\n"
     ]
    }
   ],
   "source": [
    "# 1분전 내용을 출력\n",
    "data = pd.read_sql(\"\"\"SELECT employee_id, salary\n",
    "                   FROM hr.emp_30 \n",
    "                   AS OF TIMESTAMP (SYSTIMESTAMP - INTERVAL '1' MINUTE)\n",
    "                   WHERE employee_id = 114\"\"\", conn)\n",
    "print(data)"
   ]
  },
  {
   "cell_type": "markdown",
   "metadata": {},
   "source": [
    "### < SAVEPOINT >"
   ]
  },
  {
   "cell_type": "code",
   "execution_count": 73,
   "metadata": {},
   "outputs": [
    {
     "name": "stdout",
     "output_type": "stream",
     "text": [
      "   ID\n",
      "0   1\n"
     ]
    }
   ],
   "source": [
    "# 테이블생성\n",
    "c.execute(\"CREATE TABLE TEST(ID NUMBER)\")\n",
    "\n",
    "# 데이터 삽입\n",
    "c.execute(\"INSERT INTO TEST(ID) VALUES(1)\")\n",
    "\n",
    "# 저장되기 이전에 되돌아올 포인트 지정 \n",
    "c.execute(\"SAVEPOINT A\") \n",
    "data = pd.read_sql(\"SELECT * FROM TEST\", conn)\n",
    "print(data)"
   ]
  },
  {
   "cell_type": "code",
   "execution_count": 74,
   "metadata": {},
   "outputs": [
    {
     "name": "stdout",
     "output_type": "stream",
     "text": [
      "   ID\n",
      "0   1\n",
      "1   2\n"
     ]
    }
   ],
   "source": [
    "c.execute(\"INSERT INTO TEST(ID) VALUES(2)\")\n",
    "\n",
    "c.execute(\"SAVEPOINT b\")\n",
    "\n",
    "data = pd.read_sql(\"SELECT * FROM TEST\", conn)\n",
    "print(data)"
   ]
  },
  {
   "cell_type": "code",
   "execution_count": 75,
   "metadata": {},
   "outputs": [
    {
     "name": "stdout",
     "output_type": "stream",
     "text": [
      "   ID\n",
      "0   1\n",
      "1   2\n",
      "2   3\n"
     ]
    }
   ],
   "source": [
    "c.execute(\"INSERT INTO TEST(ID) VALUES(3)\")\n",
    "\n",
    "data = pd.read_sql(\"SELECT * FROM TEST\", conn)\n",
    "print(data)"
   ]
  },
  {
   "cell_type": "code",
   "execution_count": 76,
   "metadata": {},
   "outputs": [
    {
     "name": "stdout",
     "output_type": "stream",
     "text": [
      "   ID\n",
      "0   1\n"
     ]
    }
   ],
   "source": [
    "# A 지점으로 되돌아가기\n",
    "c.execute(\"ROLLBACK TO A\")  \n",
    "\n",
    "data = pd.read_sql(\"SELECT * FROM TEST\", conn)\n",
    "print(data)"
   ]
  },
  {
   "cell_type": "code",
   "execution_count": 77,
   "metadata": {
    "collapsed": true
   },
   "outputs": [],
   "source": [
    "# conn.rollback()   마지막 commit된 상태로 되돌아가기\n",
    "# conn.commit()"
   ]
  },
  {
   "cell_type": "code",
   "execution_count": null,
   "metadata": {
    "collapsed": true
   },
   "outputs": [],
   "source": [
    "c.close()\n",
    "conn.close()"
   ]
  }
 ],
 "metadata": {
  "kernelspec": {
   "display_name": "Python 3",
   "language": "python",
   "name": "python3"
  },
  "language_info": {
   "codemirror_mode": {
    "name": "ipython",
    "version": 3
   },
   "file_extension": ".py",
   "mimetype": "text/x-python",
   "name": "python",
   "nbconvert_exporter": "python",
   "pygments_lexer": "ipython3",
   "version": "3.6.1"
  }
 },
 "nbformat": 4,
 "nbformat_minor": 2
}
