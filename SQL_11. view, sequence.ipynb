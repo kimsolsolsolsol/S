{
 "cells": [
  {
   "cell_type": "markdown",
   "metadata": {},
   "source": [
    "***\n",
    "# chapter 11. VIEW / SEQUENCE\n",
    "***\n",
    "### KEYWORD\n",
    "* D\n",
    "* D\n",
    "* D\n"
   ]
  },
  {
   "cell_type": "code",
   "execution_count": 1,
   "metadata": {
    "collapsed": true
   },
   "outputs": [],
   "source": [
    "import pandas as pd\n",
    "import cx_Oracle\n",
    "xedb = cx_Oracle.connect('hr/hr@localhost/xe')\n",
    "cur = xedb.cursor()"
   ]
  },
  {
   "cell_type": "markdown",
   "metadata": {},
   "source": [
    "# [ view ]\n",
    "* 오브젝트 단위의 간접 ACCESS : 실제 데이터를 구성하고 있는 테이블을 만들지 않고, 간접적으로 ACCESS\n",
    "\n",
    "### 뷰 생성 권한 확인"
   ]
  },
  {
   "cell_type": "code",
   "execution_count": 2,
   "metadata": {},
   "outputs": [
    {
     "name": "stdout",
     "output_type": "stream",
     "text": [
      "               PRIVILEGE\n",
      "0         CREATE SESSION\n",
      "1          ALTER SESSION\n",
      "2   UNLIMITED TABLESPACE\n",
      "3           CREATE TABLE\n",
      "4         CREATE CLUSTER\n",
      "5         CREATE SYNONYM\n",
      "6            CREATE VIEW\n",
      "7        CREATE SEQUENCE\n",
      "8   CREATE DATABASE LINK\n",
      "9       CREATE PROCEDURE\n",
      "10        CREATE TRIGGER\n",
      "11           CREATE TYPE\n",
      "12       CREATE OPERATOR\n",
      "13      CREATE INDEXTYPE\n"
     ]
    }
   ],
   "source": [
    "data = pd.read_sql(\"SELECT * FROM session_privs\",xedb)\n",
    "print(data)\n",
    "# CREATE VIEW 확인"
   ]
  },
  {
   "cell_type": "markdown",
   "metadata": {},
   "source": [
    "### 뷰 생성 "
   ]
  },
  {
   "cell_type": "code",
   "execution_count": 3,
   "metadata": {},
   "outputs": [
    {
     "name": "stdout",
     "output_type": "stream",
     "text": [
      "   EMPLOYEE_ID FIRST_NAME  LAST_NAME     EMAIL  PHONE_NUMBER  HIRE_DATE  \\\n",
      "0          201    Michael  Hartstein  MHARTSTE  515.123.5555 2004-02-17   \n",
      "1          202        Pat        Fay      PFAY  603.123.6666 2005-08-17   \n",
      "\n",
      "   JOB_ID  SALARY COMMISSION_PCT  MANAGER_ID  DEPARTMENT_ID  \n",
      "0  MK_MAN  1000.0           None         100             20  \n",
      "1  MK_REP  1000.0           None         201             20  \n"
     ]
    }
   ],
   "source": [
    "cur.execute(\"\"\"CREATE OR REPLACE VIEW empvw_20\n",
    "                AS SELECT * FROM employees WHERE department_id=20\"\"\")\n",
    "\n",
    "\n",
    "data = pd.read_sql(\"SELECT * FROM empvw_20\",xedb)\n",
    "print(data)"
   ]
  },
  {
   "cell_type": "markdown",
   "metadata": {},
   "source": [
    "### 테이블인지 뷰인지 확인"
   ]
  },
  {
   "cell_type": "code",
   "execution_count": 4,
   "metadata": {},
   "outputs": [
    {
     "name": "stdout",
     "output_type": "stream",
     "text": [
      "  OBJECT_NAME SUBOBJECT_NAME  OBJECT_ID DATA_OBJECT_ID OBJECT_TYPE  \\\n",
      "0    EMPVW_20           None      20341           None        VIEW   \n",
      "\n",
      "              CREATED       LAST_DDL_TIME            TIMESTAMP STATUS  \\\n",
      "0 2017-11-13 17:26:50 2017-11-13 17:26:50  2017-11-13:17:26:50  VALID   \n",
      "\n",
      "  TEMPORARY GENERATED SECONDARY  NAMESPACE EDITION_NAME  \n",
      "0         N         N         N          1         None  \n"
     ]
    }
   ],
   "source": [
    "data = pd.read_sql(\"\"\"SELECT * \n",
    "                   FROM user_objects \n",
    "                   WHERE object_name IN('EMP_20','EMPVW_20')\n",
    "                   \"\"\",xedb)\n",
    "print(data)"
   ]
  },
  {
   "cell_type": "code",
   "execution_count": 5,
   "metadata": {},
   "outputs": [
    {
     "name": "stdout",
     "output_type": "stream",
     "text": [
      "  VIEW_NAME  TEXT_LENGTH                                               TEXT  \\\n",
      "0  EMPVW_20          182  SELECT \"EMPLOYEE_ID\",\"FIRST_NAME\",\"LAST_NAME\",...   \n",
      "\n",
      "  TYPE_TEXT_LENGTH TYPE_TEXT OID_TEXT_LENGTH OID_TEXT VIEW_TYPE_OWNER  \\\n",
      "0             None      None            None     None            None   \n",
      "\n",
      "  VIEW_TYPE SUPERVIEW_NAME EDITIONING_VIEW READ_ONLY  \n",
      "0      None           None               N         N  \n"
     ]
    }
   ],
   "source": [
    "# 뷰 상세정보 조회\n",
    "data = pd.read_sql(\"\"\"SELECT * \n",
    "                   FROM user_views \n",
    "                   WHERE view_name='EMPVW_20'\n",
    "                   \"\"\",xedb)\n",
    "print(data)"
   ]
  },
  {
   "cell_type": "markdown",
   "metadata": {},
   "source": [
    "### 단순뷰\n",
    "* 뷰가 바라보는 테이블에 대해서 DML가능\n",
    "* 함수, 표현식, 그룹함수, groupby, join 등 없음"
   ]
  },
  {
   "cell_type": "code",
   "execution_count": 6,
   "metadata": {},
   "outputs": [
    {
     "name": "stdout",
     "output_type": "stream",
     "text": [
      "   SALARY\n",
      "0  1000.0\n",
      "1  1000.0\n"
     ]
    }
   ],
   "source": [
    "cur.execute(\"\"\"UPDATE empvw_20\n",
    "                SET salary = 1000\"\"\")\n",
    "\n",
    "\n",
    "data = pd.read_sql(\"SELECT salary FROM empvw_20\",xedb)\n",
    "print(data)"
   ]
  },
  {
   "cell_type": "markdown",
   "metadata": {},
   "source": [
    "### 복합뷰\n",
    "* 단순뷰 + WITH READ ONLY\n",
    "* 수정불가, 조회만 가능"
   ]
  },
  {
   "cell_type": "code",
   "execution_count": 7,
   "metadata": {},
   "outputs": [
    {
     "name": "stderr",
     "output_type": "stream",
     "text": [
      "ERROR:root:An unexpected error occurred while tokenizing input\n",
      "The following traceback may be corrupted or invalid\n",
      "The error message is: ('EOF in multi-line string', (1, 27))\n",
      "\n"
     ]
    },
    {
     "ename": "DatabaseError",
     "evalue": "ORA-42399: cannot perform a DML operation on a read-only view",
     "output_type": "error",
     "traceback": [
      "\u001b[1;31m---------------------------------------------------------------------------\u001b[0m",
      "\u001b[1;31mDatabaseError\u001b[0m                             Traceback (most recent call last)",
      "\u001b[1;32m<ipython-input-7-1d14de8fde1f>\u001b[0m in \u001b[0;36m<module>\u001b[1;34m()\u001b[0m\n\u001b[0;32m      5\u001b[0m \u001b[1;33m\u001b[0m\u001b[0m\n\u001b[0;32m      6\u001b[0m cur.execute(\"\"\"UPDATE empvw_20\n\u001b[1;32m----> 7\u001b[1;33m             SET salary=1000\"\"\")\n\u001b[0m",
      "\u001b[1;31mDatabaseError\u001b[0m: ORA-42399: cannot perform a DML operation on a read-only view"
     ]
    }
   ],
   "source": [
    "cur.execute(\"\"\"CREATE OR REPLACE VIEW empvw_20\n",
    "                    AS SELECT * FROM employees WHERE department_id=20\n",
    "                    WITH READ ONLY\"\"\")\n",
    "\n",
    "\n",
    "cur.execute(\"\"\"UPDATE empvw_20\n",
    "            SET salary=1000\"\"\")"
   ]
  },
  {
   "cell_type": "markdown",
   "metadata": {},
   "source": [
    "### 삭제"
   ]
  },
  {
   "cell_type": "code",
   "execution_count": 12,
   "metadata": {},
   "outputs": [],
   "source": [
    "cur.execute(\"DROP VIEW empvw_20\")"
   ]
  },
  {
   "cell_type": "markdown",
   "metadata": {},
   "source": [
    "# [ SEQUENCE ]\n",
    "* 자동일련번호 생성\n",
    "\n",
    "### 권한부여 확인"
   ]
  },
  {
   "cell_type": "code",
   "execution_count": 13,
   "metadata": {},
   "outputs": [
    {
     "name": "stdout",
     "output_type": "stream",
     "text": [
      "               PRIVILEGE\n",
      "0         CREATE SESSION\n",
      "1          ALTER SESSION\n",
      "2   UNLIMITED TABLESPACE\n",
      "3           CREATE TABLE\n",
      "4         CREATE CLUSTER\n",
      "5         CREATE SYNONYM\n",
      "6            CREATE VIEW\n",
      "7        CREATE SEQUENCE\n",
      "8   CREATE DATABASE LINK\n",
      "9       CREATE PROCEDURE\n",
      "10        CREATE TRIGGER\n",
      "11           CREATE TYPE\n",
      "12       CREATE OPERATOR\n",
      "13      CREATE INDEXTYPE\n"
     ]
    }
   ],
   "source": [
    "data = pd.read_sql(\"SELECT * FROM session_privs\",xedb)\n",
    "print(data)\n",
    "# CREATE SEQUENCE 확인"
   ]
  },
  {
   "cell_type": "markdown",
   "metadata": {},
   "source": [
    "### 시퀀스 생성"
   ]
  },
  {
   "cell_type": "code",
   "execution_count": 18,
   "metadata": {},
   "outputs": [
    {
     "name": "stdout",
     "output_type": "stream",
     "text": [
      "  SEQUENCE_NAME  MIN_VALUE  MAX_VALUE  INCREMENT_BY CYCLE_FLAG ORDER_FLAG  \\\n",
      "0    EMP_ID_SEQ          1         50             1          N          N   \n",
      "\n",
      "   CACHE_SIZE  LAST_NUMBER  \n",
      "0          20            1  \n"
     ]
    }
   ],
   "source": [
    "# 새 테이블 생성\n",
    "cur.execute(\"\"\"CREATE TABLE emp_seq (ID NUMBER, NAME VARCHAR2(10), DAY TIMESTAMP DEFAULT SYSTIMESTAMP)\"\"\")\n",
    "\n",
    "\n",
    "# 시퀀스 생성\n",
    "cur.execute(\"\"\"CREATE SEQUENCE emp_id_seq\n",
    "                                INCREMENT BY 1  \n",
    "                                START WITH 1   \n",
    "                                MAXVALUE 50  \n",
    "                                NOCYCLE\"\"\") \n",
    "\n",
    "#증가크기1, 1부터, 50까지, 기본값 NOCYCLE(51번부터는 없다)\n",
    "                \n",
    "data = pd.read_sql(\"\"\"SELECT * \n",
    "                   FROM user_sequences \n",
    "                   WHERE sequence_name = 'EMP_ID_SEQ'\"\"\",xedb)\n",
    "print(data)"
   ]
  },
  {
   "cell_type": "markdown",
   "metadata": {},
   "source": [
    "### 시퀀스 번호 순서      "
   ]
  },
  {
   "cell_type": "code",
   "execution_count": 19,
   "metadata": {},
   "outputs": [
    {
     "name": "stdout",
     "output_type": "stream",
     "text": [
      "   ID NAME                     DAY\n",
      "0   1   HR 2017-11-13 17:35:01.924\n"
     ]
    }
   ],
   "source": [
    "cur.execute(\"\"\"INSERT INTO emp_seq(ID, NAME, DAY) \n",
    "            VALUES(emp_id_seq.nextval, USER, DEFAULT)\"\"\")\n",
    "    \n",
    "data = pd.read_sql(\"SELECT * FROM emp_seq\",xedb)\n",
    "print(data) "
   ]
  },
  {
   "cell_type": "code",
   "execution_count": 20,
   "metadata": {},
   "outputs": [
    {
     "name": "stdout",
     "output_type": "stream",
     "text": [
      "   ID NAME                     DAY\n",
      "0   1   HR 2017-11-13 17:35:01.924\n",
      "1   2   HR 2017-11-13 17:35:04.929\n"
     ]
    }
   ],
   "source": [
    "cur.execute(\"\"\"INSERT INTO emp_seq(ID, NAME, DAY) \n",
    "            VALUES(emp_id_seq.nextval, USER, DEFAULT)\"\"\")\n",
    "    \n",
    "data = pd.read_sql(\"SELECT * FROM emp_seq\",xedb)\n",
    "print(data) "
   ]
  },
  {
   "cell_type": "code",
   "execution_count": 21,
   "metadata": {
    "collapsed": true
   },
   "outputs": [],
   "source": [
    "xedb.rollback()"
   ]
  },
  {
   "cell_type": "markdown",
   "metadata": {},
   "source": [
    "=> 시퀀스값 취소하지 못하기 때문에 사용한 시퀀스 번호는 재사용하지 못한다.\n",
    "그 다음번호 부터 시작된다."
   ]
  },
  {
   "cell_type": "code",
   "execution_count": 22,
   "metadata": {},
   "outputs": [
    {
     "name": "stdout",
     "output_type": "stream",
     "text": [
      "   ID NAME                     DAY\n",
      "0   3   HR 2017-11-13 17:35:32.723\n"
     ]
    }
   ],
   "source": [
    "cur.execute(\"\"\"INSERT INTO emp_seq(ID, NAME, DAY) \n",
    "            VALUES(emp_id_seq.nextval, USER, DEFAULT)\"\"\")\n",
    "\n",
    "data = pd.read_sql(\"SELECT * FROM emp_seq\",xedb)\n",
    "print(data)"
   ]
  },
  {
   "cell_type": "code",
   "execution_count": 23,
   "metadata": {},
   "outputs": [
    {
     "name": "stdout",
     "output_type": "stream",
     "text": [
      "   ID NAME                     DAY\n",
      "0   3   HR 2017-11-13 17:35:32.723\n",
      "1   4   HR 2017-11-13 17:35:39.095\n"
     ]
    }
   ],
   "source": [
    "cur.execute(\"\"\"INSERT INTO emp_seq(ID, NAME, DAY) \n",
    "            VALUES(emp_id_seq.nextval, USER, DEFAULT)\"\"\")\n",
    "\n",
    "xedb.commit()\n",
    "\n",
    "data = pd.read_sql(\"SELECT * FROM emp_seq\",xedb)\n",
    "print(data)"
   ]
  },
  {
   "cell_type": "markdown",
   "metadata": {},
   "source": [
    "### seq.currval / seq.nextval"
   ]
  },
  {
   "cell_type": "code",
   "execution_count": 24,
   "metadata": {},
   "outputs": [
    {
     "name": "stdout",
     "output_type": "stream",
     "text": [
      "   CURRVAL\n",
      "0        4\n",
      " \n",
      "   NEXTVAL\n",
      "0        5\n"
     ]
    }
   ],
   "source": [
    "curr = pd.read_sql(\"SELECT emp_id_seq.currval FROM dual\",xedb)\n",
    "# currval : 현재사용한 번호 리턴\n",
    "\n",
    "next = pd.read_sql(\"SELECT emp_id_seq.nextval FROM dual\",xedb)\n",
    "# nextval : 다음사용될 번호리턴\n",
    "\n",
    "print(curr)\n",
    "print(' ')\n",
    "print(next)"
   ]
  },
  {
   "cell_type": "markdown",
   "metadata": {},
   "source": [
    "### 시퀀스 정보 수정"
   ]
  },
  {
   "cell_type": "code",
   "execution_count": 25,
   "metadata": {},
   "outputs": [
    {
     "name": "stdout",
     "output_type": "stream",
     "text": [
      "  SEQUENCE_NAME  MIN_VALUE  MAX_VALUE  INCREMENT_BY CYCLE_FLAG ORDER_FLAG  \\\n",
      "0    EMP_ID_SEQ          1         50             1          N          N   \n",
      "\n",
      "   CACHE_SIZE  LAST_NUMBER  \n",
      "0          20           21  \n"
     ]
    }
   ],
   "source": [
    "# 수정 전 MAXVALUE=50, INCREMENT BY =1\n",
    "data = pd.read_sql(\"\"\"SELECT * \n",
    "                   FROM user_sequences \n",
    "                   WHERE sequence_name = 'EMP_ID_SEQ'\"\"\",xedb)\n",
    "print(data)"
   ]
  },
  {
   "cell_type": "code",
   "execution_count": 28,
   "metadata": {},
   "outputs": [
    {
     "name": "stdout",
     "output_type": "stream",
     "text": [
      "  SEQUENCE_NAME  MIN_VALUE  MAX_VALUE  INCREMENT_BY CYCLE_FLAG ORDER_FLAG  \\\n",
      "0    EMP_ID_SEQ          1        100             3          N          N   \n",
      "\n",
      "   CACHE_SIZE  LAST_NUMBER  \n",
      "0          20            8  \n"
     ]
    }
   ],
   "source": [
    "# MAXVALUE , INCREMENT BY 수정\n",
    "cur.execute(\"\"\"ALTER SEQUENCE emp_id_seq MAXVALUE 100\"\"\")\n",
    "cur.execute(\"\"\"ALTER SEQUENCE emp_id_seq INCREMENT BY 3\"\"\")\n",
    "\n",
    "data = pd.read_sql(\"\"\"SELECT * \n",
    "                   FROM user_sequences \n",
    "                   WHERE sequence_name = 'EMP_ID_SEQ'\n",
    "                   \"\"\",xedb)\n",
    "print(data)"
   ]
  },
  {
   "cell_type": "markdown",
   "metadata": {},
   "source": [
    "### 삭제"
   ]
  },
  {
   "cell_type": "code",
   "execution_count": 29,
   "metadata": {},
   "outputs": [
    {
     "name": "stdout",
     "output_type": "stream",
     "text": [
      "Empty DataFrame\n",
      "Columns: [ID, NAME, DAY]\n",
      "Index: []\n"
     ]
    }
   ],
   "source": [
    "# 테이블 삭제\n",
    "cur.execute(\"TRUNCATE TABLE emp_seq\")\n",
    "\n",
    "# delete는 rollback을 위한 undo가 필요하지만 truncate는 DDL이라 undo가 필요하지 않다. \n",
    "# 리소스를 줄이면서 삭제하기 때문에 속도가 빠르지만 ROLLBACK 불가능하다\n",
    "\n",
    "data = pd.read_sql(\"SELECT * FROM emp_seq\",xedb)\n",
    "print(data)"
   ]
  },
  {
   "cell_type": "code",
   "execution_count": 31,
   "metadata": {},
   "outputs": [
    {
     "ename": "DatabaseError",
     "evalue": "ORA-02289: sequence does not exist",
     "output_type": "error",
     "traceback": [
      "\u001b[1;31m---------------------------------------------------------------------------\u001b[0m",
      "\u001b[1;31mDatabaseError\u001b[0m                             Traceback (most recent call last)",
      "\u001b[1;32m<ipython-input-31-b73ea7a3abb2>\u001b[0m in \u001b[0;36m<module>\u001b[1;34m()\u001b[0m\n\u001b[0;32m      1\u001b[0m \u001b[1;31m# 시퀀스 삭제\u001b[0m\u001b[1;33m\u001b[0m\u001b[1;33m\u001b[0m\u001b[0m\n\u001b[1;32m----> 2\u001b[1;33m \u001b[0mcur\u001b[0m\u001b[1;33m.\u001b[0m\u001b[0mexecute\u001b[0m\u001b[1;33m(\u001b[0m\u001b[1;34m\"DROP SEQUENCE emp_id_seq\"\u001b[0m\u001b[1;33m)\u001b[0m\u001b[1;33m\u001b[0m\u001b[0m\n\u001b[0m\u001b[0;32m      3\u001b[0m \u001b[1;33m\u001b[0m\u001b[0m\n\u001b[0;32m      4\u001b[0m data = pd.read_sql(\"\"\"SELECT * \n\u001b[0;32m      5\u001b[0m                    \u001b[0mFROM\u001b[0m \u001b[0muser_sequences\u001b[0m\u001b[1;33m\u001b[0m\u001b[0m\n",
      "\u001b[1;31mDatabaseError\u001b[0m: ORA-02289: sequence does not exist"
     ]
    }
   ],
   "source": [
    "# 시퀀스 삭제\n",
    "cur.execute(\"DROP SEQUENCE emp_id_seq\")\n",
    "\n",
    "data = pd.read_sql(\"\"\"SELECT * \n",
    "                   FROM user_sequences \n",
    "                   WHERE sequence_name = 'EMP_ID_SEQ'\n",
    "                   \"\"\",xedb)\n",
    "print(data)"
   ]
  },
  {
   "cell_type": "code",
   "execution_count": 32,
   "metadata": {
    "collapsed": true
   },
   "outputs": [],
   "source": [
    "cur.close()\n",
    "xedb.close()"
   ]
  }
 ],
 "metadata": {
  "kernelspec": {
   "display_name": "Python 3",
   "language": "python",
   "name": "python3"
  },
  "language_info": {
   "codemirror_mode": {
    "name": "ipython",
    "version": 3
   },
   "file_extension": ".py",
   "mimetype": "text/x-python",
   "name": "python",
   "nbconvert_exporter": "python",
   "pygments_lexer": "ipython3",
   "version": "3.6.1"
  }
 },
 "nbformat": 4,
 "nbformat_minor": 2
}
