{
 "cells": [
  {
   "cell_type": "markdown",
   "metadata": {},
   "source": [
    "***\n",
    "# chapter 8. Analytic Function\n",
    "***\n",
    "### keyword\n",
    "* ORDER BY\n",
    "* PARTITION BY\n",
    "* RANK, DENSE_RANK, ROW_NUMBER\n",
    "* ROWS BETWEEN UNBOUNDED PRECEDING AND CURRENT ROW , ROWS BETWEEN UNBOUNDED PRECEDING AND UNBOUNDED FOLLOWING\n",
    "* FIRST_VALUE, LAST_VALUE"
   ]
  },
  {
   "cell_type": "code",
   "execution_count": 1,
   "metadata": {
    "collapsed": true
   },
   "outputs": [],
   "source": [
    "import cx_Oracle\n",
    "import pandas as pd\n",
    "xedb = cx_Oracle.connect('hr/hr@localhost/xe')\n",
    "cur = xedb.cursor()"
   ]
  },
  {
   "cell_type": "markdown",
   "metadata": {},
   "source": [
    "#### 20번 부서 사원들의 급여 누적 합계"
   ]
  },
  {
   "cell_type": "code",
   "execution_count": 2,
   "metadata": {},
   "outputs": [
    {
     "name": "stdout",
     "output_type": "stream",
     "text": [
      "   EMPLOYEE_ID   SALARY  DEPARTMENT_ID  TOTAL\n",
      "0          201  13000.0             20  13000\n",
      "1          202   6000.0             20  19000\n"
     ]
    }
   ],
   "source": [
    "df = pd.read_sql(\"\"\"\n",
    "        SELECT e.employee_id, e.salary, e.department_id, SUM(t.salary) AS TOTAL\n",
    "        FROM employees e, employees t\n",
    "        WHERE e.employee_id >= t.employee_id\n",
    "        AND t.department_id = 20\n",
    "        AND e.department_id = 20\n",
    "        GROUP BY e.employee_id, e.salary, e.department_id\n",
    "        ORDER BY e.employee_id\n",
    "        \"\"\",xedb)\n",
    "print(df)"
   ]
  },
  {
   "cell_type": "markdown",
   "metadata": {},
   "source": [
    "=> 문제점 : 너무 많은 스캔을 하고, 테이블 두 개를 access\n",
    "## < ORDER BY >"
   ]
  },
  {
   "cell_type": "code",
   "execution_count": 3,
   "metadata": {},
   "outputs": [
    {
     "name": "stdout",
     "output_type": "stream",
     "text": [
      "   EMPLOYEE_ID   SALARY  DEPARTMENT_ID  TOTAL\n",
      "0          201  13000.0             20  13000\n",
      "1          202   6000.0             20  19000\n"
     ]
    }
   ],
   "source": [
    "df = pd.read_sql(\"\"\"\n",
    "        SELECT employee_id, salary, department_id, \n",
    "                SUM(salary) OVER (ORDER BY employee_id) AS TOTAL\n",
    "        FROM employees\n",
    "        WHERE department_id = 20 \n",
    "        \"\"\",xedb)\n",
    "print(df)"
   ]
  },
  {
   "cell_type": "code",
   "execution_count": 4,
   "metadata": {},
   "outputs": [
    {
     "name": "stdout",
     "output_type": "stream",
     "text": [
      "   EMPLOYEE_ID   SALARY  DEPARTMENT_ID  TOTAL\n",
      "0          201  13000.0             20  19000\n",
      "1          202   6000.0             20  19000\n"
     ]
    }
   ],
   "source": [
    "# ORDER BY 생략, 총합계산\n",
    "\n",
    "df = pd.read_sql(\"\"\"\n",
    "        SELECT employee_id, salary, department_id, \n",
    "            SUM(salary) OVER () AS TOTAL\n",
    "        FROM employees\n",
    "        WHERE department_id = 20 \n",
    "        \"\"\",xedb)\n",
    "print(df)"
   ]
  },
  {
   "cell_type": "markdown",
   "metadata": {},
   "source": [
    "## < PARTITION BY >\n",
    "#### 부서별 급여의 누계, 총액"
   ]
  },
  {
   "cell_type": "code",
   "execution_count": 5,
   "metadata": {},
   "outputs": [
    {
     "name": "stdout",
     "output_type": "stream",
     "text": [
      "     EMPLOYEE_ID   SALARY  DEPARTMENT_ID  DEPT_TOTAL  RUNNIG_TOTAL\n",
      "0            200   4400.0           10.0        4400          4400\n",
      "1            201  13000.0           20.0       19000         13000\n",
      "2            202   6000.0           20.0       19000         19000\n",
      "3            114  11000.0           30.0       24900         11000\n",
      "4            115   3100.0           30.0       24900         14100\n",
      "5            116   2900.0           30.0       24900         17000\n",
      "6            117   2800.0           30.0       24900         19800\n",
      "7            118   2600.0           30.0       24900         22400\n",
      "8            119   2500.0           30.0       24900         24900\n",
      "9            203   6500.0           40.0        6500          6500\n",
      "10           120   8000.0           50.0      156400          8000\n",
      "11           121   8200.0           50.0      156400         16200\n",
      "12           122   7900.0           50.0      156400         24100\n",
      "13           123   6500.0           50.0      156400         30600\n",
      "14           124   5800.0           50.0      156400         36400\n",
      "15           125   3200.0           50.0      156400         39600\n",
      "16           126   2700.0           50.0      156400         42300\n",
      "17           127   2400.0           50.0      156400         44700\n",
      "18           128   2200.0           50.0      156400         46900\n",
      "19           129   3300.0           50.0      156400         50200\n",
      "20           130   2800.0           50.0      156400         53000\n",
      "21           131   2500.0           50.0      156400         55500\n",
      "22           132   2100.0           50.0      156400         57600\n",
      "23           133   3300.0           50.0      156400         60900\n",
      "24           134   2900.0           50.0      156400         63800\n",
      "25           135   2400.0           50.0      156400         66200\n",
      "26           136   2200.0           50.0      156400         68400\n",
      "27           137   3600.0           50.0      156400         72000\n",
      "28           138   3200.0           50.0      156400         75200\n",
      "29           139   2700.0           50.0      156400         77900\n",
      "..           ...      ...            ...         ...           ...\n",
      "77           161   7000.0           80.0      304500        163000\n",
      "78           162  10500.0           80.0      304500        173500\n",
      "79           163   9500.0           80.0      304500        183000\n",
      "80           164   7200.0           80.0      304500        190200\n",
      "81           165   6800.0           80.0      304500        197000\n",
      "82           166   6400.0           80.0      304500        203400\n",
      "83           167   6200.0           80.0      304500        209600\n",
      "84           168  11500.0           80.0      304500        221100\n",
      "85           169  10000.0           80.0      304500        231100\n",
      "86           170   9600.0           80.0      304500        240700\n",
      "87           171   7400.0           80.0      304500        248100\n",
      "88           172   7300.0           80.0      304500        255400\n",
      "89           173   6100.0           80.0      304500        261500\n",
      "90           174  11000.0           80.0      304500        272500\n",
      "91           175   8800.0           80.0      304500        281300\n",
      "92           176   8600.0           80.0      304500        289900\n",
      "93           177   8400.0           80.0      304500        298300\n",
      "94           179   6200.0           80.0      304500        304500\n",
      "95           100  24000.0           90.0       58000         24000\n",
      "96           101  17000.0           90.0       58000         41000\n",
      "97           102  17000.0           90.0       58000         58000\n",
      "98           108  12008.0          100.0       51608         12008\n",
      "99           109   9000.0          100.0       51608         21008\n",
      "100          110   8200.0          100.0       51608         29208\n",
      "101          111   7700.0          100.0       51608         36908\n",
      "102          112   7800.0          100.0       51608         44708\n",
      "103          113   6900.0          100.0       51608         51608\n",
      "104          205  12008.0          110.0       20308         12008\n",
      "105          206   8300.0          110.0       20308         20308\n",
      "106          178   7000.0            NaN        7000          7000\n",
      "\n",
      "[107 rows x 5 columns]\n"
     ]
    }
   ],
   "source": [
    "df = pd.read_sql(\"\"\"\n",
    "        SELECT employee_id, salary, department_id,\n",
    "                sum(salary) OVER (PARTITION BY department_id) AS dept_total,\n",
    "                sum(salary) OVER (PARTITION BY department_id ORDER BY employee_id) AS runnig_total\n",
    "        FROM employees\n",
    "        \"\"\",xedb)\n",
    "print(df)"
   ]
  },
  {
   "cell_type": "markdown",
   "metadata": {},
   "source": [
    "#### 사원 전체 평균값"
   ]
  },
  {
   "cell_type": "code",
   "execution_count": 6,
   "metadata": {},
   "outputs": [
    {
     "name": "stdout",
     "output_type": "stream",
     "text": [
      "     EMPLOYEE_ID   SALARY  DEPARTMENT_ID  AVG_SAL\n",
      "0            100  24000.0           90.0     6462\n",
      "1            101  17000.0           90.0     6462\n",
      "2            102  17000.0           90.0     6462\n",
      "3            103   9000.0           60.0     6462\n",
      "4            104   6000.0           60.0     6462\n",
      "5            105   4800.0           60.0     6462\n",
      "6            106   4800.0           60.0     6462\n",
      "7            107   4200.0           60.0     6462\n",
      "8            108  12008.0          100.0     6462\n",
      "9            109   9000.0          100.0     6462\n",
      "10           110   8200.0          100.0     6462\n",
      "11           111   7700.0          100.0     6462\n",
      "12           112   7800.0          100.0     6462\n",
      "13           113   6900.0          100.0     6462\n",
      "14           114  11000.0           30.0     6462\n",
      "15           115   3100.0           30.0     6462\n",
      "16           116   2900.0           30.0     6462\n",
      "17           117   2800.0           30.0     6462\n",
      "18           118   2600.0           30.0     6462\n",
      "19           119   2500.0           30.0     6462\n",
      "20           120   8000.0           50.0     6462\n",
      "21           121   8200.0           50.0     6462\n",
      "22           122   7900.0           50.0     6462\n",
      "23           123   6500.0           50.0     6462\n",
      "24           124   5800.0           50.0     6462\n",
      "25           125   3200.0           50.0     6462\n",
      "26           126   2700.0           50.0     6462\n",
      "27           127   2400.0           50.0     6462\n",
      "28           128   2200.0           50.0     6462\n",
      "29           129   3300.0           50.0     6462\n",
      "..           ...      ...            ...      ...\n",
      "77           177   8400.0           80.0     6462\n",
      "78           178   7000.0            NaN     6462\n",
      "79           179   6200.0           80.0     6462\n",
      "80           180   3200.0           50.0     6462\n",
      "81           181   3100.0           50.0     6462\n",
      "82           182   2500.0           50.0     6462\n",
      "83           183   2800.0           50.0     6462\n",
      "84           184   4200.0           50.0     6462\n",
      "85           185   4100.0           50.0     6462\n",
      "86           186   3400.0           50.0     6462\n",
      "87           187   3000.0           50.0     6462\n",
      "88           188   3800.0           50.0     6462\n",
      "89           189   3600.0           50.0     6462\n",
      "90           190   2900.0           50.0     6462\n",
      "91           191   2500.0           50.0     6462\n",
      "92           192   4000.0           50.0     6462\n",
      "93           193   3900.0           50.0     6462\n",
      "94           194   3200.0           50.0     6462\n",
      "95           195   2800.0           50.0     6462\n",
      "96           196   3100.0           50.0     6462\n",
      "97           197   3000.0           50.0     6462\n",
      "98           198   2600.0           50.0     6462\n",
      "99           199   2600.0           50.0     6462\n",
      "100          200   4400.0           10.0     6462\n",
      "101          201  13000.0           20.0     6462\n",
      "102          202   6000.0           20.0     6462\n",
      "103          203   6500.0           40.0     6462\n",
      "104          204  10000.0           70.0     6462\n",
      "105          205  12008.0          110.0     6462\n",
      "106          206   8300.0          110.0     6462\n",
      "\n",
      "[107 rows x 4 columns]\n"
     ]
    }
   ],
   "source": [
    "df = pd.read_sql(\"\"\"\n",
    "        SELECT employee_id, salary, department_id, round(avg(salary) over(),0) avg_sal\n",
    "        FROM employees\n",
    "        \"\"\",xedb)\n",
    "print(df)"
   ]
  },
  {
   "cell_type": "markdown",
   "metadata": {},
   "source": [
    "## < RANK, DENSE_RANK, ROW_NUMBER >\n",
    "#### 사원들의 급여 순위"
   ]
  },
  {
   "cell_type": "code",
   "execution_count": 7,
   "metadata": {},
   "outputs": [
    {
     "name": "stdout",
     "output_type": "stream",
     "text": [
      "     EMPLOYEE_ID    LAST_NAME   SALARY  RANK  DENSE_RANK  ROW_NUMBER\n",
      "0            100         King  24000.0     1           1           1\n",
      "1            101      Kochhar  17000.0     2           2           2\n",
      "2            102      De Haan  17000.0     2           2           3\n",
      "3            145      Russell  14000.0     4           3           4\n",
      "4            146     Partners  13500.0     5           4           5\n",
      "5            201    Hartstein  13000.0     6           5           6\n",
      "6            108    Greenberg  12008.0     7           6           7\n",
      "7            205      Higgins  12008.0     7           6           8\n",
      "8            147    Errazuriz  12000.0     9           7           9\n",
      "9            168         Ozer  11500.0    10           8          10\n",
      "10           114     Raphaely  11000.0    11           9          11\n",
      "11           148    Cambrault  11000.0    11           9          12\n",
      "12           174         Abel  11000.0    11           9          13\n",
      "13           149      Zlotkey  10500.0    14          10          14\n",
      "14           162      Vishney  10500.0    14          10          15\n",
      "15           156         King  10000.0    16          11          16\n",
      "16           150       Tucker  10000.0    16          11          17\n",
      "17           204         Baer  10000.0    16          11          18\n",
      "18           169        Bloom  10000.0    16          11          19\n",
      "19           170          Fox   9600.0    20          12          20\n",
      "20           163       Greene   9500.0    21          13          21\n",
      "21           151    Bernstein   9500.0    21          13          22\n",
      "22           157        Sully   9500.0    21          13          23\n",
      "23           152         Hall   9000.0    24          14          24\n",
      "24           103       Hunold   9000.0    24          14          25\n",
      "25           158       McEwen   9000.0    24          14          26\n",
      "26           109       Faviet   9000.0    24          14          27\n",
      "27           175       Hutton   8800.0    28          15          28\n",
      "28           176       Taylor   8600.0    29          16          29\n",
      "29           177   Livingston   8400.0    30          17          30\n",
      "..           ...          ...      ...   ...         ...         ...\n",
      "77           115         Khoo   3100.0    78          49          78\n",
      "78           196        Walsh   3100.0    78          49          79\n",
      "79           181       Fleaur   3100.0    78          49          80\n",
      "80           142       Davies   3100.0    78          49          81\n",
      "81           197       Feeney   3000.0    82          50          82\n",
      "82           187       Cabrio   3000.0    82          50          83\n",
      "83           116        Baida   2900.0    84          51          84\n",
      "84           190        Gates   2900.0    84          51          85\n",
      "85           134       Rogers   2900.0    84          51          86\n",
      "86           117       Tobias   2800.0    87          52          87\n",
      "87           195        Jones   2800.0    87          52          88\n",
      "88           183        Geoni   2800.0    87          52          89\n",
      "89           130     Atkinson   2800.0    87          52          90\n",
      "90           139          Seo   2700.0    91          53          91\n",
      "91           126  Mikkilineni   2700.0    91          53          92\n",
      "92           118       Himuro   2600.0    93          54          93\n",
      "93           199        Grant   2600.0    93          54          94\n",
      "94           198     OConnell   2600.0    93          54          95\n",
      "95           143        Matos   2600.0    93          54          96\n",
      "96           119   Colmenares   2500.0    97          55          97\n",
      "97           131       Marlow   2500.0    97          55          98\n",
      "98           191      Perkins   2500.0    97          55          99\n",
      "99           144       Vargas   2500.0    97          55         100\n",
      "100          182     Sullivan   2500.0    97          55         101\n",
      "101          140        Patel   2500.0    97          55         102\n",
      "102          135          Gee   2400.0   103          56         103\n",
      "103          127       Landry   2400.0   103          56         104\n",
      "104          136   Philtanker   2200.0   105          57         105\n",
      "105          128       Markle   2200.0   105          57         106\n",
      "106          132        Olson   2100.0   107          58         107\n",
      "\n",
      "[107 rows x 6 columns]\n"
     ]
    }
   ],
   "source": [
    "df = pd.read_sql(\"\"\"\n",
    "        SELECT employee_id, last_name, salary,\n",
    "                RANK() OVER (ORDER BY salary DESC) rank,\n",
    "                DENSE_RANK() OVER (ORDER BY salary DESC) DENSE_RANK,\n",
    "                ROW_NUMBER () OVER (ORDER BY salary DESC) ROW_NUMBER\n",
    "         FROM employees\n",
    "        \"\"\",xedb)\n",
    "print(df)"
   ]
  },
  {
   "cell_type": "markdown",
   "metadata": {},
   "source": [
    "#### 부서별, 부서내 급여순위"
   ]
  },
  {
   "cell_type": "code",
   "execution_count": 8,
   "metadata": {},
   "outputs": [
    {
     "name": "stdout",
     "output_type": "stream",
     "text": [
      "     DEPARTMENT_ID   SALARY  DEPT_RANK  DEPT_DENSE_RANK\n",
      "0             10.0   4400.0          1                1\n",
      "1             20.0  13000.0          1                1\n",
      "2             20.0   6000.0          2                2\n",
      "3             30.0  11000.0          1                1\n",
      "4             30.0   3100.0          2                2\n",
      "5             30.0   2900.0          3                3\n",
      "6             30.0   2800.0          4                4\n",
      "7             30.0   2600.0          5                5\n",
      "8             30.0   2500.0          6                6\n",
      "9             40.0   6500.0          1                1\n",
      "10            50.0   8200.0          1                1\n",
      "11            50.0   8000.0          2                2\n",
      "12            50.0   7900.0          3                3\n",
      "13            50.0   6500.0          4                4\n",
      "14            50.0   5800.0          5                5\n",
      "15            50.0   4200.0          6                6\n",
      "16            50.0   4100.0          7                7\n",
      "17            50.0   4000.0          8                8\n",
      "18            50.0   3900.0          9                9\n",
      "19            50.0   3800.0         10               10\n",
      "20            50.0   3600.0         11               11\n",
      "21            50.0   3600.0         11               11\n",
      "22            50.0   3500.0         13               12\n",
      "23            50.0   3400.0         14               13\n",
      "24            50.0   3300.0         15               14\n",
      "25            50.0   3300.0         15               14\n",
      "26            50.0   3200.0         17               15\n",
      "27            50.0   3200.0         17               15\n",
      "28            50.0   3200.0         17               15\n",
      "29            50.0   3200.0         17               15\n",
      "..             ...      ...        ...              ...\n",
      "77            80.0   9000.0         16               10\n",
      "78            80.0   8800.0         18               11\n",
      "79            80.0   8600.0         19               12\n",
      "80            80.0   8400.0         20               13\n",
      "81            80.0   8000.0         21               14\n",
      "82            80.0   8000.0         21               14\n",
      "83            80.0   7500.0         23               15\n",
      "84            80.0   7500.0         23               15\n",
      "85            80.0   7400.0         25               16\n",
      "86            80.0   7300.0         26               17\n",
      "87            80.0   7200.0         27               18\n",
      "88            80.0   7000.0         28               19\n",
      "89            80.0   7000.0         28               19\n",
      "90            80.0   6800.0         30               20\n",
      "91            80.0   6400.0         31               21\n",
      "92            80.0   6200.0         32               22\n",
      "93            80.0   6200.0         32               22\n",
      "94            80.0   6100.0         34               23\n",
      "95            90.0  24000.0          1                1\n",
      "96            90.0  17000.0          2                2\n",
      "97            90.0  17000.0          2                2\n",
      "98           100.0  12008.0          1                1\n",
      "99           100.0   9000.0          2                2\n",
      "100          100.0   8200.0          3                3\n",
      "101          100.0   7800.0          4                4\n",
      "102          100.0   7700.0          5                5\n",
      "103          100.0   6900.0          6                6\n",
      "104          110.0  12008.0          1                1\n",
      "105          110.0   8300.0          2                2\n",
      "106            NaN   7000.0          1                1\n",
      "\n",
      "[107 rows x 4 columns]\n"
     ]
    }
   ],
   "source": [
    "df = pd.read_sql(\"\"\"\n",
    "        SELECT department_id, salary,\n",
    "                RANK() OVER (PARTITION BY department_id ORDER BY salary DESC) dept_rank,\n",
    "                DENSE_RANK() OVER (PARTITION BY department_id ORDER BY salary DESC) dept_dense_rank\n",
    "        FROM employees\n",
    "        \"\"\",xedb)\n",
    "print(df)"
   ]
  },
  {
   "cell_type": "markdown",
   "metadata": {},
   "source": [
    "## < ROWS BETWEEN UNBOUNDED PRECEDING AND CURRENT ROW \n",
    "정렬결과의 처음부터 현재 행 까지를 대상\n",
    "## ROWS BETWEEN UNBOUNDED PRECEDING AND UNBOUNDED FOLLOWING >\n",
    "정렬결과의 처음과 끝 을 대상"
   ]
  },
  {
   "cell_type": "code",
   "execution_count": 9,
   "metadata": {},
   "outputs": [
    {
     "name": "stdout",
     "output_type": "stream",
     "text": [
      "     EMPLOYEE_ID   SALARY  RUNNING1  RUNNING2  TOTAL1  TOTAL2\n",
      "0            100  24000.0     24000     24000  691416  691416\n",
      "1            101  17000.0     41000     41000  691416  691416\n",
      "2            102  17000.0     58000     58000  691416  691416\n",
      "3            103   9000.0     67000     67000  691416  691416\n",
      "4            104   6000.0     73000     73000  691416  691416\n",
      "5            105   4800.0     77800     77800  691416  691416\n",
      "6            106   4800.0     82600     82600  691416  691416\n",
      "7            107   4200.0     86800     86800  691416  691416\n",
      "8            108  12008.0     98808     98808  691416  691416\n",
      "9            109   9000.0    107808    107808  691416  691416\n",
      "10           110   8200.0    116008    116008  691416  691416\n",
      "11           111   7700.0    123708    123708  691416  691416\n",
      "12           112   7800.0    131508    131508  691416  691416\n",
      "13           113   6900.0    138408    138408  691416  691416\n",
      "14           114  11000.0    149408    149408  691416  691416\n",
      "15           115   3100.0    152508    152508  691416  691416\n",
      "16           116   2900.0    155408    155408  691416  691416\n",
      "17           117   2800.0    158208    158208  691416  691416\n",
      "18           118   2600.0    160808    160808  691416  691416\n",
      "19           119   2500.0    163308    163308  691416  691416\n",
      "20           120   8000.0    171308    171308  691416  691416\n",
      "21           121   8200.0    179508    179508  691416  691416\n",
      "22           122   7900.0    187408    187408  691416  691416\n",
      "23           123   6500.0    193908    193908  691416  691416\n",
      "24           124   5800.0    199708    199708  691416  691416\n",
      "25           125   3200.0    202908    202908  691416  691416\n",
      "26           126   2700.0    205608    205608  691416  691416\n",
      "27           127   2400.0    208008    208008  691416  691416\n",
      "28           128   2200.0    210208    210208  691416  691416\n",
      "29           129   3300.0    213508    213508  691416  691416\n",
      "..           ...      ...       ...       ...     ...     ...\n",
      "77           177   8400.0    553708    553708  691416  691416\n",
      "78           178   7000.0    560708    560708  691416  691416\n",
      "79           179   6200.0    566908    566908  691416  691416\n",
      "80           180   3200.0    570108    570108  691416  691416\n",
      "81           181   3100.0    573208    573208  691416  691416\n",
      "82           182   2500.0    575708    575708  691416  691416\n",
      "83           183   2800.0    578508    578508  691416  691416\n",
      "84           184   4200.0    582708    582708  691416  691416\n",
      "85           185   4100.0    586808    586808  691416  691416\n",
      "86           186   3400.0    590208    590208  691416  691416\n",
      "87           187   3000.0    593208    593208  691416  691416\n",
      "88           188   3800.0    597008    597008  691416  691416\n",
      "89           189   3600.0    600608    600608  691416  691416\n",
      "90           190   2900.0    603508    603508  691416  691416\n",
      "91           191   2500.0    606008    606008  691416  691416\n",
      "92           192   4000.0    610008    610008  691416  691416\n",
      "93           193   3900.0    613908    613908  691416  691416\n",
      "94           194   3200.0    617108    617108  691416  691416\n",
      "95           195   2800.0    619908    619908  691416  691416\n",
      "96           196   3100.0    623008    623008  691416  691416\n",
      "97           197   3000.0    626008    626008  691416  691416\n",
      "98           198   2600.0    628608    628608  691416  691416\n",
      "99           199   2600.0    631208    631208  691416  691416\n",
      "100          200   4400.0    635608    635608  691416  691416\n",
      "101          201  13000.0    648608    648608  691416  691416\n",
      "102          202   6000.0    654608    654608  691416  691416\n",
      "103          203   6500.0    661108    661108  691416  691416\n",
      "104          204  10000.0    671108    671108  691416  691416\n",
      "105          205  12008.0    683116    683116  691416  691416\n",
      "106          206   8300.0    691416    691416  691416  691416\n",
      "\n",
      "[107 rows x 6 columns]\n"
     ]
    }
   ],
   "source": [
    "df = pd.read_sql(\"\"\"\n",
    "        SELECT employee_id, salary,\n",
    "                sum(salary) OVER (ORDER BY employee_id ROWS BETWEEN UNBOUNDED PRECEDING AND CURRENT ROW ) running1,\n",
    "                sum(salary) OVER (ORDER BY employee_id ) running2,\n",
    "                sum(salary) OVER (ORDER BY employee_id ROWS BETWEEN UNBOUNDED PRECEDING AND UNBOUNDED FOLLOWING ) total1,\n",
    "                sum(salary) OVER () total2  \n",
    "        FROM employees\n",
    "        \"\"\",xedb)\n",
    "print(df)"
   ]
  },
  {
   "cell_type": "markdown",
   "metadata": {},
   "source": [
    "## < FIRST_VALUE, LAST_VALUE >\n",
    "#### 부서별 최소급여, 최대급여 "
   ]
  },
  {
   "cell_type": "code",
   "execution_count": 10,
   "metadata": {},
   "outputs": [
    {
     "name": "stdout",
     "output_type": "stream",
     "text": [
      "     DEPARTMENT_ID   SALARY  FIRST_VALUE  LAST_VALUE\n",
      "0             10.0   4400.0         4400        4400\n",
      "1             20.0   6000.0         6000       13000\n",
      "2             20.0  13000.0         6000       13000\n",
      "3             30.0   2500.0         2500       11000\n",
      "4             30.0   2600.0         2500       11000\n",
      "5             30.0   2800.0         2500       11000\n",
      "6             30.0   2900.0         2500       11000\n",
      "7             30.0   3100.0         2500       11000\n",
      "8             30.0  11000.0         2500       11000\n",
      "9             40.0   6500.0         6500        6500\n",
      "10            50.0   2100.0         2100        8200\n",
      "11            50.0   2200.0         2100        8200\n",
      "12            50.0   2200.0         2100        8200\n",
      "13            50.0   2400.0         2100        8200\n",
      "14            50.0   2400.0         2100        8200\n",
      "15            50.0   2500.0         2100        8200\n",
      "16            50.0   2500.0         2100        8200\n",
      "17            50.0   2500.0         2100        8200\n",
      "18            50.0   2500.0         2100        8200\n",
      "19            50.0   2500.0         2100        8200\n",
      "20            50.0   2600.0         2100        8200\n",
      "21            50.0   2600.0         2100        8200\n",
      "22            50.0   2600.0         2100        8200\n",
      "23            50.0   2700.0         2100        8200\n",
      "24            50.0   2700.0         2100        8200\n",
      "25            50.0   2800.0         2100        8200\n",
      "26            50.0   2800.0         2100        8200\n",
      "27            50.0   2800.0         2100        8200\n",
      "28            50.0   2900.0         2100        8200\n",
      "29            50.0   2900.0         2100        8200\n",
      "..             ...      ...          ...         ...\n",
      "77            80.0   8800.0         6100       14000\n",
      "78            80.0   9000.0         6100       14000\n",
      "79            80.0   9000.0         6100       14000\n",
      "80            80.0   9500.0         6100       14000\n",
      "81            80.0   9500.0         6100       14000\n",
      "82            80.0   9500.0         6100       14000\n",
      "83            80.0   9600.0         6100       14000\n",
      "84            80.0  10000.0         6100       14000\n",
      "85            80.0  10000.0         6100       14000\n",
      "86            80.0  10000.0         6100       14000\n",
      "87            80.0  10500.0         6100       14000\n",
      "88            80.0  10500.0         6100       14000\n",
      "89            80.0  11000.0         6100       14000\n",
      "90            80.0  11000.0         6100       14000\n",
      "91            80.0  11500.0         6100       14000\n",
      "92            80.0  12000.0         6100       14000\n",
      "93            80.0  13500.0         6100       14000\n",
      "94            80.0  14000.0         6100       14000\n",
      "95            90.0  17000.0        17000       24000\n",
      "96            90.0  17000.0        17000       24000\n",
      "97            90.0  24000.0        17000       24000\n",
      "98           100.0   6900.0         6900       12008\n",
      "99           100.0   7700.0         6900       12008\n",
      "100          100.0   7800.0         6900       12008\n",
      "101          100.0   8200.0         6900       12008\n",
      "102          100.0   9000.0         6900       12008\n",
      "103          100.0  12008.0         6900       12008\n",
      "104          110.0   8300.0         8300       12008\n",
      "105          110.0  12008.0         8300       12008\n",
      "106            NaN   7000.0         7000        7000\n",
      "\n",
      "[107 rows x 4 columns]\n"
     ]
    }
   ],
   "source": [
    "df = pd.read_sql(\"\"\"\n",
    "        SELECT department_id,salary,\n",
    "                first_value(salary) OVER (PARTITION BY department_id ORDER BY salary ROWS BETWEEN UNBOUNDED PRECEDING AND UNBOUNDED FOLLOWING ) first_value,\n",
    "                last_value(salary) OVER (PARTITION BY department_id ORDER BY salary ROWS BETWEEN UNBOUNDED PRECEDING AND UNBOUNDED FOLLOWING ) last_value\n",
    "        FROM employees\n",
    "        \"\"\",xedb)\n",
    "print(df)"
   ]
  },
  {
   "cell_type": "markdown",
   "metadata": {},
   "source": [
    "# [ 연습문제 ]\n",
    "### (1) 자신의 부서 평균 급여보다 급여를 많이 받은 사원들의 employee_id, salary, department_name를 조회하세요\n",
    "####  < SUBQUERY >"
   ]
  },
  {
   "cell_type": "code",
   "execution_count": 11,
   "metadata": {},
   "outputs": [
    {
     "name": "stdout",
     "output_type": "stream",
     "text": [
      "    EMPLOYEE_ID   SALARY DEPARTMENT_NAME\n",
      "0           201  13000.0       Marketing\n",
      "1           114  11000.0      Purchasing\n",
      "2           120   8000.0        Shipping\n",
      "3           121   8200.0        Shipping\n",
      "4           122   7900.0        Shipping\n",
      "5           123   6500.0        Shipping\n",
      "6           124   5800.0        Shipping\n",
      "7           137   3600.0        Shipping\n",
      "8           141   3500.0        Shipping\n",
      "9           184   4200.0        Shipping\n",
      "10          185   4100.0        Shipping\n",
      "11          188   3800.0        Shipping\n",
      "12          189   3600.0        Shipping\n",
      "13          192   4000.0        Shipping\n",
      "14          193   3900.0        Shipping\n",
      "15          103   9000.0              IT\n",
      "16          104   6000.0              IT\n",
      "17          145  14000.0           Sales\n",
      "18          146  13500.0           Sales\n",
      "19          147  12000.0           Sales\n",
      "20          148  11000.0           Sales\n",
      "21          149  10500.0           Sales\n",
      "22          150  10000.0           Sales\n",
      "23          151   9500.0           Sales\n",
      "24          152   9000.0           Sales\n",
      "25          156  10000.0           Sales\n",
      "26          157   9500.0           Sales\n",
      "27          158   9000.0           Sales\n",
      "28          162  10500.0           Sales\n",
      "29          163   9500.0           Sales\n",
      "30          168  11500.0           Sales\n",
      "31          169  10000.0           Sales\n",
      "32          170   9600.0           Sales\n",
      "33          174  11000.0           Sales\n",
      "34          100  24000.0       Executive\n",
      "35          108  12008.0         Finance\n",
      "36          109   9000.0         Finance\n",
      "37          205  12008.0      Accounting\n"
     ]
    }
   ],
   "source": [
    "df = pd.read_sql(\"\"\"\n",
    "        SELECT e.employee_id, e.salary, d.department_name\n",
    "        FROM employees e, departments d\n",
    "        WHERE e.department_id = d.department_id\n",
    "        AND e.salary > (SELECT avg(salary)\n",
    "                        FROM employees \n",
    "                        WHERE department_id = d.department_id)\n",
    "        \"\"\",xedb)\n",
    "print(df)  "
   ]
  },
  {
   "cell_type": "markdown",
   "metadata": {},
   "source": [
    "#### < INLINE VIEW >"
   ]
  },
  {
   "cell_type": "code",
   "execution_count": 12,
   "metadata": {},
   "outputs": [
    {
     "name": "stdout",
     "output_type": "stream",
     "text": [
      "    EMPLOYEE_ID   SALARY DEPARTMENT_NAME\n",
      "0           109   9000.0         Finance\n",
      "1           108  12008.0         Finance\n",
      "2           114  11000.0      Purchasing\n",
      "3           100  24000.0       Executive\n",
      "4           201  13000.0       Marketing\n",
      "5           205  12008.0      Accounting\n",
      "6           193   3900.0        Shipping\n",
      "7           192   4000.0        Shipping\n",
      "8           189   3600.0        Shipping\n",
      "9           188   3800.0        Shipping\n",
      "10          185   4100.0        Shipping\n",
      "11          184   4200.0        Shipping\n",
      "12          141   3500.0        Shipping\n",
      "13          137   3600.0        Shipping\n",
      "14          124   5800.0        Shipping\n",
      "15          123   6500.0        Shipping\n",
      "16          122   7900.0        Shipping\n",
      "17          121   8200.0        Shipping\n",
      "18          120   8000.0        Shipping\n",
      "19          174  11000.0           Sales\n",
      "20          170   9600.0           Sales\n",
      "21          169  10000.0           Sales\n",
      "22          168  11500.0           Sales\n",
      "23          163   9500.0           Sales\n",
      "24          162  10500.0           Sales\n",
      "25          158   9000.0           Sales\n",
      "26          157   9500.0           Sales\n",
      "27          156  10000.0           Sales\n",
      "28          152   9000.0           Sales\n",
      "29          151   9500.0           Sales\n",
      "30          150  10000.0           Sales\n",
      "31          149  10500.0           Sales\n",
      "32          148  11000.0           Sales\n",
      "33          147  12000.0           Sales\n",
      "34          146  13500.0           Sales\n",
      "35          145  14000.0           Sales\n",
      "36          104   6000.0              IT\n",
      "37          103   9000.0              IT\n"
     ]
    }
   ],
   "source": [
    "df = pd.read_sql(\"\"\"\n",
    "        SELECT e.employee_id, e.salary, d.department_name\n",
    "        FROM (SELECT department_id, avg(salary) avg_sal\n",
    "              FROM employees\n",
    "              GROUP BY department_id) a, employees e, departments d\n",
    "        WHERE e.department_id = d.department_id\n",
    "        AND a.department_id = e.department_id\n",
    "        AND e.salary > A.avg_sal\n",
    "        \"\"\",xedb)\n",
    "print(df)"
   ]
  },
  {
   "cell_type": "markdown",
   "metadata": {},
   "source": [
    "#### < 분석함수 사용 >"
   ]
  },
  {
   "cell_type": "code",
   "execution_count": 13,
   "metadata": {},
   "outputs": [
    {
     "name": "stdout",
     "output_type": "stream",
     "text": [
      "    EMPLOYEE_ID   SALARY DEPARTMENT_NAME\n",
      "0           201  13000.0       Marketing\n",
      "1           114  11000.0      Purchasing\n",
      "2           120   8000.0        Shipping\n",
      "3           121   8200.0        Shipping\n",
      "4           122   7900.0        Shipping\n",
      "5           123   6500.0        Shipping\n",
      "6           124   5800.0        Shipping\n",
      "7           137   3600.0        Shipping\n",
      "8           141   3500.0        Shipping\n",
      "9           184   4200.0        Shipping\n",
      "10          185   4100.0        Shipping\n",
      "11          188   3800.0        Shipping\n",
      "12          189   3600.0        Shipping\n",
      "13          192   4000.0        Shipping\n",
      "14          193   3900.0        Shipping\n",
      "15          103   9000.0              IT\n",
      "16          104   6000.0              IT\n",
      "17          145  14000.0           Sales\n",
      "18          146  13500.0           Sales\n",
      "19          147  12000.0           Sales\n",
      "20          148  11000.0           Sales\n",
      "21          149  10500.0           Sales\n",
      "22          150  10000.0           Sales\n",
      "23          151   9500.0           Sales\n",
      "24          152   9000.0           Sales\n",
      "25          156  10000.0           Sales\n",
      "26          157   9500.0           Sales\n",
      "27          158   9000.0           Sales\n",
      "28          162  10500.0           Sales\n",
      "29          163   9500.0           Sales\n",
      "30          168  11500.0           Sales\n",
      "31          169  10000.0           Sales\n",
      "32          170   9600.0           Sales\n",
      "33          174  11000.0           Sales\n",
      "34          100  24000.0       Executive\n",
      "35          108  12008.0         Finance\n",
      "36          109   9000.0         Finance\n",
      "37          205  12008.0      Accounting\n"
     ]
    }
   ],
   "source": [
    "df = pd.read_sql(\"\"\"\n",
    "        SELECT employee_id, salary, department_name\n",
    "        FROM (SELECT e.employee_id, e.salary, d.department_name,\n",
    "              CASE WHEN e.salary > avg(salary) OVER (PARTITION BY e.department_id) THEN '1' END col_1\n",
    "              FROM employees e, departments d\n",
    "              WHERE e.department_id = d.department_id)\n",
    "        WHERE col_1 = 1\n",
    "        \"\"\",xedb)\n",
    "print(df)\n",
    "\n",
    "# WHERE col_1 IS NOT NULL\n",
    "# IF TRUE, 1 /IF FALSE, null"
   ]
  },
  {
   "cell_type": "markdown",
   "metadata": {},
   "source": [
    "=> 서브쿼리로 수행해도 분석함수로 작성했던 실행계획으로 트랜스포밍된다.\n",
    "\n",
    "### (2) 사원들의 급여순위에서 2등까지 조회하세요\n",
    "#### < ROW_NUMBER >\n",
    "급여 중에 중복이 없을 때만 사용할 수 있다. 중복이 있을 경우 누락된다."
   ]
  },
  {
   "cell_type": "code",
   "execution_count": 14,
   "metadata": {},
   "outputs": [
    {
     "name": "stdout",
     "output_type": "stream",
     "text": [
      "   ROWNUM LAST_NAME   SALARY\n",
      "0       1      King  24000.0\n",
      "1       2   Kochhar  17000.0\n"
     ]
    }
   ],
   "source": [
    "df = pd.read_sql(\"\"\"\n",
    "        SELECT rownum, last_name, salary\n",
    "        FROM (SELECT last_name, salary \n",
    "              FROM employees ORDER BY salary DESC)\n",
    "        WHERE ROWNUM <= 2\n",
    "        \"\"\",xedb)\n",
    "print(df)"
   ]
  },
  {
   "cell_type": "markdown",
   "metadata": {},
   "source": [
    "#### < DENSE_RANK >"
   ]
  },
  {
   "cell_type": "code",
   "execution_count": 15,
   "metadata": {},
   "outputs": [
    {
     "name": "stdout",
     "output_type": "stream",
     "text": [
      "   RANK LAST_NAME   SALARY\n",
      "0     1      King  24000.0\n",
      "1     2   Kochhar  17000.0\n",
      "2     2   De Haan  17000.0\n"
     ]
    }
   ],
   "source": [
    "df = pd.read_sql(\"\"\"\n",
    "        SELECT  rank, last_name, salary\n",
    "        FROM (SELECT DENSE_RANK() OVER(ORDER BY salary DESC) as rank, last_name, salary\n",
    "              FROM employees)\n",
    "        WHERE rank <= 2\n",
    "        \"\"\",xedb)\n",
    "print(df)"
   ]
  },
  {
   "cell_type": "code",
   "execution_count": 16,
   "metadata": {
    "collapsed": true
   },
   "outputs": [],
   "source": [
    "cur.close()\n",
    "xedb.close()"
   ]
  },
  {
   "cell_type": "code",
   "execution_count": null,
   "metadata": {
    "collapsed": true
   },
   "outputs": [],
   "source": []
  }
 ],
 "metadata": {
  "kernelspec": {
   "display_name": "Python 3",
   "language": "python",
   "name": "python3"
  },
  "language_info": {
   "codemirror_mode": {
    "name": "ipython",
    "version": 3
   },
   "file_extension": ".py",
   "mimetype": "text/x-python",
   "name": "python",
   "nbconvert_exporter": "python",
   "pygments_lexer": "ipython3",
   "version": "3.6.1"
  }
 },
 "nbformat": 4,
 "nbformat_minor": 2
}
