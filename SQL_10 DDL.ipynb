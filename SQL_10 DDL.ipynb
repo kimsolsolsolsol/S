{
 "cells": [
  {
   "cell_type": "markdown",
   "metadata": {},
   "source": [
    "***\n",
    "# chapter 10. DDL \n",
    "(Data Definition Language)\n",
    "***\n",
    "## keyword\n",
    "* create\n",
    "* alter \n",
    "\n",
    "## 10-1. CREATE (테이블 생성)\n"
   ]
  },
  {
   "cell_type": "code",
   "execution_count": 2,
   "metadata": {
    "collapsed": true
   },
   "outputs": [],
   "source": [
    "import pandas as pd\n",
    "import cx_Oracle\n",
    "xedb = cx_Oracle.connect('hr/hr@localhost/xe')\n",
    "cur = xedb.cursor()"
   ]
  },
  {
   "cell_type": "code",
   "execution_count": 3,
   "metadata": {},
   "outputs": [
    {
     "name": "stdout",
     "output_type": "stream",
     "text": [
      "('EMPLOYEE_ID', <class 'cx_Oracle.NUMBER'>, 7, None, 6, 0, 1)\n",
      "('LAST_NAME', <class 'cx_Oracle.STRING'>, 25, 50, None, None, 0)\n",
      "('SALARY', <class 'cx_Oracle.NUMBER'>, 12, None, 8, 2, 1)\n",
      "('DEPARTMENT_ID', <class 'cx_Oracle.NUMBER'>, 5, None, 4, 0, 1)\n"
     ]
    }
   ],
   "source": [
    "# emp 테이블 생성\n",
    "cur.execute(\"\"\"CREATE TABLE emp\n",
    "            AS SELECT employee_id, last_name, salary, department_id \n",
    "            FROM employees WHERE 1=2\"\"\")\n",
    "\n",
    "# emp 테이블 구조(컬럼)확인\n",
    "cur.execute('select * from emp')\n",
    "for c in cur.description:\n",
    "    print(c)"
   ]
  },
  {
   "cell_type": "code",
   "execution_count": 4,
   "metadata": {},
   "outputs": [
    {
     "name": "stdout",
     "output_type": "stream",
     "text": [
      "('DEPARTMENT_ID', <class 'cx_Oracle.NUMBER'>, 5, None, 4, 0, 1)\n",
      "('DEPARTMENT_NAME', <class 'cx_Oracle.STRING'>, 30, 60, None, None, 0)\n",
      "('MANAGER_ID', <class 'cx_Oracle.NUMBER'>, 7, None, 6, 0, 1)\n",
      "('LOCATION_ID', <class 'cx_Oracle.NUMBER'>, 5, None, 4, 0, 1)\n"
     ]
    }
   ],
   "source": [
    "# dept 테이블 생성\n",
    "cur.execute(\"\"\"CREATE TABLE dept\n",
    "            AS SELECT * FROM departments WHERE 1=2\"\"\")\n",
    "\n",
    "# dept 테이블 구조(컬럼) 확인\n",
    "cur.execute('select * from dept')\n",
    "for c in cur.description:\n",
    "    print(c)\n",
    "    "
   ]
  },
  {
   "cell_type": "markdown",
   "metadata": {},
   "source": [
    "## 10-2. ALTER\n",
    "### < ADD_열 추가>"
   ]
  },
  {
   "cell_type": "code",
   "execution_count": 5,
   "metadata": {},
   "outputs": [
    {
     "name": "stdout",
     "output_type": "stream",
     "text": [
      "('EMPLOYEE_ID', <class 'cx_Oracle.NUMBER'>, 7, None, 6, 0, 1)\n",
      "('LAST_NAME', <class 'cx_Oracle.STRING'>, 25, 50, None, None, 0)\n",
      "('SALARY', <class 'cx_Oracle.NUMBER'>, 12, None, 8, 2, 1)\n",
      "('DEPARTMENT_ID', <class 'cx_Oracle.NUMBER'>, 5, None, 4, 0, 1)\n",
      "('JOB_ID', <class 'cx_Oracle.STRING'>, 9, 18, None, None, 1)\n"
     ]
    }
   ],
   "source": [
    "# job_id 열추가\n",
    "cur.execute(\"ALTER TABLE emp ADD (job_id VARCHAR2(9))\")\n",
    "\n",
    "cur.execute('select * from emp')\n",
    "for c in cur.description:\n",
    "    print(c)"
   ]
  },
  {
   "cell_type": "markdown",
   "metadata": {},
   "source": [
    "### < MODIFY_열 수정 >\n",
    "* 데이터가 존재할 경우 데이터타입의 수정은 불가\n",
    "* 데이터크기 조정 가능"
   ]
  },
  {
   "cell_type": "code",
   "execution_count": 6,
   "metadata": {},
   "outputs": [
    {
     "name": "stdout",
     "output_type": "stream",
     "text": [
      "('EMPLOYEE_ID', <class 'cx_Oracle.NUMBER'>, 7, None, 6, 0, 1)\n",
      "('LAST_NAME', <class 'cx_Oracle.STRING'>, 30, 60, None, None, 0)\n",
      "('SALARY', <class 'cx_Oracle.NUMBER'>, 12, None, 8, 2, 1)\n",
      "('DEPARTMENT_ID', <class 'cx_Oracle.NUMBER'>, 5, None, 4, 0, 1)\n",
      "('JOB_ID', <class 'cx_Oracle.STRING'>, 9, 18, None, None, 1)\n"
     ]
    }
   ],
   "source": [
    "# last_name 데이터크기 조정\n",
    "cur.execute(\"ALTER TABLE emp MODIFY (last_name VARCHAR2(30))\")\n",
    "\n",
    "cur.execute('select * from emp')\n",
    "for c in cur.description:\n",
    "    print(c)"
   ]
  },
  {
   "cell_type": "markdown",
   "metadata": {},
   "source": [
    "## 10-3. DROP\n",
    "* DROP\n",
    "* SET UNUSED"
   ]
  },
  {
   "cell_type": "code",
   "execution_count": 7,
   "metadata": {},
   "outputs": [
    {
     "name": "stdout",
     "output_type": "stream",
     "text": [
      "('EMPLOYEE_ID', <class 'cx_Oracle.NUMBER'>, 7, None, 6, 0, 1)\n",
      "('LAST_NAME', <class 'cx_Oracle.STRING'>, 30, 60, None, None, 0)\n",
      "('SALARY', <class 'cx_Oracle.NUMBER'>, 12, None, 8, 2, 1)\n",
      "('DEPARTMENT_ID', <class 'cx_Oracle.NUMBER'>, 5, None, 4, 0, 1)\n"
     ]
    }
   ],
   "source": [
    "# job_id 컬럼 삭제\n",
    "cur.execute(\"ALTER TABLE emp DROP COLUMN job_id\")  #LOCK을 걸고 데이터를 삭제\n",
    "\n",
    "cur.execute('select * from emp')\n",
    "for c in cur.description:\n",
    "    print(c)"
   ]
  },
  {
   "cell_type": "markdown",
   "metadata": {},
   "source": [
    "### < SET UNUSED >"
   ]
  },
  {
   "cell_type": "code",
   "execution_count": 9,
   "metadata": {},
   "outputs": [
    {
     "name": "stdout",
     "output_type": "stream",
     "text": [
      "('EMPLOYEE_ID', <class 'cx_Oracle.NUMBER'>, 7, None, 6, 0, 1)\n",
      "('LAST_NAME', <class 'cx_Oracle.STRING'>, 30, 60, None, None, 0)\n",
      "('DEPARTMENT_ID', <class 'cx_Oracle.NUMBER'>, 5, None, 4, 0, 1)\n"
     ]
    }
   ],
   "source": [
    "# salary 컬럼에 LOCK해서 조회되지 않지만, 스토리지에서 삭제된 것은 아님\n",
    "cur.execute(\"ALTER TABLE emp SET UNUSED (salary)\") \n",
    "\n",
    "cur.execute('select * from emp')\n",
    "for c in cur.description:\n",
    "    print(c)"
   ]
  },
  {
   "cell_type": "code",
   "execution_count": 10,
   "metadata": {},
   "outputs": [
    {
     "name": "stdout",
     "output_type": "stream",
     "text": [
      "  TABLE_NAME  COUNT\n",
      "0        EMP      1\n"
     ]
    }
   ],
   "source": [
    "# unused column 조회\n",
    "data = pd.read_sql(\"SELECT * FROM user_unused_col_tabs\",xedb)\n",
    "print(data) "
   ]
  },
  {
   "cell_type": "code",
   "execution_count": 11,
   "metadata": {},
   "outputs": [
    {
     "name": "stdout",
     "output_type": "stream",
     "text": [
      "Empty DataFrame\n",
      "Columns: [TABLE_NAME, COUNT]\n",
      "Index: []\n"
     ]
    }
   ],
   "source": [
    "# UNUSED COLUMN 삭제\n",
    "cur.execute(\"ALTER TABLE emp DROP UNUSED COLUMNS\")\n",
    "\n",
    "data = pd.read_sql(\"SELECT * FROM user_unused_col_tabs\",xedb)\n",
    "print(data)        "
   ]
  },
  {
   "cell_type": "markdown",
   "metadata": {},
   "source": [
    "# [ Constraint (integrity Constraint) ]\n",
    "테이블 작성시 constraint를 사용해서 입력하는 자료에 대한 규칙을 정해둔다. 정해진 제약에 따라 데이터가 입력이 되어 유효하지 않은 데이터가 입력되는 것을 방지한다.\n",
    "#### NOT NULL\n",
    "필수적으로 입력해야 할 컬럼에 설정 (NULL 불허)\n",
    "\n",
    "#### UNIQUE\n",
    "중복값 불허 \n",
    "즉, 테이블 모든 행에 대해서 유일값이 필히 존재 (NULL허용) \n",
    "\n",
    "#### PRIMARY KEY (기본키)\n",
    "테이블에서 대표되는 컬럼 \n",
    "NULL, 중복값 모두 불허 (NOT NULL + UNIQUE)\n",
    "데이터의 특정조건을 검색, 수정 등의 작업을 할 때 기본키로 구분\n",
    "\n",
    "#### FOREIGN KEY (외래키)\n",
    "참조하는 테이블 컬럼의 데이터만 허용\n",
    "(참조하는 테이블은 PRIMARY와 UNIQUE로,  지정된 컬럼만을 FOREIGN으로 지정할 수 있다.)\n",
    "\n",
    "####  CHECK\n",
    "주어진 조건에 해당되는 데이터만 허용\n",
    "\n",
    "\n",
    "## < PRIMANRY KEY >\n",
    "* 유일한 값만 / NULL x / 중복성 x\n",
    "* PRIMARY key를 생성하면 UNIQUE index는 자동 생성\n",
    "* 전체 중 한 건만 찾는, 풀스캔이 아닌 rowid스캔이 효율적 -> 인덱스 생성이 유리"
   ]
  },
  {
   "cell_type": "markdown",
   "metadata": {},
   "source": [
    "#### dept 테이블 department_id에 PK설정"
   ]
  },
  {
   "cell_type": "code",
   "execution_count": 12,
   "metadata": {},
   "outputs": [
    {
     "name": "stdout",
     "output_type": "stream",
     "text": [
      "  CONSTRAINT_NAME CONSTRAINT_TYPE               SEARCH_CONDITION INDEX_NAME  \\\n",
      "0     SYS_C008000               C  \"DEPARTMENT_NAME\" IS NOT NULL       None   \n",
      "1       DEPTID_PK               P                           None  DEPTID_PK   \n",
      "\n",
      "    STATUS  \n",
      "0  ENABLED  \n",
      "1  ENABLED  \n"
     ]
    }
   ],
   "source": [
    "cur.execute(\"ALTER TABLE dept ADD CONSTRAINT deptid_pk PRIMARY KEY(department_id)\")\n",
    "# Deptid_pk : 제약조건이름 = index_name\n",
    "\n",
    "data = pd.read_sql(\"\"\"SELECT constraint_name, constraint_type, search_condition, index_name, status\n",
    "                  FROM user_constraints\n",
    "                  WHERE table_name = 'DEPT'\n",
    "                  \"\"\",xedb)\n",
    "print(data)"
   ]
  },
  {
   "cell_type": "markdown",
   "metadata": {},
   "source": [
    "#### emp 테이블 employee_id에 PK설정"
   ]
  },
  {
   "cell_type": "code",
   "execution_count": 13,
   "metadata": {},
   "outputs": [
    {
     "name": "stdout",
     "output_type": "stream",
     "text": [
      "  CONSTRAINT_NAME CONSTRAINT_TYPE         SEARCH_CONDITION INDEX_NAME   STATUS\n",
      "0     SYS_C007999               C  \"LAST_NAME\" IS NOT NULL       None  ENABLED\n",
      "1        EMPID_PK               P                     None   EMPID_PK  ENABLED\n"
     ]
    }
   ],
   "source": [
    "cur.execute(\"ALTER TABLE emp ADD CONSTRAINT empid_pk PRIMARY KEY(employee_id)\")\n",
    "\n",
    "data = pd.read_sql(\"\"\"SELECT constraint_name, constraint_type, search_condition, index_name, status\n",
    "                    FROM user_constraints\n",
    "                    WHERE table_name = 'EMP'\n",
    "                    \"\"\",xedb)\n",
    "print(data)"
   ]
  },
  {
   "cell_type": "markdown",
   "metadata": {},
   "source": [
    "## < FOREIGN KEY  >\n",
    "* PK에 있는 키값만 입력받을 수 있다. \n",
    "* PK 컬럼 삭제시 FK 컬럼에 그 값이 입력되어있으면 삭제불가\n",
    "  부모테이블을 삭제하기 위해서는 자식 테이블을 먼저 삭제\n",
    "(단, FK 선언 때 ON DELETE CASCADE나 ON DELETE SET NULL옵션을 사용한 경우에는 삭제가능)"
   ]
  },
  {
   "cell_type": "markdown",
   "metadata": {},
   "source": [
    "#### emp테이블 department_id에 FK설정 \n",
    "##### 1. 옵션: DELETE CASCADE\n",
    "* DELETE CASADE : 상위 테이블의 행이 삭제될 때 하위테이블의 종속행을 삭제\n",
    "(기본값:pk에 종속된 row가 있으면 삭제 불허)"
   ]
  },
  {
   "cell_type": "code",
   "execution_count": 14,
   "metadata": {},
   "outputs": [
    {
     "name": "stdout",
     "output_type": "stream",
     "text": [
      "  CONSTRAINT_NAME CONSTRAINT_TYPE         SEARCH_CONDITION R_CONSTRAINT_NAME  \\\n",
      "0     SYS_C007999               C  \"LAST_NAME\" IS NOT NULL              None   \n",
      "1        EMPID_PK               P                     None              None   \n",
      "2  EMP_DEPT_ID_FK               R                     None         DEPTID_PK   \n",
      "\n",
      "  DELETE_RULE   STATUS  \n",
      "0        None  ENABLED  \n",
      "1        None  ENABLED  \n",
      "2     CASCADE  ENABLED  \n"
     ]
    }
   ],
   "source": [
    "cur.execute(\"\"\"ALTER TABLE emp ADD CONSTRAINT emp_dept_id_fk FOREIGN KEY (department_id)\n",
    "                                              REFERENCES dept(department_id) ON DELETE CASCADE \"\"\")\n",
    "\n",
    "data = pd.read_sql(\"\"\"SELECT constraint_name, constraint_type,search_condition, r_constraint_name, delete_rule, status\n",
    "                   FROM user_constraints\n",
    "                   WHERE table_name = 'EMP'\n",
    "                   \"\"\",xedb)\n",
    "print(data)\n",
    "# delete_rule 확인"
   ]
  },
  {
   "cell_type": "markdown",
   "metadata": {},
   "source": [
    "##### 2. 옵션: DELETE SET NULL  \n",
    "* DELETE SET NULL (옵션) \n",
    "종속 FOREIGN KEY값을 NULL로 변환\n",
    ": PK row를 삭제할 때 FK가 걸려있는 CHILD row의 필드값만 null로 업데이트 \n"
   ]
  },
  {
   "cell_type": "code",
   "execution_count": 15,
   "metadata": {},
   "outputs": [
    {
     "name": "stdout",
     "output_type": "stream",
     "text": [
      "  CONSTRAINT_NAME CONSTRAINT_TYPE         SEARCH_CONDITION R_CONSTRAINT_NAME  \\\n",
      "0     SYS_C007999               C  \"LAST_NAME\" IS NOT NULL              None   \n",
      "1        EMPID_PK               P                     None              None   \n",
      "2  EMP_DEPT_ID_FK               R                     None         DEPTID_PK   \n",
      "\n",
      "  DELETE_RULE   STATUS  \n",
      "0        None  ENABLED  \n",
      "1        None  ENABLED  \n",
      "2    SET NULL  ENABLED  \n"
     ]
    }
   ],
   "source": [
    " # 이전 FK ( DELETE CASCADE 삭제)\n",
    "cur.execute(\"ALTER TABLE emp DROP CONSTRAINT emp_dept_id_fk\")\n",
    "cur.execute(\"\"\"ALTER TABLE emp ADD CONSTRAINT emp_dept_id_fk  FOREIGN KEY (department_id)\n",
    "                                              REFERENCES dept(department_id) ON DELETE SET NULL\"\"\")\n",
    "\n",
    "data = pd.read_sql(\"\"\"SELECT constraint_name, constraint_type,search_condition, r_constraint_name,delete_rule, status\n",
    "                   FROM user_constraints\n",
    "                   WHERE table_name = 'EMP'\n",
    "                   \"\"\",xedb)\n",
    "print(data)\n",
    "# delete_rule 확인"
   ]
  },
  {
   "cell_type": "markdown",
   "metadata": {},
   "source": [
    "#### 3. 기본값"
   ]
  },
  {
   "cell_type": "code",
   "execution_count": 16,
   "metadata": {},
   "outputs": [
    {
     "name": "stdout",
     "output_type": "stream",
     "text": [
      "  CONSTRAINT_NAME CONSTRAINT_TYPE         SEARCH_CONDITION R_CONSTRAINT_NAME  \\\n",
      "0     SYS_C007999               C  \"LAST_NAME\" IS NOT NULL              None   \n",
      "1        EMPID_PK               P                     None              None   \n",
      "2  EMP_DEPT_ID_FK               R                     None         DEPTID_PK   \n",
      "\n",
      "  DELETE_RULE   STATUS  \n",
      "0        None  ENABLED  \n",
      "1        None  ENABLED  \n",
      "2   NO ACTION  ENABLED  \n"
     ]
    }
   ],
   "source": [
    "# 이전 FK 삭제\n",
    "cur.execute(\"ALTER TABLE emp DROP CONSTRAINT emp_dept_id_fk\")\n",
    "\n",
    "# 기본값\n",
    "cur.execute(\"\"\"ALTER TABLE emp  ADD CONSTRAINT emp_dept_id_fk FOREIGN KEY(department_id)\n",
    "                                              REFERENCES dept(department_id)\"\"\")\n",
    "\n",
    "data = pd.read_sql(\"\"\"SELECT constraint_name, constraint_type,search_condition, r_constraint_name,delete_rule, status\n",
    "                   FROM user_constraints\n",
    "                   WHERE table_name = 'EMP'\n",
    "                   \"\"\",xedb)\n",
    "print(data)\n",
    "# delete_rule 확인 (NO ACTION)"
   ]
  },
  {
   "cell_type": "markdown",
   "metadata": {},
   "source": [
    "## < CONSTRAINT 수정 >\n",
    "* not null제약조건만 수정가능 (not null-> null로 수정) "
   ]
  },
  {
   "cell_type": "code",
   "execution_count": 17,
   "metadata": {},
   "outputs": [
    {
     "name": "stdout",
     "output_type": "stream",
     "text": [
      "  CONSTRAINT_NAME CONSTRAINT_TYPE SEARCH_CONDITION R_CONSTRAINT_NAME  \\\n",
      "0        EMPID_PK               P             None              None   \n",
      "1  EMP_DEPT_ID_FK               R             None         DEPTID_PK   \n",
      "\n",
      "  DELETE_RULE   STATUS  \n",
      "0        None  ENABLED  \n",
      "1   NO ACTION  ENABLED  \n"
     ]
    }
   ],
   "source": [
    "# 수정 후 (emp테이블의 last_name 조건 수정)\n",
    "cur.execute(\"ALTER TABLE emp MODIFY (last_name VARCHAR2(30) null)\")\n",
    "\n",
    "data = pd.read_sql(\"\"\"SELECT constraint_name, constraint_type,search_condition, r_constraint_name,delete_rule, status\n",
    "                   FROM user_constraints\n",
    "                   WHERE table_name = 'EMP'\n",
    "                   \"\"\",xedb)\n",
    "print(data)\n",
    "# SEARCH_CONDITION 확인"
   ]
  },
  {
   "cell_type": "code",
   "execution_count": 18,
   "metadata": {},
   "outputs": [
    {
     "name": "stdout",
     "output_type": "stream",
     "text": [
      "('EMPLOYEE_ID', <class 'cx_Oracle.NUMBER'>, 7, None, 6, 0, 0)\n",
      "('LAST_NAME', <class 'cx_Oracle.STRING'>, 30, 60, None, None, 1)\n",
      "('DEPARTMENT_ID', <class 'cx_Oracle.NUMBER'>, 5, None, 4, 0, 1)\n"
     ]
    }
   ],
   "source": [
    "cur.execute('select * from emp')\n",
    "for c in cur.description:\n",
    "    print(c)"
   ]
  },
  {
   "cell_type": "markdown",
   "metadata": {},
   "source": [
    "## < NOT NULL >"
   ]
  },
  {
   "cell_type": "code",
   "execution_count": 19,
   "metadata": {},
   "outputs": [
    {
     "name": "stdout",
     "output_type": "stream",
     "text": [
      "  CONSTRAINT_NAME CONSTRAINT_TYPE         SEARCH_CONDITION R_CONSTRAINT_NAME  \\\n",
      "0     EMP_NAME_NN               C  \"LAST_NAME\" IS NOT NULL              None   \n",
      "1        EMPID_PK               P                     None              None   \n",
      "2  EMP_DEPT_ID_FK               R                     None         DEPTID_PK   \n",
      "\n",
      "  DELETE_RULE   STATUS  \n",
      "0        None  ENABLED  \n",
      "1        None  ENABLED  \n",
      "2   NO ACTION  ENABLED  \n"
     ]
    }
   ],
   "source": [
    "# null로 수정했던 emp테이블의 last_name 조건을 다시 not null로\n",
    "cur.execute(\"ALTER TABLE emp MODIFY (last_name VARCHAR2(30) constraint emp_name_nn not null)\")\n",
    "\n",
    "data = pd.read_sql(\"\"\"SELECT constraint_name, constraint_type,search_condition, r_constraint_name,delete_rule, status\n",
    "                   FROM user_constraints\n",
    "                   WHERE table_name = 'EMP'\n",
    "                   \"\"\",xedb)\n",
    "print(data)"
   ]
  },
  {
   "cell_type": "code",
   "execution_count": 20,
   "metadata": {},
   "outputs": [
    {
     "name": "stdout",
     "output_type": "stream",
     "text": [
      "('EMPLOYEE_ID', <class 'cx_Oracle.NUMBER'>, 7, None, 6, 0, 0)\n",
      "('LAST_NAME', <class 'cx_Oracle.STRING'>, 30, 60, None, None, 0)\n",
      "('DEPARTMENT_ID', <class 'cx_Oracle.NUMBER'>, 5, None, 4, 0, 1)\n"
     ]
    }
   ],
   "source": [
    "cur.execute('select * from emp')\n",
    "for c in cur.description:\n",
    "    print(c)"
   ]
  },
  {
   "cell_type": "markdown",
   "metadata": {},
   "source": [
    "## < DISABLE _ 제약 조건 비활성화 >\n",
    "* CREATE TABLE, ALTER TABLE에 DISABLE 사용가능\n",
    "* UNIQUE 또는 PRIMARY KEY를 비활성화하면 UNIQUE 인덱스 제거"
   ]
  },
  {
   "cell_type": "code",
   "execution_count": 21,
   "metadata": {},
   "outputs": [
    {
     "name": "stdout",
     "output_type": "stream",
     "text": [
      "  CONSTRAINT_NAME CONSTRAINT_TYPE         SEARCH_CONDITION R_CONSTRAINT_NAME  \\\n",
      "0     EMP_NAME_NN               C  \"LAST_NAME\" IS NOT NULL              None   \n",
      "1        EMPID_PK               P                     None              None   \n",
      "2  EMP_DEPT_ID_FK               R                     None         DEPTID_PK   \n",
      "\n",
      "  DELETE_RULE    STATUS  \n",
      "0        None   ENABLED  \n",
      "1        None  DISABLED  \n",
      "2   NO ACTION   ENABLED  \n"
     ]
    }
   ],
   "source": [
    "cur.execute(\"ALTER TABLE emp DISABLE CONSTRAINT empid_pk\")\n",
    "\n",
    "data = pd.read_sql(\"\"\"SELECT constraint_name, constraint_type,search_condition, r_constraint_name,delete_rule, status\n",
    "                   FROM user_constraints\n",
    "                   WHERE table_name = 'EMP'\n",
    "                   \"\"\",xedb)\n",
    "print(data)\n",
    "#STATUS 확인"
   ]
  },
  {
   "cell_type": "markdown",
   "metadata": {},
   "source": [
    "## < ENABLE _ 제약 조건 활성화 >\n",
    "* 제약 조건을 활성화하면 해당 제약 조건이 테이블의 모든 데이터에 적용 \n",
    "* UNIQUE KEY 또는 PRIMARY KEY를 활성화하면 UNIQUE 또는 PRIMARY KEY 인덱스가 자동 생성\n",
    "* CREATE TABLE과 ALTER TABLE에 ENABLE 사용가능\n",
    "* PK먼저 ENABLE, 그 다음 FK ENABLE(종속관계) 그러므로 CASCADE 없다"
   ]
  },
  {
   "cell_type": "code",
   "execution_count": 22,
   "metadata": {},
   "outputs": [
    {
     "name": "stdout",
     "output_type": "stream",
     "text": [
      "  CONSTRAINT_NAME CONSTRAINT_TYPE         SEARCH_CONDITION R_CONSTRAINT_NAME  \\\n",
      "0     EMP_NAME_NN               C  \"LAST_NAME\" IS NOT NULL              None   \n",
      "1        EMPID_PK               P                     None              None   \n",
      "2  EMP_DEPT_ID_FK               R                     None         DEPTID_PK   \n",
      "\n",
      "  DELETE_RULE   STATUS  \n",
      "0        None  ENABLED  \n",
      "1        None  ENABLED  \n",
      "2   NO ACTION  ENABLED  \n"
     ]
    }
   ],
   "source": [
    "cur.execute(\"ALTER TABLE emp ENABLE CONSTRAINT empid_pk\")\n",
    "\n",
    "data = pd.read_sql(\"\"\"SELECT constraint_name, constraint_type,search_condition, r_constraint_name,delete_rule, status\n",
    "                   FROM user_constraints\n",
    "                   WHERE table_name = 'EMP'\n",
    "                   \"\"\",xedb)\n",
    "print(data)"
   ]
  },
  {
   "cell_type": "code",
   "execution_count": 23,
   "metadata": {},
   "outputs": [
    {
     "name": "stdout",
     "output_type": "stream",
     "text": [
      "  INDEX_NAME  COLUMN_NAME\n",
      "0   EMPID_PK  EMPLOYEE_ID\n"
     ]
    }
   ],
   "source": [
    "data = pd.read_sql(\"\"\"SELECT index_name, column_name\n",
    "                   FROM user_ind_columns\n",
    "                   WHERE table_name = 'EMP'\n",
    "                   \"\"\",xedb)\n",
    "print(data)"
   ]
  },
  {
   "cell_type": "markdown",
   "metadata": {},
   "source": [
    "# [ PRACTICE 1 ]\n",
    "#### 1. 테이블 생성"
   ]
  },
  {
   "cell_type": "code",
   "execution_count": 24,
   "metadata": {
    "collapsed": true
   },
   "outputs": [],
   "source": [
    "cur.execute(\"CREATE TABLE NEW_EMP (id NUMBER(6), name VARCHAR2(20))\")"
   ]
  },
  {
   "cell_type": "markdown",
   "metadata": {},
   "source": [
    "#### 2. UNIQUE 인덱스 생성"
   ]
  },
  {
   "cell_type": "code",
   "execution_count": 25,
   "metadata": {},
   "outputs": [
    {
     "name": "stdout",
     "output_type": "stream",
     "text": [
      "       INDEX_NAME COLUMN_NAME\n",
      "0  NEW_EMP_ID_IDX          ID\n"
     ]
    }
   ],
   "source": [
    "cur.execute(\"CREATE UNIQUE INDEX new_emp_id_idx ON new_emp(ID)\")\n",
    "\n",
    "# 인덱스정보확인\n",
    "data = pd.read_sql(\"\"\"SELECT index_name, column_name \n",
    "                   FROM user_ind_columns\n",
    "                   WHERE table_name = 'NEW_EMP'\n",
    "                   \"\"\",xedb)\n",
    "print(data)"
   ]
  },
  {
   "cell_type": "markdown",
   "metadata": {},
   "source": [
    "#### 3. PRIMARY KEY 설정"
   ]
  },
  {
   "cell_type": "code",
   "execution_count": 26,
   "metadata": {},
   "outputs": [
    {
     "name": "stdout",
     "output_type": "stream",
     "text": [
      "  CONSTRAINT_NAME CONSTRAINT_TYPE      INDEX_NAME\n",
      "0       NEW_EM_PK               P  NEW_EMP_ID_IDX\n"
     ]
    }
   ],
   "source": [
    "cur.execute(\"ALTER TABLE new_emp ADD CONSTRAINT new_em_pk PRIMARY KEY (ID) USING INDEX new_emp_id_idx\")\n",
    "# USING INDEX : 인덱스 생성불가 하도록 요청 (이미 인덱스가 생성이 되어있는 상태인데, PK하면서 인덱시 반복 생성되므로)\n",
    "\n",
    "data = pd.read_sql(\"\"\"SELECT constraint_name, constraint_type, index_name\n",
    "                   FROM user_constraints\n",
    "                   WHERE table_name = 'NEW_EMP'\n",
    "                   \"\"\",xedb)\n",
    "print(data)"
   ]
  },
  {
   "cell_type": "markdown",
   "metadata": {},
   "source": [
    "#### 4. 인덱스 삭제"
   ]
  },
  {
   "cell_type": "code",
   "execution_count": 27,
   "metadata": {},
   "outputs": [
    {
     "ename": "DatabaseError",
     "evalue": "ORA-02429: cannot drop index used for enforcement of unique/primary key",
     "output_type": "error",
     "traceback": [
      "\u001b[1;31m---------------------------------------------------------------------------\u001b[0m",
      "\u001b[1;31mDatabaseError\u001b[0m                             Traceback (most recent call last)",
      "\u001b[1;32m<ipython-input-27-a7d22f6a0539>\u001b[0m in \u001b[0;36m<module>\u001b[1;34m()\u001b[0m\n\u001b[1;32m----> 1\u001b[1;33m \u001b[0mcur\u001b[0m\u001b[1;33m.\u001b[0m\u001b[0mexecute\u001b[0m\u001b[1;33m(\u001b[0m\u001b[1;34m\"DROP INDEX new_emp_id_idx\"\u001b[0m\u001b[1;33m)\u001b[0m\u001b[1;33m\u001b[0m\u001b[0m\n\u001b[0m\u001b[0;32m      2\u001b[0m \u001b[1;31m# 인덱스 삭제 불가. PK 삭제 후 가능\u001b[0m\u001b[1;33m\u001b[0m\u001b[1;33m\u001b[0m\u001b[0m\n",
      "\u001b[1;31mDatabaseError\u001b[0m: ORA-02429: cannot drop index used for enforcement of unique/primary key"
     ]
    }
   ],
   "source": [
    "cur.execute(\"DROP INDEX new_emp_id_idx\")\n",
    "# 인덱스 삭제 불가. PK 삭제 후 가능"
   ]
  },
  {
   "cell_type": "code",
   "execution_count": 28,
   "metadata": {},
   "outputs": [
    {
     "name": "stdout",
     "output_type": "stream",
     "text": [
      "Empty DataFrame\n",
      "Columns: [CONSTRAINT_NAME, CONSTRAINT_TYPE, INDEX_NAME]\n",
      "Index: []\n"
     ]
    }
   ],
   "source": [
    "# PK삭제\n",
    "cur.execute(\"ALTER TABLE new_emp DROP PRIMARY KEY \")\n",
    "\n",
    "data = pd.read_sql(\"\"\"SELECT constraint_name, constraint_type, index_name\n",
    "                   FROM user_constraints\n",
    "                   WHERE table_name = 'NEW_EMP'\n",
    "                   \"\"\",xedb)\n",
    "print(data)"
   ]
  },
  {
   "cell_type": "code",
   "execution_count": 29,
   "metadata": {},
   "outputs": [
    {
     "name": "stdout",
     "output_type": "stream",
     "text": [
      "       INDEX_NAME COLUMN_NAME\n",
      "0  NEW_EMP_ID_IDX          ID\n"
     ]
    }
   ],
   "source": [
    "data = pd.read_sql(\"\"\"SELECT index_name, column_name\n",
    "                   FROM user_ind_columns \n",
    "                   WHERE table_name = 'NEW_EMP'\n",
    "                   \"\"\",xedb)\n",
    "print(data)"
   ]
  },
  {
   "cell_type": "code",
   "execution_count": 30,
   "metadata": {},
   "outputs": [
    {
     "name": "stdout",
     "output_type": "stream",
     "text": [
      "Empty DataFrame\n",
      "Columns: [INDEX_NAME, COLUMN_NAME]\n",
      "Index: []\n"
     ]
    }
   ],
   "source": [
    "# 인덱스 삭제\n",
    "cur.execute(\"DROP INDEX new_emp_id_idx\")\n",
    "\n",
    "data = pd.read_sql(\"\"\"SELECT index_name, column_name\n",
    "                   FROM user_ind_columns\n",
    "                   WHERE table_name = 'NEW_EMP'\n",
    "                   \"\"\",xedb)\n",
    "print(data)"
   ]
  },
  {
   "cell_type": "markdown",
   "metadata": {},
   "source": [
    "# [ PRACTICE 2 ]"
   ]
  },
  {
   "cell_type": "code",
   "execution_count": 4,
   "metadata": {
    "scrolled": true
   },
   "outputs": [
    {
     "name": "stdout",
     "output_type": "stream",
     "text": [
      "Empty DataFrame\n",
      "Columns: [INDEX_NAME, COLUMN_NAME]\n",
      "Index: []\n"
     ]
    }
   ],
   "source": [
    "# 테이블 생성\n",
    "cur.execute(\"\"\"CREATE TABLE temp_emp\n",
    "            AS SELECT * FROM employees\"\"\")\n",
    "\n",
    "data = pd.read_sql(\"\"\"SELECT index_name, column_name\n",
    "                   FROM user_ind_columns\n",
    "                   WHERE table_name = 'TEMP_EMP'\n",
    "                   \"\"\",xedb)\n",
    "print(data)"
   ]
  },
  {
   "cell_type": "markdown",
   "metadata": {},
   "source": [
    "#### PK와 UNIQUE제약조건은 UNIQUE INDEX 자동생성"
   ]
  },
  {
   "cell_type": "code",
   "execution_count": 5,
   "metadata": {},
   "outputs": [
    {
     "name": "stdout",
     "output_type": "stream",
     "text": [
      "       INDEX_NAME  COLUMN_NAME\n",
      "0  TEMP_EMP_ID_PK  EMPLOYEE_ID\n"
     ]
    }
   ],
   "source": [
    "# PK 설정 및 인덱스 확인\n",
    "cur.execute(\"ALTER TABLE temp_emp ADD CONSTRAINT temp_emp_id_pk PRIMARY KEY(employee_id)\")\n",
    "\n",
    "data = pd.read_sql(\"\"\"SELECT index_name, column_name\n",
    "                   FROM user_ind_columns\n",
    "                   WHERE table_name = 'TEMP_EMP'\n",
    "                   \"\"\",xedb)\n",
    "print(data)"
   ]
  },
  {
   "cell_type": "markdown",
   "metadata": {},
   "source": [
    "## < DROP, PURGE > \n",
    "* 테이블 삭제\n",
    "* 테이블에 걸려있는 인덱스, 제약조건도 동시삭제"
   ]
  },
  {
   "cell_type": "code",
   "execution_count": 6,
   "metadata": {},
   "outputs": [
    {
     "name": "stdout",
     "output_type": "stream",
     "text": [
      "Empty DataFrame\n",
      "Columns: [CONSTRAINT_NAME, CONSTRAINT_TYPE, SEARCH_CONDITION]\n",
      "Index: []\n"
     ]
    }
   ],
   "source": [
    "cur.execute(\"DROP TABLE temp_emp\")\n",
    "# DROP TABLE temp_emp PURGE; 영구삭제\n",
    "\n",
    "data = pd.read_sql(\"\"\"SELECT constraint_name, constraint_type,search_condition\n",
    "                   FROM user_constraints\n",
    "                   WHERE table_name = 'TEMP_EMP'\n",
    "                   \"\"\",xedb)\n",
    "print(data)"
   ]
  },
  {
   "cell_type": "code",
   "execution_count": 7,
   "metadata": {},
   "outputs": [
    {
     "name": "stdout",
     "output_type": "stream",
     "text": [
      "Empty DataFrame\n",
      "Columns: [INDEX_NAME, COLUMN_NAME]\n",
      "Index: []\n"
     ]
    }
   ],
   "source": [
    "data = pd.read_sql(\"\"\"SELECT index_name, column_name\n",
    "                   FROM user_ind_columns\n",
    "                   WHERE table_name = 'TEMP_EMP'\n",
    "                   \"\"\",xedb)\n",
    "print(data)"
   ]
  },
  {
   "cell_type": "code",
   "execution_count": 8,
   "metadata": {},
   "outputs": [
    {
     "name": "stdout",
     "output_type": "stream",
     "text": [
      "                      OBJECT_NAME   ORIGINAL_NAME   TYPE\n",
      "0  BIN$ScSPTmkwTOyU5vQrYrG0vw==$0  TEMP_EMP_ID_PK  INDEX\n",
      "1  BIN$2HRjszLiSNuzDB0IIS+puA==$0        TEMP_EMP  TABLE\n"
     ]
    }
   ],
   "source": [
    "# 휴지통 보기 (테이블 삭제 후 휴지통에 RENAME되어있다)\n",
    "\n",
    "data = pd.read_sql(\"\"\"SELECT OBJECT_NAME, ORIGINAL_NAME, TYPE \n",
    "                   FROM RECYCLEBIN\n",
    "                   \"\"\",xedb)\n",
    "print(data)  "
   ]
  },
  {
   "cell_type": "code",
   "execution_count": 10,
   "metadata": {},
   "outputs": [
    {
     "name": "stdout",
     "output_type": "stream",
     "text": [
      "   COUNT(*)\n",
      "0       107\n"
     ]
    }
   ],
   "source": [
    "# RENAME된 이름으로 조회\n",
    "\n",
    "data = pd.read_sql(\"\"\"SELECT count(*) \n",
    "                    FROM \"BIN$2HRjszLiSNuzDB0IIS+puA==$0\"\n",
    "                    \"\"\",xedb)\n",
    "print(data)"
   ]
  },
  {
   "cell_type": "markdown",
   "metadata": {},
   "source": [
    "## < FLASHBACK_ 복원작업 >\n",
    "* 인덱스, 제약조건도 함께 복원\n",
    "* 이름복원 없이 bin으로 표기되기 때문에 이름수정필요"
   ]
  },
  {
   "cell_type": "code",
   "execution_count": 11,
   "metadata": {},
   "outputs": [
    {
     "name": "stdout",
     "output_type": "stream",
     "text": [
      "   COUNT(*)\n",
      "0       107\n"
     ]
    }
   ],
   "source": [
    "cur.execute(\"FLASHBACK TABLE temp_emp TO BEFORE DROP\")\n",
    "\n",
    "data = pd.read_sql(\"SELECT count(*) FROM temp_emp\",xedb)\n",
    "print(data)"
   ]
  },
  {
   "cell_type": "code",
   "execution_count": 12,
   "metadata": {},
   "outputs": [
    {
     "name": "stdout",
     "output_type": "stream",
     "text": [
      "                  CONSTRAINT_NAME CONSTRAINT_TYPE         SEARCH_CONDITION\n",
      "0  BIN$NRYlvuczShOHFFvsSn16Aw==$0               C  \"LAST_NAME\" IS NOT NULL\n",
      "1  BIN$KFpJCZpWQwuuUO3VK1Wx0Q==$0               C      \"EMAIL\" IS NOT NULL\n",
      "2  BIN$DTOUxrU0RGqLX3DJ9kQotA==$0               C  \"HIRE_DATE\" IS NOT NULL\n",
      "3  BIN$jkJmpGM+QKyCccUuCXjlXQ==$0               C     \"JOB_ID\" IS NOT NULL\n",
      "4  BIN$b38OVwgoQ0W9gSvuSvIaLw==$0               P                     None\n"
     ]
    }
   ],
   "source": [
    "# CONSTRAINT 확인\n",
    "\n",
    "data = pd.read_sql(\"\"\"SELECT constraint_name, constraint_type,search_condition\n",
    "                   FROM user_constraints\n",
    "                   WHERE table_name = 'TEMP_EMP'\n",
    "                   \"\"\",xedb)\n",
    "print(data)"
   ]
  },
  {
   "cell_type": "code",
   "execution_count": 13,
   "metadata": {},
   "outputs": [
    {
     "name": "stdout",
     "output_type": "stream",
     "text": [
      "                       INDEX_NAME  COLUMN_NAME\n",
      "0  BIN$ScSPTmkwTOyU5vQrYrG0vw==$0  EMPLOYEE_ID\n"
     ]
    }
   ],
   "source": [
    "# INDEX 확인\n",
    "\n",
    "data = pd.read_sql(\"\"\"SELECT index_name, column_name\n",
    "                   FROM user_ind_columns\n",
    "                   WHERE table_name = 'TEMP_EMP'\n",
    "                   \"\"\",xedb)\n",
    "print(data)"
   ]
  },
  {
   "cell_type": "markdown",
   "metadata": {},
   "source": [
    "## < RENAME _이름 수정 >\n",
    "- CONSTRAINT 이름수정"
   ]
  },
  {
   "cell_type": "code",
   "execution_count": 18,
   "metadata": {},
   "outputs": [
    {
     "name": "stdout",
     "output_type": "stream",
     "text": [
      "                  CONSTRAINT_NAME CONSTRAINT_TYPE         SEARCH_CONDITION\n",
      "0  BIN$NRYlvuczShOHFFvsSn16Aw==$0               C  \"LAST_NAME\" IS NOT NULL\n",
      "1  BIN$KFpJCZpWQwuuUO3VK1Wx0Q==$0               C      \"EMAIL\" IS NOT NULL\n",
      "2  BIN$DTOUxrU0RGqLX3DJ9kQotA==$0               C  \"HIRE_DATE\" IS NOT NULL\n",
      "3  BIN$jkJmpGM+QKyCccUuCXjlXQ==$0               C     \"JOB_ID\" IS NOT NULL\n",
      "4                  TEMP_EMP_ID_PK               P                     None\n"
     ]
    }
   ],
   "source": [
    "cur.execute(\"\"\"ALTER TABLE temp_emp RENAME CONSTRAINT \"BIN$b38OVwgoQ0W9gSvuSvIaLw==$0\" TO TEMP_EMP_ID_PK\"\"\")\n",
    "\n",
    "data = pd.read_sql(\"\"\"SELECT constraint_name, constraint_type,search_condition\n",
    "                   FROM user_constraints\n",
    "                   WHERE table_name = 'TEMP_EMP'\n",
    "                   \"\"\",xedb)\n",
    "print(data)"
   ]
  },
  {
   "cell_type": "markdown",
   "metadata": {},
   "source": [
    "- INDEX 이름 수정"
   ]
  },
  {
   "cell_type": "code",
   "execution_count": 19,
   "metadata": {},
   "outputs": [
    {
     "name": "stdout",
     "output_type": "stream",
     "text": [
      "       INDEX_NAME  COLUMN_NAME\n",
      "0  TEMP_EMP_ID_PK  EMPLOYEE_ID\n"
     ]
    }
   ],
   "source": [
    "cur.execute(\"\"\"ALTER INDEX \"BIN$ScSPTmkwTOyU5vQrYrG0vw==$0\" RENAME TO TEMP_EMP_ID_PK\"\"\")\n",
    "\n",
    "data = pd.read_sql(\"\"\"SELECT index_name, column_name\n",
    "                   FROM user_ind_columns\n",
    "                   WHERE table_name = 'TEMP_EMP'\n",
    "                   \"\"\",xedb)\n",
    "print(data)"
   ]
  },
  {
   "cell_type": "code",
   "execution_count": null,
   "metadata": {
    "collapsed": true
   },
   "outputs": [],
   "source": [
    "cur.close()\n",
    "xedb.close()"
   ]
  },
  {
   "cell_type": "code",
   "execution_count": null,
   "metadata": {
    "collapsed": true
   },
   "outputs": [],
   "source": []
  },
  {
   "cell_type": "code",
   "execution_count": null,
   "metadata": {
    "collapsed": true
   },
   "outputs": [],
   "source": []
  }
 ],
 "metadata": {
  "kernelspec": {
   "display_name": "Python 3",
   "language": "python",
   "name": "python3"
  },
  "language_info": {
   "codemirror_mode": {
    "name": "ipython",
    "version": 3
   },
   "file_extension": ".py",
   "mimetype": "text/x-python",
   "name": "python",
   "nbconvert_exporter": "python",
   "pygments_lexer": "ipython3",
   "version": "3.6.1"
  }
 },
 "nbformat": 4,
 "nbformat_minor": 2
}
