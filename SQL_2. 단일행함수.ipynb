{
 "cells": [
  {
   "cell_type": "markdown",
   "metadata": {},
   "source": [
    "# CHAPTER 2 . 단일행 함수\n",
    "****"
   ]
  },
  {
   "cell_type": "markdown",
   "metadata": {},
   "source": [
    "### 2-1. 문자함수\n",
    "### < UPPER, LOWER, INITCAP >"
   ]
  },
  {
   "cell_type": "code",
   "execution_count": 1,
   "metadata": {
    "collapsed": true
   },
   "outputs": [],
   "source": [
    "import cx_Oracle\n",
    "import pandas as pd\n",
    "xedb = cx_Oracle.connect('hr/hr@localhost/xe')\n",
    "cur = xedb.cursor()"
   ]
  },
  {
   "cell_type": "code",
   "execution_count": 2,
   "metadata": {},
   "outputs": [
    {
     "name": "stdout",
     "output_type": "stream",
     "text": [
      "                                       EMP\n",
      "0            The job id for ABEL is Sa_Rep\n",
      "1            The job id for ANDE is Sa_Rep\n",
      "2      The job id for ATKINSON is St_Clerk\n",
      "3         The job id for AUSTIN is It_Prog\n",
      "4            The job id for BAER is Pr_Rep\n",
      "5         The job id for BAIDA is Pu_Clerk\n",
      "6           The job id for BANDA is Sa_Rep\n",
      "7           The job id for BATES is Sa_Rep\n",
      "8          The job id for BELL is Sh_Clerk\n",
      "9       The job id for BERNSTEIN is Sa_Rep\n",
      "10       The job id for BISSOT is St_Clerk\n",
      "11          The job id for BLOOM is Sa_Rep\n",
      "12         The job id for BULL is Sh_Clerk\n",
      "13       The job id for CABRIO is Sh_Clerk\n",
      "14      The job id for CAMBRAULT is Sa_Man\n",
      "15      The job id for CAMBRAULT is Sa_Rep\n",
      "16       The job id for CHEN is Fi_Account\n",
      "17        The job id for CHUNG is Sh_Clerk\n",
      "18   The job id for COLMENARES is Pu_Clerk\n",
      "19       The job id for DAVIES is St_Clerk\n",
      "20         The job id for DE HAAN is Ad_Vp\n",
      "21    The job id for DELLINGER is Sh_Clerk\n",
      "22        The job id for DILLY is Sh_Clerk\n",
      "23          The job id for DORAN is Sa_Rep\n",
      "24         The job id for ERNST is It_Prog\n",
      "25      The job id for ERRAZURIZ is Sa_Man\n",
      "26      The job id for EVERETT is Sh_Clerk\n",
      "27     The job id for FAVIET is Fi_Account\n",
      "28            The job id for FAY is Mk_Rep\n",
      "29       The job id for FEENEY is Sh_Clerk\n",
      "..                                     ...\n",
      "77        The job id for PATEL is St_Clerk\n",
      "78      The job id for PERKINS is Sh_Clerk\n",
      "79   The job id for PHILTANKER is St_Clerk\n",
      "80       The job id for POPP is Fi_Account\n",
      "81         The job id for RAJS is St_Clerk\n",
      "82       The job id for RAPHAELY is Pu_Man\n",
      "83       The job id for ROGERS is St_Clerk\n",
      "84        The job id for RUSSELL is Sa_Man\n",
      "85     The job id for SARCHAND is Sh_Clerk\n",
      "86    The job id for SCIARRA is Fi_Account\n",
      "87          The job id for SEO is St_Clerk\n",
      "88         The job id for SEWALL is Sa_Rep\n",
      "89          The job id for SMITH is Sa_Rep\n",
      "90          The job id for SMITH is Sa_Rep\n",
      "91       The job id for STILES is St_Clerk\n",
      "92     The job id for SULLIVAN is Sh_Clerk\n",
      "93          The job id for SULLY is Sa_Rep\n",
      "94         The job id for TAYLOR is Sa_Rep\n",
      "95       The job id for TAYLOR is Sh_Clerk\n",
      "96       The job id for TOBIAS is Pu_Clerk\n",
      "97         The job id for TUCKER is Sa_Rep\n",
      "98        The job id for TUVAULT is Sa_Rep\n",
      "99      The job id for URMAN is Fi_Account\n",
      "100      The job id for VARGAS is St_Clerk\n",
      "101       The job id for VISHNEY is Sa_Rep\n",
      "102       The job id for VOLLMAN is St_Man\n",
      "103       The job id for WALSH is Sh_Clerk\n",
      "104         The job id for WEISS is St_Man\n",
      "105       The job id for WHALEN is Ad_Asst\n",
      "106       The job id for ZLOTKEY is Sa_Man\n",
      "\n",
      "[107 rows x 1 columns]\n"
     ]
    }
   ],
   "source": [
    "df = pd.read_sql(\"\"\"\n",
    "                 SELECT 'The job id for '||UPPER(last_name)||' is ' ||INITCAP(job_id) as EMP\n",
    "                 FROM employees\n",
    "                 \"\"\", xedb)\n",
    "print(df)"
   ]
  },
  {
   "cell_type": "code",
   "execution_count": 3,
   "metadata": {},
   "outputs": [
    {
     "name": "stdout",
     "output_type": "stream",
     "text": [
      "   EMPLOYEE_ID LAST_NAME  DEPARTMENT_ID\n",
      "0          205   Higgins            110\n"
     ]
    }
   ],
   "source": [
    "df = pd.read_sql(\"\"\"\n",
    "                 SELECT employee_id, last_name, department_id\n",
    "                 FROM employees\n",
    "                 WHERE lower(last_name)='higgins'\n",
    "                 \"\"\",xedb)\n",
    "print(df)"
   ]
  },
  {
   "cell_type": "markdown",
   "metadata": {},
   "source": [
    "### < CONCAT, LENGTH, INSTR, SUBSTR >\n",
    "* CONCAT : 문자연결\n",
    "* LENGTH : 문자길이\n",
    "* INSTR : 문자위치정보\n",
    "* SUBSTR : 문자를 잘라 추출"
   ]
  },
  {
   "cell_type": "code",
   "execution_count": 4,
   "metadata": {},
   "outputs": [
    {
     "name": "stdout",
     "output_type": "stream",
     "text": [
      "    JOB_ID              NAME  LENGTH(LAST_NAME)  INSTR(LAST_NAME,'A')\n",
      "0   HR_REP       SusanMavris                  6                     2\n",
      "1   MK_REP            PatFay                  3                     2\n",
      "2   PR_REP       HermannBaer                  4                     2\n",
      "3   SA_REP       PeterTucker                  6                     0\n",
      "4   SA_REP    DavidBernstein                  9                     0\n",
      "5   SA_REP         PeterHall                  4                     2\n",
      "6   SA_REP  ChristopherOlsen                  5                     0\n",
      "7   SA_REP  NanetteCambrault                  9                     2\n",
      "8   SA_REP     OliverTuvault                  7                     4\n",
      "9   SA_REP       JanetteKing                  4                     0\n",
      "10  SA_REP      PatrickSully                  5                     0\n",
      "11  SA_REP       AllanMcEwen                  6                     0\n",
      "12  SA_REP      LindseySmith                  5                     0\n",
      "13  SA_REP       LouiseDoran                  5                     4\n",
      "14  SA_REP      SarathSewall                  6                     4\n",
      "15  SA_REP      ClaraVishney                  7                     0\n",
      "16  SA_REP    DanielleGreene                  6                     0\n",
      "17  SA_REP     MatteaMarvins                  7                     2\n",
      "18  SA_REP          DavidLee                  3                     0\n",
      "19  SA_REP        SundarAnde                  4                     0\n",
      "20  SA_REP         AmitBanda                  5                     2\n",
      "21  SA_REP          LisaOzer                  4                     0\n",
      "22  SA_REP     HarrisonBloom                  5                     0\n",
      "23  SA_REP         TaylerFox                  3                     0\n",
      "24  SA_REP      WilliamSmith                  5                     0\n",
      "25  SA_REP    ElizabethBates                  5                     2\n",
      "26  SA_REP      SunditaKumar                  5                     4\n",
      "27  SA_REP         EllenAbel                  4                     0\n",
      "28  SA_REP      AlyssaHutton                  6                     0\n",
      "29  SA_REP    JonathonTaylor                  6                     2\n",
      "30  SA_REP    JackLivingston                 10                     0\n",
      "31  SA_REP    KimberelyGrant                  5                     3\n",
      "32  SA_REP    CharlesJohnson                  7                     0\n"
     ]
    }
   ],
   "source": [
    "df = pd.read_sql(\"\"\"\n",
    "                 SELECT job_id, concat(first_name,last_name) NAME, LENGTH(last_name), instr(last_name,'a')\n",
    "                 FROM employees\n",
    "                 WHERE substr(job_id,4,3)='REP'\n",
    "                 \"\"\",xedb)\n",
    "print(df)"
   ]
  },
  {
   "cell_type": "markdown",
   "metadata": {},
   "source": [
    "### < LPAD, RPAD >"
   ]
  },
  {
   "cell_type": "code",
   "execution_count": 6,
   "metadata": {},
   "outputs": [
    {
     "name": "stdout",
     "output_type": "stream",
     "text": [
      "     SALARY          LP          RP\n",
      "0   24000.0  *****24000  24000*****\n",
      "1   17000.0  *****17000  17000*****\n",
      "2   17000.0  *****17000  17000*****\n",
      "3   12008.0  *****12008  12008*****\n",
      "4   11000.0  *****11000  11000*****\n",
      "5   14000.0  *****14000  14000*****\n",
      "6   13500.0  *****13500  13500*****\n",
      "7   12000.0  *****12000  12000*****\n",
      "8   11000.0  *****11000  11000*****\n",
      "9   10500.0  *****10500  10500*****\n",
      "10  10500.0  *****10500  10500*****\n",
      "11  11500.0  *****11500  11500*****\n",
      "12  11000.0  *****11000  11000*****\n",
      "13  13000.0  *****13000  13000*****\n",
      "14  12008.0  *****12008  12008*****\n"
     ]
    }
   ],
   "source": [
    "df = pd.read_sql(\"\"\"\n",
    "                 SELECT salary, lpad(salary,10,'*') AS lp, rpad(salary,10,'*') AS rp\n",
    "                 FROM employees\n",
    "                 WHERE salary>10000\n",
    "                 \"\"\",xedb)\n",
    "print(df)"
   ]
  },
  {
   "cell_type": "markdown",
   "metadata": {},
   "source": [
    "### < TRIM, RTRIM, LTRIM >\n",
    "특정문자제거"
   ]
  },
  {
   "cell_type": "code",
   "execution_count": 7,
   "metadata": {},
   "outputs": [
    {
     "name": "stdout",
     "output_type": "stream",
     "text": [
      "     T   RT   LT\n",
      "0  BBC  BBC  BBC\n"
     ]
    }
   ],
   "source": [
    "df = pd.read_sql(\"\"\"\n",
    "                 SELECT trim('A' FROM 'AABBCAA')t, \n",
    "                         rtrim('BBCAA','A')rt, \n",
    "                         ltrim('AABBC','A')lt\n",
    "                 FROM dual\n",
    "                 \"\"\",xedb)\n",
    "print(df)"
   ]
  },
  {
   "cell_type": "code",
   "execution_count": 8,
   "metadata": {},
   "outputs": [
    {
     "name": "stdout",
     "output_type": "stream",
     "text": [
      "     T     RT    LT\n",
      "0  BBC  AABBC  None\n"
     ]
    }
   ],
   "source": [
    "df = pd.read_sql(\"\"\"\n",
    "                 SELECT trim('A' from 'AABBCAA')t, \n",
    "                         rtrim('AABBCAA','A')rt, \n",
    "                         ltrim('AAAAA','A')lt\n",
    "                 FROM dual\n",
    "                 \"\"\",xedb)\n",
    "print(df)"
   ]
  },
  {
   "cell_type": "markdown",
   "metadata": {},
   "source": [
    "### < REPLACE >\n",
    "특정문자 변경"
   ]
  },
  {
   "cell_type": "code",
   "execution_count": 9,
   "metadata": {},
   "outputs": [
    {
     "name": "stdout",
     "output_type": "stream",
     "text": [
      "         PHONE\n",
      "0  01012345678\n"
     ]
    }
   ],
   "source": [
    "df = pd.read_sql(\"\"\"\n",
    "                 SELECT REPLACE('010-1234-5678','-','') phone\n",
    "                 FROM dual\n",
    "                 \"\"\",xedb)\n",
    "print(df)"
   ]
  },
  {
   "cell_type": "code",
   "execution_count": 10,
   "metadata": {},
   "outputs": [
    {
     "name": "stdout",
     "output_type": "stream",
     "text": [
      "            PHONE\n",
      "0  8210-1234-5678\n"
     ]
    }
   ],
   "source": [
    "df = pd.read_sql(\"\"\"\n",
    "                 SELECT replace('010-1234-5678','010','8210') phone\n",
    "                 FROM dual\n",
    "                 \"\"\",xedb)\n",
    "print(df)"
   ]
  },
  {
   "cell_type": "markdown",
   "metadata": {},
   "source": [
    "***\n",
    "### 2-2 숫자함수\n",
    "### < ROUND, TRUNC, MOD >"
   ]
  },
  {
   "cell_type": "code",
   "execution_count": 13,
   "metadata": {},
   "outputs": [
    {
     "name": "stdout",
     "output_type": "stream",
     "text": [
      "   ROUND(45.926,0)  ROUND(45.926,2)  ROUND(45.926,-1)\n",
      "0               46            45.93                50\n"
     ]
    }
   ],
   "source": [
    "df = pd.read_sql(\"\"\"\n",
    "                 SELECT round(45.926,0), round(45.926,2), round(45.926,-1)\n",
    "                 FROM dual\n",
    "                 \"\"\",xedb)\n",
    "print(df)"
   ]
  },
  {
   "cell_type": "code",
   "execution_count": 14,
   "metadata": {},
   "outputs": [
    {
     "name": "stdout",
     "output_type": "stream",
     "text": [
      "   TRUNC(45.926,2)  TRUNC(45.926)  TRUNC(45.926,-1)\n",
      "0            45.92             45                40\n"
     ]
    }
   ],
   "source": [
    "df = pd.read_sql(\"\"\"\n",
    "                 SELECT trunc(45.926,2), trunc(45.926), trunc(45.926,-1)\n",
    "                 FROM dual\n",
    "                 \"\"\",xedb)\n",
    "print(df)"
   ]
  },
  {
   "cell_type": "code",
   "execution_count": 16,
   "metadata": {},
   "outputs": [
    {
     "name": "stdout",
     "output_type": "stream",
     "text": [
      "     SALARY  MOD_SAL\n",
      "0   24000.0     4000\n",
      "1   17000.0     7000\n",
      "2   17000.0     7000\n",
      "3   12008.0     2008\n",
      "4   11000.0     1000\n",
      "5   14000.0     4000\n",
      "6   13500.0     3500\n",
      "7   12000.0     2000\n",
      "8   11000.0     1000\n",
      "9   10500.0      500\n",
      "10  10000.0        0\n",
      "11  10000.0        0\n",
      "12  10500.0      500\n",
      "13  11500.0     1500\n",
      "14  10000.0        0\n",
      "15  11000.0     1000\n",
      "16  13000.0     3000\n",
      "17  10000.0        0\n",
      "18  12008.0     2008\n"
     ]
    }
   ],
   "source": [
    "df = pd.read_sql(\"\"\"\n",
    "                 SELECT salary, mod(salary, 10000) mod_sal\n",
    "                 FROM employees\n",
    "                 WHERE salary>=10000\n",
    "                 \"\"\",xedb)\n",
    "print(df)"
   ]
  },
  {
   "cell_type": "markdown",
   "metadata": {},
   "source": [
    "***\n",
    "### 2-3 날짜함수\n",
    "* date + number = date\n",
    "* date - number = date\n",
    "* date - date = number\n",
    "* date + date = error\n",
    "* date + 10/24 = date\n",
    "\n",
    "- 10hours : 10/24\n",
    "- 10minutes : 10/24*60\n",
    "- 10seconds : 10/24* 60* 60"
   ]
  },
  {
   "cell_type": "markdown",
   "metadata": {},
   "source": [
    "### < MONTHS_BETWEEN, ADD_MONTHS, NEXT_DAY, LAST_DAY >"
   ]
  },
  {
   "cell_type": "code",
   "execution_count": 17,
   "metadata": {},
   "outputs": [
    {
     "name": "stdout",
     "output_type": "stream",
     "text": [
      "    HIRE_DATE  MONTHS_BETWEEN ADD_MONTHS   NEXT_DAY   LAST_DAY\n",
      "0  2003-06-17             172 2003-12-17 2003-06-20 2003-06-30\n",
      "1  2005-09-21             145 2006-03-21 2005-09-23 2005-09-30\n",
      "2  2001-01-13             202 2001-07-13 2001-01-19 2001-01-31\n",
      "3  2002-08-17             182 2003-02-17 2002-08-23 2002-08-31\n",
      "4  2002-12-07             179 2003-06-07 2002-12-13 2002-12-31\n",
      "5  2004-10-01             157 2005-04-01 2004-10-08 2004-10-31\n",
      "6  2005-01-05             154 2005-07-05 2005-01-07 2005-01-31\n",
      "7  2005-03-10             152 2005-09-10 2005-03-11 2005-03-31\n",
      "8  2007-10-15             120 2008-04-15 2007-10-19 2007-10-31\n",
      "9  2008-01-29             117 2008-07-29 2008-02-01 2008-01-31\n",
      "10 2005-11-11             144 2006-05-11 2005-11-18 2005-11-30\n",
      "11 2005-03-11             152 2005-09-11 2005-03-18 2005-03-31\n",
      "12 2004-05-11             162 2004-11-11 2004-05-14 2004-05-31\n",
      "13 2004-02-17             164 2004-08-17 2004-02-20 2004-02-29\n",
      "14 2002-06-07             185 2002-12-07 2002-06-14 2002-06-30\n"
     ]
    }
   ],
   "source": [
    "df = pd.read_sql(\"\"\"\n",
    "                 SELECT hire_date,\n",
    "                        trunc(months_between (SYSDATE, hire_date)) months_between,\n",
    "                        add_months(hire_date, 6) add_months,\n",
    "                        next_day (hire_date,'금요일') next_day,\n",
    "                        last_day(hire_date) last_day\n",
    "                FROM employees\n",
    "                WHERE salary >10000\n",
    "                \"\"\",xedb)\n",
    "print(df)"
   ]
  },
  {
   "cell_type": "markdown",
   "metadata": {},
   "source": [
    "### < ROUND, TRUNC >"
   ]
  },
  {
   "cell_type": "code",
   "execution_count": 18,
   "metadata": {},
   "outputs": [
    {
     "name": "stdout",
     "output_type": "stream",
     "text": [
      "              SYSDATE  ROUND_MON   ROUND_YR  TRUNC_MON   TRUNC_YR\n",
      "0 2017-11-13 11:45:49 2017-11-01 2018-01-01 2017-11-01 2017-01-01\n"
     ]
    }
   ],
   "source": [
    "df = pd.read_sql(\"\"\"\n",
    "                 SELECT SYSDATE,\n",
    "                        round(SYSDATE, 'MONTH') round_mon,\n",
    "                        round(SYSDATE, 'YEAR') round_yr,\n",
    "                        trunc (SYSDATE, 'MONTH') trunc_mon,\n",
    "                        trunc(SYSDATE, 'YEAR') trunc_yr\n",
    "                FROM dual\n",
    "                \"\"\",xedb)\n",
    "print(df)"
   ]
  },
  {
   "cell_type": "markdown",
   "metadata": {},
   "source": [
    "### < EXTRACT >"
   ]
  },
  {
   "cell_type": "code",
   "execution_count": 20,
   "metadata": {},
   "outputs": [
    {
     "name": "stdout",
     "output_type": "stream",
     "text": [
      "    LAST_NAME  HIRE_DATE    YR  MON\n",
      "0        King 2003-06-17  2003    6\n",
      "1     Kochhar 2005-09-21  2005    9\n",
      "2     De Haan 2001-01-13  2001    1\n",
      "3   Greenberg 2002-08-17  2002    8\n",
      "4    Raphaely 2002-12-07  2002   12\n",
      "5     Russell 2004-10-01  2004   10\n",
      "6    Partners 2005-01-05  2005    1\n",
      "7   Errazuriz 2005-03-10  2005    3\n",
      "8   Cambrault 2007-10-15  2007   10\n",
      "9     Zlotkey 2008-01-29  2008    1\n",
      "10    Vishney 2005-11-11  2005   11\n",
      "11       Ozer 2005-03-11  2005    3\n",
      "12       Abel 2004-05-11  2004    5\n",
      "13  Hartstein 2004-02-17  2004    2\n",
      "14    Higgins 2002-06-07  2002    6\n"
     ]
    }
   ],
   "source": [
    "df = pd.read_sql(\"\"\"\n",
    "                 SELECT last_name, hire_date,\n",
    "                        EXTRACT(YEAR FROM hire_date) yr,\n",
    "                        EXTRACT(MONTH FROM hire_date) mon\n",
    "                FROM employees\n",
    "                WHERE salary >10000\n",
    "                \"\"\",xedb)\n",
    "print(df)"
   ]
  },
  {
   "cell_type": "markdown",
   "metadata": {},
   "source": [
    "### 2-4 변환함수\n",
    "### < TO_CHAR, TO_NUMBER, TO_DATE >"
   ]
  },
  {
   "cell_type": "code",
   "execution_count": 21,
   "metadata": {},
   "outputs": [
    {
     "name": "stdout",
     "output_type": "stream",
     "text": [
      "   HIRE_DATE      DATE_       CHAR_\n",
      "0 2003-06-17 2005-01-01  2003-06-17\n",
      "1 2005-09-21 2005-01-01  2005-09-21\n",
      "2 2001-01-13 2005-01-01  2001-01-13\n"
     ]
    }
   ],
   "source": [
    "df = pd.read_sql(\"\"\"\n",
    "                 SELECT hire_date,to_date('2005-01-01','yyyy-mm-dd') DATE_,to_char(hire_date,'yyyy-mm-dd') CHAR_\n",
    "                 FROM employees\n",
    "                 WHERE salary>15000\n",
    "                 \"\"\",xedb)\n",
    "print(df)"
   ]
  },
  {
   "cell_type": "code",
   "execution_count": 22,
   "metadata": {},
   "outputs": [
    {
     "name": "stdout",
     "output_type": "stream",
     "text": [
      "    HIRE_DATE  DDD_DD_D\n",
      "0  2003-06-17  168 17 3\n",
      "1  2005-09-21  264 21 4\n",
      "2  2001-01-13  013 13 7\n",
      "3  2002-08-17  229 17 7\n",
      "4  2002-12-07  341 07 7\n",
      "5  2004-10-01  275 01 6\n",
      "6  2005-01-05  005 05 4\n",
      "7  2005-03-10  069 10 5\n",
      "8  2007-10-15  288 15 2\n",
      "9  2008-01-29  029 29 3\n",
      "10 2005-11-11  315 11 6\n",
      "11 2005-03-11  070 11 6\n",
      "12 2004-05-11  132 11 3\n",
      "13 2004-02-17  048 17 3\n",
      "14 2002-06-07  158 07 6\n"
     ]
    }
   ],
   "source": [
    "df = pd.read_sql(\"\"\"\n",
    "                 SELECT hire_date, to_char(hire_date, 'DDD DD D') DDD_DD_D\n",
    "                 FROM employees\n",
    "                 WHERE salary>10000\n",
    "                 \"\"\",xedb)\n",
    "print(df)"
   ]
  },
  {
   "cell_type": "code",
   "execution_count": 23,
   "metadata": {},
   "outputs": [
    {
     "name": "stdout",
     "output_type": "stream",
     "text": [
      "    HIRE_DATE  D  DAY\n",
      "0  2003-06-17  3  화요일\n",
      "1  2005-09-21  4  수요일\n",
      "2  2001-01-13  7  토요일\n",
      "3  2002-08-17  7  토요일\n",
      "4  2002-12-07  7  토요일\n",
      "5  2004-10-01  6  금요일\n",
      "6  2005-01-05  4  수요일\n",
      "7  2005-03-10  5  목요일\n",
      "8  2007-10-15  2  월요일\n",
      "9  2008-01-29  3  화요일\n",
      "10 2005-11-11  6  금요일\n",
      "11 2005-03-11  6  금요일\n",
      "12 2004-05-11  3  화요일\n",
      "13 2004-02-17  3  화요일\n",
      "14 2002-06-07  6  금요일\n"
     ]
    }
   ],
   "source": [
    "df = pd.read_sql(\"\"\"\n",
    "                 SELECT hire_date,to_char(hire_date, 'D')d, to_char(hire_date, 'DAY')DAY\n",
    "                 FROM employees\n",
    "                 WHERE salary>10000\n",
    "                 \"\"\",xedb)\n",
    "print(df)\n",
    "\n",
    "## sun:1, mon:2, tue:3, wed:4, thu:4, fri:6, sat:7 "
   ]
  },
  {
   "cell_type": "code",
   "execution_count": 24,
   "metadata": {},
   "outputs": [
    {
     "name": "stdout",
     "output_type": "stream",
     "text": [
      "    HIRE_DATE  D  DAY\n",
      "0  2007-10-15  2  월요일\n",
      "1  2003-06-17  3  화요일\n",
      "2  2004-02-17  3  화요일\n",
      "3  2004-05-11  3  화요일\n",
      "4  2008-01-29  3  화요일\n",
      "5  2005-09-21  4  수요일\n",
      "6  2005-01-05  4  수요일\n",
      "7  2005-03-10  5  목요일\n",
      "8  2005-11-11  6  금요일\n",
      "9  2005-03-11  6  금요일\n",
      "10 2002-06-07  6  금요일\n",
      "11 2004-10-01  6  금요일\n",
      "12 2002-12-07  7  토요일\n",
      "13 2002-08-17  7  토요일\n",
      "14 2001-01-13  7  토요일\n"
     ]
    }
   ],
   "source": [
    "df = pd.read_sql(\"\"\"\n",
    "                 SELECT hire_date, to_char(hire_date, 'D')d, to_char(hire_date, 'DAY')DAY\n",
    "                 FROM employees\n",
    "                 WHERE salary>10000\n",
    "                 ORDER BY to_char(hire_date-1,'D')\n",
    "                 \"\"\",xedb)\n",
    "print(df)"
   ]
  },
  {
   "cell_type": "markdown",
   "metadata": {},
   "source": [
    "### < 통화단위 >"
   ]
  },
  {
   "cell_type": "code",
   "execution_count": 25,
   "metadata": {},
   "outputs": [
    {
     "name": "stdout",
     "output_type": "stream",
     "text": [
      "    SALARY                   L            D\n",
      "0   2900.0          ￦02,900.00    $2,900.00\n",
      "1   2800.0          ￦02,800.00    $2,800.00\n",
      "2   2600.0          ￦02,600.00    $2,600.00\n",
      "3   2500.0          ￦02,500.00    $2,500.00\n",
      "4   2700.0          ￦02,700.00    $2,700.00\n",
      "5   2400.0          ￦02,400.00    $2,400.00\n",
      "6   2200.0          ￦02,200.00    $2,200.00\n",
      "7   2800.0          ￦02,800.00    $2,800.00\n",
      "8   2500.0          ￦02,500.00    $2,500.00\n",
      "9   2100.0          ￦02,100.00    $2,100.00\n",
      "10  2900.0          ￦02,900.00    $2,900.00\n",
      "11  2400.0          ￦02,400.00    $2,400.00\n",
      "12  2200.0          ￦02,200.00    $2,200.00\n",
      "13  2700.0          ￦02,700.00    $2,700.00\n",
      "14  2500.0          ￦02,500.00    $2,500.00\n",
      "15  2600.0          ￦02,600.00    $2,600.00\n",
      "16  2500.0          ￦02,500.00    $2,500.00\n",
      "17  2500.0          ￦02,500.00    $2,500.00\n",
      "18  2800.0          ￦02,800.00    $2,800.00\n",
      "19  2900.0          ￦02,900.00    $2,900.00\n",
      "20  2500.0          ￦02,500.00    $2,500.00\n",
      "21  2800.0          ￦02,800.00    $2,800.00\n",
      "22  2600.0          ￦02,600.00    $2,600.00\n",
      "23  2600.0          ￦02,600.00    $2,600.00\n"
     ]
    }
   ],
   "source": [
    "df = pd.read_sql(\"\"\"\n",
    "                 SELECT salary, to_char(salary, 'L00,000.00')L, to_char(salary,'$99,999.00')D\n",
    "                 FROM employees\n",
    "                 WHERE salary<3000\n",
    "                 \"\"\",xedb)\n",
    "print(df)\n",
    "\n",
    "#0은 앞의 빈자리를 0으로 채움 / 9는 일반적 표기방식 (없으면 표기하지 않는다)"
   ]
  },
  {
   "cell_type": "markdown",
   "metadata": {},
   "source": [
    "### < TIMESTAMP >\n",
    "* timestamp                   날짜타입(초이하 9자리) 6자리~최대9자리\n",
    "* timestamp with time zone    client(한국, +9:00) 와 server(싱가폴, +8:00)에서 client 시간(10시)을 받고 server에 (10시, +9:00) 표기\n",
    "* timestamp with local time zone  (10시, +9:00)을 표기하지않고, 현지 시간 계산해서 9시\n",
    "* interval year(3) to month   기간명시 날짜타입 (자리수3, 기본값자리수:2)\n",
    "* interval day(3) to second   기간명시 날짜타입\n"
   ]
  },
  {
   "cell_type": "code",
   "execution_count": 26,
   "metadata": {},
   "outputs": [
    {
     "name": "stdout",
     "output_type": "stream",
     "text": [
      "              SYSDATE            SYSTIMESTAMP        CURRENT_DATE  \\\n",
      "0 2017-11-13 11:47:40 2017-11-13 11:47:40.029 2017-11-13 11:47:40   \n",
      "\n",
      "    CURRENT_TIMESTAMP      LOCALTIMESTAMP  \n",
      "0 2017-11-13 11:47:40 2017-11-13 11:47:40  \n"
     ]
    }
   ],
   "source": [
    "df = pd.read_sql(\"\"\"\n",
    "                 SELECT SYSDATE,\n",
    "                        SYSTIMESTAMP,\n",
    "                        CURRENT_DATE,\n",
    "                        CURRENT_TIMESTAMP,\n",
    "                        LOCALTIMESTAMP\n",
    "                FROM dual\n",
    "                \"\"\",xedb)\n",
    "print(df)"
   ]
  },
  {
   "cell_type": "code",
   "execution_count": 29,
   "metadata": {
    "scrolled": true
   },
   "outputs": [
    {
     "name": "stdout",
     "output_type": "stream",
     "text": [
      "           LOCALTIMESTAMP  HR  MIN     SEC\n",
      "0 2017-11-13 11:50:19.377  11   50  19.377\n"
     ]
    }
   ],
   "source": [
    "df = pd.read_sql(\"\"\"\n",
    "                 SELECT LOCALTIMESTAMP,\n",
    "                        EXTRACT(HOUR FROM LOCALTIMESTAMP) hr,\n",
    "                        EXTRACT(MINUTE FROM LOCALTIMESTAMP) min,\n",
    "                        EXTRACT(SECOND FROM LOCALTIMESTAMP) sec\n",
    "                FROM dual\n",
    "                \"\"\",xedb)\n",
    "print(df)"
   ]
  },
  {
   "cell_type": "code",
   "execution_count": 30,
   "metadata": {},
   "outputs": [
    {
     "name": "stdout",
     "output_type": "stream",
     "text": [
      "             SYSTIMESTAMP       CURRENT_TIMESTAMP  SYS_Z_HR  SYS_Z_MIN  \\\n",
      "0 2017-11-13 11:50:47.152 2017-11-13 11:50:47.152         9          0   \n",
      "\n",
      "  CRR_Z_RGN CRR_Z_ABBR  \n",
      "0   UNKNOWN        UNK  \n"
     ]
    }
   ],
   "source": [
    "df = pd.read_sql(\"\"\"\n",
    "                 SELECT SYSTIMESTAMP, \n",
    "                        CURRENT_TIMESTAMP,\n",
    "                        EXTRACT(TIMEZONE_HOUR FROM SYSTIMESTAMP)sys_z_hr,\n",
    "                        EXTRACT(TIMEZONE_MINUTE FROM SYSTIMESTAMP)sys_z_min,\n",
    "                        EXTRACT(TIMEZONE_REGION FROM CURRENT_TIMESTAMP)crr_z_rgn,\n",
    "                        EXTRACT(TIMEZONE_ABBR FROM CURRENT_TIMESTAMP) crr_z_abbr\n",
    "                FROM dual\n",
    "                \"\"\",xedb)\n",
    "print(df)"
   ]
  },
  {
   "cell_type": "markdown",
   "metadata": {},
   "source": [
    "### < TO_TIMESTAMP, TO_YMINTERVAL, TO_DSINTERVAL >"
   ]
  },
  {
   "cell_type": "code",
   "execution_count": 31,
   "metadata": {},
   "outputs": [
    {
     "name": "stdout",
     "output_type": "stream",
     "text": [
      "              SYSDATE   TO_CHAR_DSINTERVAL\n",
      "0 2017-11-13 11:51:02  2018-01-02 21:51:02\n"
     ]
    }
   ],
   "source": [
    "df = pd.read_sql(\"\"\"\n",
    "                 SELECT SYSDATE,\n",
    "                         to_char(SYSDATE + to_dsinterval('50 10:00:00'),'yyyy-mm-dd hh24:mi:ss') to_char_dsinterval\n",
    "                FROM dual\n",
    "                \"\"\",xedb)\n",
    "print(df)"
   ]
  },
  {
   "cell_type": "code",
   "execution_count": 32,
   "metadata": {},
   "outputs": [
    {
     "name": "stdout",
     "output_type": "stream",
     "text": [
      "    HIRE_DATE HIRE_DATE_YMININTERVAL\n",
      "0  2003-06-17             2005-06-17\n",
      "1  2005-09-21             2007-09-21\n",
      "2  2001-01-13             2003-01-13\n",
      "3  2002-08-17             2004-08-17\n",
      "4  2002-12-07             2004-12-07\n",
      "5  2004-10-01             2006-10-01\n",
      "6  2005-01-05             2007-01-05\n",
      "7  2005-03-10             2007-03-10\n",
      "8  2007-10-15             2009-10-15\n",
      "9  2008-01-29             2010-01-29\n",
      "10 2005-11-11             2007-11-11\n",
      "11 2005-03-11             2007-03-11\n",
      "12 2004-05-11             2006-05-11\n",
      "13 2004-02-17             2006-02-17\n",
      "14 2002-06-07             2004-06-07\n"
     ]
    }
   ],
   "source": [
    "df = pd.read_sql(\"\"\"\n",
    "                 SELECT hire_date, hire_date + to_yminterval('02-00') AS hire_date_ymininterval\n",
    "                 FROM employees\n",
    "                 WHERE salary>10000\n",
    "                 \"\"\",xedb)\n",
    "print(df)"
   ]
  },
  {
   "cell_type": "code",
   "execution_count": 33,
   "metadata": {},
   "outputs": [
    {
     "name": "stdout",
     "output_type": "stream",
     "text": [
      "    LAST_NAME  HIRE_DATE  TO_CHAR_HIRE_DATE DSINTERVAL_HIRE_DATE\n",
      "0        King 2003-06-17  06-17-03:12:00:00    09-25-03:10:00:00\n",
      "1     Kochhar 2005-09-21  09-21-05:12:00:00    12-30-05:10:00:00\n",
      "2     De Haan 2001-01-13  01-13-01:12:00:00    04-23-01:10:00:00\n",
      "3   Greenberg 2002-08-17  08-17-02:12:00:00    11-25-02:10:00:00\n",
      "4    Raphaely 2002-12-07  12-07-02:12:00:00    03-17-03:10:00:00\n",
      "5     Russell 2004-10-01  10-01-04:12:00:00    01-09-05:10:00:00\n",
      "6    Partners 2005-01-05  01-05-05:12:00:00    04-15-05:10:00:00\n",
      "7   Errazuriz 2005-03-10  03-10-05:12:00:00    06-18-05:10:00:00\n",
      "8   Cambrault 2007-10-15  10-15-07:12:00:00    01-23-08:10:00:00\n",
      "9     Zlotkey 2008-01-29  01-29-08:12:00:00    05-08-08:10:00:00\n",
      "10    Vishney 2005-11-11  11-11-05:12:00:00    02-19-06:10:00:00\n",
      "11       Ozer 2005-03-11  03-11-05:12:00:00    06-19-05:10:00:00\n",
      "12       Abel 2004-05-11  05-11-04:12:00:00    08-19-04:10:00:00\n",
      "13  Hartstein 2004-02-17  02-17-04:12:00:00    05-27-04:10:00:00\n",
      "14    Higgins 2002-06-07  06-07-02:12:00:00    09-15-02:10:00:00\n"
     ]
    }
   ],
   "source": [
    "df = pd.read_sql(\"\"\"\n",
    "                 SELECT last_name, hire_date,\n",
    "                        to_char(hire_date, 'mm-dd-yy:hh:mi:ss') to_char_hire_date,\n",
    "                        to_char(hire_date + to_dsinterval('100 10:00:00.123456789'),'mm-dd-yy:hh:mi:ss') dsinterval_hire_date\n",
    "                FROM employees\n",
    "                WHERE salary>10000\n",
    "                \"\"\",xedb)\n",
    "print(df)"
   ]
  },
  {
   "cell_type": "markdown",
   "metadata": {},
   "source": [
    "### 2-5 NULL 관련 함수\n",
    "###  NVL(a,b) \n",
    "* a가 null이 아니면 a출력/ null이면, b값\n",
    "* 두 개 인수 형일치 필요\n",
    "\n",
    "###  NVL2(a,b,c)\n",
    "* a가 null이 아니면 b / null이면 c\n",
    "\n",
    "### COALESCE (a,b,c,,,)\n",
    "* a가 null이 아니면 a출력 / null이면 b 체크\n",
    "* b가 null이 아니면 b출력\n",
    "* 인수개수 제한 x  \n",
    "\n",
    "### NULLIF(a,b) \n",
    "* NULL을 만드는 함수\n",
    "* a,b같으면 null / 다르면 a"
   ]
  },
  {
   "cell_type": "code",
   "execution_count": 34,
   "metadata": {},
   "outputs": [
    {
     "name": "stdout",
     "output_type": "stream",
     "text": [
      "    COMMISSION_PCT   SALARY  NVL(COMMISSION_PCT,0)  NVL_SAL\n",
      "0              NaN  24000.0                   0.00   288000\n",
      "1              NaN  17000.0                   0.00   204000\n",
      "2              NaN  17000.0                   0.00   204000\n",
      "3              NaN  12008.0                   0.00   144096\n",
      "4              NaN  11000.0                   0.00   132000\n",
      "5             0.40  14000.0                   0.40   235200\n",
      "6             0.30  13500.0                   0.30   210600\n",
      "7             0.30  12000.0                   0.30   187200\n",
      "8             0.30  11000.0                   0.30   171600\n",
      "9             0.20  10500.0                   0.20   151200\n",
      "10            0.25  10500.0                   0.25   157500\n",
      "11            0.25  11500.0                   0.25   172500\n",
      "12            0.30  11000.0                   0.30   171600\n",
      "13             NaN  13000.0                   0.00   156000\n",
      "14             NaN  12008.0                   0.00   144096\n"
     ]
    }
   ],
   "source": [
    "df = pd.read_sql(\"\"\"\n",
    "                SELECT commission_pct,salary,\n",
    "                        nvl(commission_pct, 0),\n",
    "                        (salary*12)+(salary*12*nvl(commission_pct, 0)) nvl_sal\n",
    "                FROM employees\n",
    "                WHERE salary>10000\n",
    "                \"\"\",xedb)\n",
    "print(df)"
   ]
  },
  {
   "cell_type": "code",
   "execution_count": 35,
   "metadata": {},
   "outputs": [
    {
     "name": "stdout",
     "output_type": "stream",
     "text": [
      "    COMMISSION_PCT  NVL2_SAL  COAL_SAL  NULL_IF\n",
      "0              NaN    288000     26000      6.0\n",
      "1              NaN    204000     19000      5.0\n",
      "2              NaN    204000     19000      3.0\n",
      "3              NaN    144096     14008      5.0\n",
      "4              NaN    132000     13000      3.0\n",
      "5             0.40    235200     19600      4.0\n",
      "6             0.30    210600     17550      5.0\n",
      "7             0.30    187200     15600      7.0\n",
      "8             0.30    171600     14300      6.0\n",
      "9             0.20    151200     12600      5.0\n",
      "10            0.25    157500     13125      5.0\n",
      "11            0.25    172500     14375      NaN\n",
      "12            0.30    171600     14300      5.0\n",
      "13             NaN    156000     15000      7.0\n",
      "14             NaN    144096     14008      NaN\n"
     ]
    }
   ],
   "source": [
    "df = pd.read_sql(\"\"\"\n",
    "                 SELECT commission_pct,\n",
    "                        nvl2(commission_pct, (salary*12)+(salary*12*commission_pct), salary*12) nvl2_sal,\n",
    "                        COALESCE((salary+(commission_pct*salary)), salary+2000, salary) coal_sal,\n",
    "                        nullif(LENGTH(first_name), LENGTH(last_name)) null_if\n",
    "                FROM employees\n",
    "                WHERE salary>10000\n",
    "                \"\"\",xedb)\n",
    "print(df)"
   ]
  },
  {
   "cell_type": "markdown",
   "metadata": {},
   "source": [
    "### 2-6 조건부 함수와 표현식\n",
    "\n",
    "### < DECODE >\n",
    "\n",
    "* job id = IT PROG 이면 1.10xsalary 반환\n",
    "* job id = 'ST CLERK' 이면, 1.15xsalary 반환\n",
    "* job id = 'SA REP' 이면, 1.20xsalary 반환 \n",
    "* 조건에 없으면 salary 반환\n"
   ]
  },
  {
   "cell_type": "code",
   "execution_count": 36,
   "metadata": {},
   "outputs": [
    {
     "name": "stdout",
     "output_type": "stream",
     "text": [
      "    LAST_NAME   JOB_ID   SALARY  RIVISED_SAL\n",
      "0        King  AD_PRES  24000.0        24000\n",
      "1     Kochhar    AD_VP  17000.0        17000\n",
      "2     De Haan    AD_VP  17000.0        17000\n",
      "3   Greenberg   FI_MGR  12008.0        12008\n",
      "4    Raphaely   PU_MAN  11000.0        11000\n",
      "5     Russell   SA_MAN  14000.0        14000\n",
      "6    Partners   SA_MAN  13500.0        13500\n",
      "7   Errazuriz   SA_MAN  12000.0        12000\n",
      "8   Cambrault   SA_MAN  11000.0        11000\n",
      "9     Zlotkey   SA_MAN  10500.0        10500\n",
      "10    Vishney   SA_REP  10500.0        12600\n",
      "11       Ozer   SA_REP  11500.0        13800\n",
      "12       Abel   SA_REP  11000.0        13200\n",
      "13  Hartstein   MK_MAN  13000.0        13000\n",
      "14    Higgins   AC_MGR  12008.0        12008\n"
     ]
    }
   ],
   "source": [
    "df = pd.read_sql(\"\"\"\n",
    "        SELECT last_name, job_id, salary,\n",
    "                DECODE (job_id, 'IT_PROG', 1.10*salary,\n",
    "                                'ST_CLERK', 1.15*salary,\n",
    "                                'SA_REP', 1.20*salary,\n",
    "                        salary) rivised_sal\n",
    "        FROM employees\n",
    "        WHERE salary>10000\n",
    "        \"\"\",xedb)\n",
    "print(df)"
   ]
  },
  {
   "cell_type": "markdown",
   "metadata": {},
   "source": [
    "### < CASE.. WHEN >"
   ]
  },
  {
   "cell_type": "code",
   "execution_count": 37,
   "metadata": {},
   "outputs": [
    {
     "name": "stdout",
     "output_type": "stream",
     "text": [
      "    LAST_NAME   JOB_ID   SALARY  REVISED_SAL\n",
      "0        King  AD_PRES  24000.0        24000\n",
      "1     Kochhar    AD_VP  17000.0        17000\n",
      "2     De Haan    AD_VP  17000.0        17000\n",
      "3   Greenberg   FI_MGR  12008.0        12008\n",
      "4    Raphaely   PU_MAN  11000.0        11000\n",
      "5     Russell   SA_MAN  14000.0        14000\n",
      "6    Partners   SA_MAN  13500.0        13500\n",
      "7   Errazuriz   SA_MAN  12000.0        12000\n",
      "8   Cambrault   SA_MAN  11000.0        11000\n",
      "9     Zlotkey   SA_MAN  10500.0        10500\n",
      "10    Vishney   SA_REP  10500.0        12600\n",
      "11       Ozer   SA_REP  11500.0        13800\n",
      "12       Abel   SA_REP  11000.0        13200\n",
      "13  Hartstein   MK_MAN  13000.0        13000\n",
      "14    Higgins   AC_MGR  12008.0        12008\n"
     ]
    }
   ],
   "source": [
    "df = pd.read_sql(\"\"\"\n",
    "        SELECT last_name, job_id, salary,\n",
    "                CASE job_id\\\n",
    "                    WHEN 'IT_PROG' THEN 1.10*salary\n",
    "                    WHEN 'ST_CLERK' THEN 1.15*salary\n",
    "                    WHEN 'SA_REP' THEN 1.20*salary\n",
    "                    ELSE salary\n",
    "                END revised_sal\n",
    "        FROM employees\n",
    "        WHERE salary>10000\n",
    "        \"\"\",xedb)\n",
    "print(df)"
   ]
  },
  {
   "cell_type": "code",
   "execution_count": 43,
   "metadata": {},
   "outputs": [
    {
     "name": "stdout",
     "output_type": "stream",
     "text": [
      "     LAST_NAME   SALARY QUALIFIED_SAL\n",
      "0      Russell  14000.0          Good\n",
      "1     Partners  13500.0          Good\n",
      "2    Errazuriz  12000.0          Good\n",
      "3    Cambrault  11000.0          Good\n",
      "4      Zlotkey  10500.0          Good\n",
      "5       Tucker  10000.0          Good\n",
      "6    Bernstein   9500.0        Medium\n",
      "7         Hall   9000.0        Medium\n",
      "8        Olsen   8000.0        Medium\n",
      "9    Cambrault   7500.0        Medium\n",
      "10     Tuvault   7000.0        Medium\n",
      "11        King  10000.0          Good\n",
      "12       Sully   9500.0        Medium\n",
      "13      McEwen   9000.0        Medium\n",
      "14       Smith   8000.0        Medium\n",
      "15       Doran   7500.0        Medium\n",
      "16      Sewall   7000.0        Medium\n",
      "17     Vishney  10500.0          Good\n",
      "18      Greene   9500.0        Medium\n",
      "19     Marvins   7200.0        Medium\n",
      "20         Lee   6800.0        Medium\n",
      "21        Ande   6400.0        Medium\n",
      "22       Banda   6200.0        Medium\n",
      "23        Ozer  11500.0          Good\n",
      "24       Bloom  10000.0          Good\n",
      "25         Fox   9600.0        Medium\n",
      "26       Smith   7400.0        Medium\n",
      "27       Bates   7300.0        Medium\n",
      "28       Kumar   6100.0        Medium\n",
      "29        Abel  11000.0          Good\n",
      "30      Hutton   8800.0        Medium\n",
      "31      Taylor   8600.0        Medium\n",
      "32  Livingston   8400.0        Medium\n",
      "33     Johnson   6200.0        Medium\n"
     ]
    }
   ],
   "source": [
    "df = pd.read_sql_query(\n",
    "        \"SELECT last_name, salary,\\\n",
    "                CASE WHEN salary<5000 THEN 'Low'\\\n",
    "                    WHEN salary<10000 THEN 'Medium'\\\n",
    "                    WHEN salary<20000 THEN 'Good'\\\n",
    "                    ELSE 'Excellent'\\\n",
    "                END qualified_sal\\\n",
    "        FROM employees\\\n",
    "        WHERE department_id=80\",xedb)\n",
    "print(df)"
   ]
  },
  {
   "cell_type": "markdown",
   "metadata": {},
   "source": [
    "***\n",
    "## [ 더 연습문제 ]\n",
    "***"
   ]
  },
  {
   "cell_type": "markdown",
   "metadata": {},
   "source": [
    "#### (1) employees 테이블에서 부서코드 50번 사원들 중에 last_name의 두번째 철자가 'a'인 사원을 조회하세요."
   ]
  },
  {
   "cell_type": "code",
   "execution_count": 38,
   "metadata": {},
   "outputs": [
    {
     "name": "stdout",
     "output_type": "stream",
     "text": [
      "    EMPLOYEE_ID FIRST_NAME LAST_NAME     EMAIL  PHONE_NUMBER  HIRE_DATE  \\\n",
      "0           122      Payam  Kaufling  PKAUFLIN  650.123.3234 2003-05-01   \n",
      "1           125      Julia     Nayer    JNAYER  650.124.1214 2005-07-16   \n",
      "2           127      James    Landry   JLANDRY  650.124.1334 2007-01-14   \n",
      "3           128     Steven    Markle   SMARKLE  650.124.1434 2008-03-08   \n",
      "4           131      James    Marlow   JAMRLOW  650.124.7234 2005-02-16   \n",
      "5           133      Jason    Mallin   JMALLIN  650.127.1934 2004-06-14   \n",
      "6           137     Renske    Ladwig   RLADWIG  650.121.1234 2003-07-14   \n",
      "7           140     Joshua     Patel    JPATEL  650.121.1834 2006-04-06   \n",
      "8           141     Trenna      Rajs     TRAJS  650.121.8009 2003-10-17   \n",
      "9           142     Curtis    Davies   CDAVIES  650.121.2994 2005-01-29   \n",
      "10          143    Randall     Matos    RMATOS  650.121.2874 2006-03-15   \n",
      "11          144      Peter    Vargas   PVARGAS  650.121.2004 2006-07-09   \n",
      "12          180    Winston    Taylor   WTAYLOR  650.507.9876 2006-01-24   \n",
      "13          184    Nandita  Sarchand  NSARCHAN  650.509.1876 2004-01-27   \n",
      "14          187    Anthony    Cabrio   ACABRIO  650.509.4876 2007-02-07   \n",
      "15          190    Timothy     Gates    TGATES  650.505.3876 2006-07-11   \n",
      "16          196      Alana     Walsh    AWALSH  650.507.9811 2006-04-24   \n",
      "\n",
      "      JOB_ID  SALARY COMMISSION_PCT  MANAGER_ID  DEPARTMENT_ID  \n",
      "0     ST_MAN  7900.0           None         100             50  \n",
      "1   ST_CLERK  3200.0           None         120             50  \n",
      "2   ST_CLERK  2400.0           None         120             50  \n",
      "3   ST_CLERK  2200.0           None         120             50  \n",
      "4   ST_CLERK  2500.0           None         121             50  \n",
      "5   ST_CLERK  3300.0           None         122             50  \n",
      "6   ST_CLERK  3600.0           None         123             50  \n",
      "7   ST_CLERK  2500.0           None         123             50  \n",
      "8   ST_CLERK  3500.0           None         124             50  \n",
      "9   ST_CLERK  3100.0           None         124             50  \n",
      "10  ST_CLERK  2600.0           None         124             50  \n",
      "11  ST_CLERK  2500.0           None         124             50  \n",
      "12  SH_CLERK  3200.0           None         120             50  \n",
      "13  SH_CLERK  4200.0           None         121             50  \n",
      "14  SH_CLERK  3000.0           None         121             50  \n",
      "15  SH_CLERK  2900.0           None         122             50  \n",
      "16  SH_CLERK  3100.0           None         124             50  \n"
     ]
    }
   ],
   "source": [
    "df = pd.read_sql(\"\"\"\n",
    "        SELECT *\n",
    "        FROM employees\n",
    "        WHERE department_id=50\n",
    "        AND last_name LIKE '_a%'\n",
    "        \"\"\",xedb)\n",
    "print(df)"
   ]
  },
  {
   "cell_type": "code",
   "execution_count": 39,
   "metadata": {},
   "outputs": [
    {
     "name": "stdout",
     "output_type": "stream",
     "text": [
      "    EMPLOYEE_ID FIRST_NAME LAST_NAME     EMAIL  PHONE_NUMBER  HIRE_DATE  \\\n",
      "0           122      Payam  Kaufling  PKAUFLIN  650.123.3234 2003-05-01   \n",
      "1           125      Julia     Nayer    JNAYER  650.124.1214 2005-07-16   \n",
      "2           127      James    Landry   JLANDRY  650.124.1334 2007-01-14   \n",
      "3           128     Steven    Markle   SMARKLE  650.124.1434 2008-03-08   \n",
      "4           131      James    Marlow   JAMRLOW  650.124.7234 2005-02-16   \n",
      "5           133      Jason    Mallin   JMALLIN  650.127.1934 2004-06-14   \n",
      "6           137     Renske    Ladwig   RLADWIG  650.121.1234 2003-07-14   \n",
      "7           140     Joshua     Patel    JPATEL  650.121.1834 2006-04-06   \n",
      "8           141     Trenna      Rajs     TRAJS  650.121.8009 2003-10-17   \n",
      "9           142     Curtis    Davies   CDAVIES  650.121.2994 2005-01-29   \n",
      "10          143    Randall     Matos    RMATOS  650.121.2874 2006-03-15   \n",
      "11          144      Peter    Vargas   PVARGAS  650.121.2004 2006-07-09   \n",
      "12          180    Winston    Taylor   WTAYLOR  650.507.9876 2006-01-24   \n",
      "13          184    Nandita  Sarchand  NSARCHAN  650.509.1876 2004-01-27   \n",
      "14          187    Anthony    Cabrio   ACABRIO  650.509.4876 2007-02-07   \n",
      "15          190    Timothy     Gates    TGATES  650.505.3876 2006-07-11   \n",
      "16          196      Alana     Walsh    AWALSH  650.507.9811 2006-04-24   \n",
      "\n",
      "      JOB_ID  SALARY COMMISSION_PCT  MANAGER_ID  DEPARTMENT_ID  \n",
      "0     ST_MAN  7900.0           None         100             50  \n",
      "1   ST_CLERK  3200.0           None         120             50  \n",
      "2   ST_CLERK  2400.0           None         120             50  \n",
      "3   ST_CLERK  2200.0           None         120             50  \n",
      "4   ST_CLERK  2500.0           None         121             50  \n",
      "5   ST_CLERK  3300.0           None         122             50  \n",
      "6   ST_CLERK  3600.0           None         123             50  \n",
      "7   ST_CLERK  2500.0           None         123             50  \n",
      "8   ST_CLERK  3500.0           None         124             50  \n",
      "9   ST_CLERK  3100.0           None         124             50  \n",
      "10  ST_CLERK  2600.0           None         124             50  \n",
      "11  ST_CLERK  2500.0           None         124             50  \n",
      "12  SH_CLERK  3200.0           None         120             50  \n",
      "13  SH_CLERK  4200.0           None         121             50  \n",
      "14  SH_CLERK  3000.0           None         121             50  \n",
      "15  SH_CLERK  2900.0           None         122             50  \n",
      "16  SH_CLERK  3100.0           None         124             50  \n"
     ]
    }
   ],
   "source": [
    "df = pd.read_sql(\"\"\"\n",
    "        SELECT *\n",
    "        FROM employees\n",
    "        WHERE department_id=50\n",
    "        AND substr(last_name,2,1)='a'\n",
    "        \"\"\",xedb)\n",
    "print(df)\n"
   ]
  },
  {
   "cell_type": "markdown",
   "metadata": {},
   "source": [
    "#### (2) employees 테이블에서 job_id가 'ST_CLERK'이면서2005년도 이전에 입사한 사원들의 정보를 조회하세요."
   ]
  },
  {
   "cell_type": "code",
   "execution_count": 40,
   "metadata": {},
   "outputs": [
    {
     "name": "stdout",
     "output_type": "stream",
     "text": [
      "   EMPLOYEE_ID FIRST_NAME LAST_NAME    EMAIL  PHONE_NUMBER  HIRE_DATE  \\\n",
      "0          133      Jason    Mallin  JMALLIN  650.127.1934 2004-06-14   \n",
      "1          137     Renske    Ladwig  RLADWIG  650.121.1234 2003-07-14   \n",
      "2          141     Trenna      Rajs    TRAJS  650.121.8009 2003-10-17   \n",
      "\n",
      "     JOB_ID  SALARY COMMISSION_PCT  MANAGER_ID  DEPARTMENT_ID  \n",
      "0  ST_CLERK  3300.0           None         122             50  \n",
      "1  ST_CLERK  3600.0           None         123             50  \n",
      "2  ST_CLERK  3500.0           None         124             50  \n"
     ]
    }
   ],
   "source": [
    "df = pd.read_sql(\"\"\"\n",
    "        SELECT *\n",
    "        FROM employees\n",
    "        WHERE job_id='ST_CLERK'\n",
    "        AND hire_date < to_date('2005-01-01','YYYY-MM-DD')\n",
    "        \"\"\",xedb)\n",
    "print(df)"
   ]
  },
  {
   "cell_type": "markdown",
   "metadata": {},
   "source": [
    "#### (3) 급여가 10000 이상인 사원의 last_name, hire_date 및 근무 6개월 후 첫번째 월요일에 해당하는 급여 협상날짜를 표시합니다.  "
   ]
  },
  {
   "cell_type": "code",
   "execution_count": 41,
   "metadata": {},
   "outputs": [
    {
     "name": "stdout",
     "output_type": "stream",
     "text": [
      "    LAST_NAME  HIRE_DATE                       REVIEW\n",
      "0        King 2003-06-17   22, Twenty-Second 12, 2003\n",
      "1     Kochhar 2005-09-21  27, Twenty-Seventh 03, 2006\n",
      "2     De Haan 2001-01-13       16, Sixteenth 07, 2001\n",
      "3   Greenberg 2002-08-17   24, Twenty-Fourth 02, 2003\n",
      "4    Raphaely 2002-12-07           09, Ninth 06, 2003\n",
      "5     Russell 2004-10-01          04, Fourth 04, 2005\n",
      "6    Partners 2005-01-05        11, Eleventh 07, 2005\n",
      "7   Errazuriz 2005-03-10         12, Twelfth 09, 2005\n",
      "8   Cambrault 2007-10-15    21, Twenty-First 04, 2008\n",
      "9     Zlotkey 2008-01-29          04, Fourth 08, 2008\n",
      "10    Vishney 2005-11-11       15, Fifteenth 05, 2006\n",
      "11       Ozer 2005-03-11         12, Twelfth 09, 2005\n",
      "12       Abel 2004-05-11       15, Fifteenth 11, 2004\n",
      "13  Hartstein 2004-02-17    23, Twenty-Third 08, 2004\n",
      "14    Higgins 2002-06-07           09, Ninth 12, 2002\n"
     ]
    }
   ],
   "source": [
    "df = pd.read_sql(\"\"\"\n",
    "        SELECT last_name, hire_date,\n",
    "                TO_CHAR(NEXT_DAY(ADD_MONTHS(hire_date, 6),'월요일'),'DD, Ddspth MM, YYYY') REVIEW\n",
    "        FROM employees\n",
    "        WHERE salary>10000\n",
    "        \"\"\",xedb)\n",
    "print(df)"
   ]
  },
  {
   "cell_type": "markdown",
   "metadata": {},
   "source": [
    "#### (4) 사원테이블에서 last_name, salary, commission_pct을 조회하고 최종연봉을 계산한 컬럼(ann_sal)을 추가하세요 \n",
    "(힌트 : commission_pct이 존재하면 (salary*12) + (salary*12*commission_pct)이 수행되고, null이면 salary * 12)"
   ]
  },
  {
   "cell_type": "markdown",
   "metadata": {},
   "source": [
    "#### NVL"
   ]
  },
  {
   "cell_type": "code",
   "execution_count": 42,
   "metadata": {},
   "outputs": [
    {
     "name": "stdout",
     "output_type": "stream",
     "text": [
      "    LAST_NAME   SALARY  COMMISSION_PCT  ANN_SAL\n",
      "0        King  24000.0             NaN   288000\n",
      "1     Kochhar  17000.0             NaN   204000\n",
      "2     De Haan  17000.0             NaN   204000\n",
      "3   Greenberg  12008.0             NaN   144096\n",
      "4    Raphaely  11000.0             NaN   132000\n",
      "5     Russell  14000.0            0.40   235200\n",
      "6    Partners  13500.0            0.30   210600\n",
      "7   Errazuriz  12000.0            0.30   187200\n",
      "8   Cambrault  11000.0            0.30   171600\n",
      "9     Zlotkey  10500.0            0.20   151200\n",
      "10    Vishney  10500.0            0.25   157500\n",
      "11       Ozer  11500.0            0.25   172500\n",
      "12       Abel  11000.0            0.30   171600\n",
      "13  Hartstein  13000.0             NaN   156000\n",
      "14    Higgins  12008.0             NaN   144096\n"
     ]
    }
   ],
   "source": [
    "df = pd.read_sql(\"\"\"\n",
    "        SELECT last_name, salary, commission_pct,\n",
    "                (salary*12)+(salary*12 * NVL(commission_pct,0)) ann_sal\n",
    "        FROM employees\n",
    "        WHERE salary>10000\n",
    "        \"\"\",xedb)\n",
    "print(df)"
   ]
  },
  {
   "cell_type": "markdown",
   "metadata": {},
   "source": [
    "#### NVL2"
   ]
  },
  {
   "cell_type": "code",
   "execution_count": 43,
   "metadata": {},
   "outputs": [
    {
     "name": "stdout",
     "output_type": "stream",
     "text": [
      "    LAST_NAME   SALARY  COMMISSION_PCT  ANN_SAL\n",
      "0        King  24000.0             NaN   288000\n",
      "1     Kochhar  17000.0             NaN   204000\n",
      "2     De Haan  17000.0             NaN   204000\n",
      "3   Greenberg  12008.0             NaN   144096\n",
      "4    Raphaely  11000.0             NaN   132000\n",
      "5     Russell  14000.0            0.40   235200\n",
      "6    Partners  13500.0            0.30   210600\n",
      "7   Errazuriz  12000.0            0.30   187200\n",
      "8   Cambrault  11000.0            0.30   171600\n",
      "9     Zlotkey  10500.0            0.20   151200\n",
      "10    Vishney  10500.0            0.25   157500\n",
      "11       Ozer  11500.0            0.25   172500\n",
      "12       Abel  11000.0            0.30   171600\n",
      "13  Hartstein  13000.0             NaN   156000\n",
      "14    Higgins  12008.0             NaN   144096\n"
     ]
    }
   ],
   "source": [
    "df = pd.read_sql(\"\"\"\n",
    "        SELECT last_name, salary, commission_pct,\n",
    "                NVL2(commission_pct,(salary*12) + (salary*12*commission_pct), salary*12) ann_sal\n",
    "        FROM employees\n",
    "        WHERE salary>10000\n",
    "        \"\"\",xedb)\n",
    "print(df)"
   ]
  },
  {
   "cell_type": "markdown",
   "metadata": {},
   "source": [
    "#### COALESCE"
   ]
  },
  {
   "cell_type": "code",
   "execution_count": 44,
   "metadata": {},
   "outputs": [
    {
     "name": "stdout",
     "output_type": "stream",
     "text": [
      "    LAST_NAME   SALARY  COMMISSION_PCT  ANN_SAL\n",
      "0        King  24000.0             NaN   288000\n",
      "1     Kochhar  17000.0             NaN   204000\n",
      "2     De Haan  17000.0             NaN   204000\n",
      "3   Greenberg  12008.0             NaN   144096\n",
      "4    Raphaely  11000.0             NaN   132000\n",
      "5     Russell  14000.0            0.40   235200\n",
      "6    Partners  13500.0            0.30   210600\n",
      "7   Errazuriz  12000.0            0.30   187200\n",
      "8   Cambrault  11000.0            0.30   171600\n",
      "9     Zlotkey  10500.0            0.20   151200\n",
      "10    Vishney  10500.0            0.25   157500\n",
      "11       Ozer  11500.0            0.25   172500\n",
      "12       Abel  11000.0            0.30   171600\n",
      "13  Hartstein  13000.0             NaN   156000\n",
      "14    Higgins  12008.0             NaN   144096\n"
     ]
    }
   ],
   "source": [
    "df = pd.read_sql(\"\"\"\n",
    "        SELECT last_name, salary, commission_pct,\n",
    "                COALESCE((salary*12) + (salary*12*commission_pct), salary*12)ann_sal\n",
    "        FROM employees\n",
    "        WHERE salary>10000\n",
    "        \"\"\",xedb)\n",
    "print(df)"
   ]
  },
  {
   "cell_type": "markdown",
   "metadata": {},
   "source": [
    "#### DECODE"
   ]
  },
  {
   "cell_type": "code",
   "execution_count": 45,
   "metadata": {},
   "outputs": [
    {
     "name": "stdout",
     "output_type": "stream",
     "text": [
      "    LAST_NAME   SALARY  COMMISSION_PCT  ANN_SAL\n",
      "0        King  24000.0             NaN   288000\n",
      "1     Kochhar  17000.0             NaN   204000\n",
      "2     De Haan  17000.0             NaN   204000\n",
      "3   Greenberg  12008.0             NaN   144096\n",
      "4    Raphaely  11000.0             NaN   132000\n",
      "5     Russell  14000.0            0.40   235200\n",
      "6    Partners  13500.0            0.30   210600\n",
      "7   Errazuriz  12000.0            0.30   187200\n",
      "8   Cambrault  11000.0            0.30   171600\n",
      "9     Zlotkey  10500.0            0.20   151200\n",
      "10    Vishney  10500.0            0.25   157500\n",
      "11       Ozer  11500.0            0.25   172500\n",
      "12       Abel  11000.0            0.30   171600\n",
      "13  Hartstein  13000.0             NaN   156000\n",
      "14    Higgins  12008.0             NaN   144096\n"
     ]
    }
   ],
   "source": [
    "df = pd.read_sql(\"\"\"\n",
    "        SELECT last_name, salary,commission_pct,\n",
    "                decode(commission_pct, null, salary*12, (salary*12) + (salary*12*commission_pct)) ann_sal\n",
    "        FROM employees\n",
    "        WHERE salary>10000\n",
    "        \"\"\",xedb)\n",
    "print(df)"
   ]
  },
  {
   "cell_type": "markdown",
   "metadata": {},
   "source": [
    "#### CASE"
   ]
  },
  {
   "cell_type": "code",
   "execution_count": 46,
   "metadata": {},
   "outputs": [
    {
     "name": "stdout",
     "output_type": "stream",
     "text": [
      "    LAST_NAME   SALARY  COMMISSION_PCT  ANN_SAL\n",
      "0        King  24000.0             NaN   288000\n",
      "1     Kochhar  17000.0             NaN   204000\n",
      "2     De Haan  17000.0             NaN   204000\n",
      "3   Greenberg  12008.0             NaN   144096\n",
      "4    Raphaely  11000.0             NaN   132000\n",
      "5     Russell  14000.0            0.40   235200\n",
      "6    Partners  13500.0            0.30   210600\n",
      "7   Errazuriz  12000.0            0.30   187200\n",
      "8   Cambrault  11000.0            0.30   171600\n",
      "9     Zlotkey  10500.0            0.20   151200\n",
      "10    Vishney  10500.0            0.25   157500\n",
      "11       Ozer  11500.0            0.25   172500\n",
      "12       Abel  11000.0            0.30   171600\n",
      "13  Hartstein  13000.0             NaN   156000\n",
      "14    Higgins  12008.0             NaN   144096\n"
     ]
    }
   ],
   "source": [
    "df = pd.read_sql(\"\"\"\n",
    "        SELECT last_name, salary, commission_pct,\n",
    "                CASE WHEN commission_pct IS NULL THEN salary*12\n",
    "                    ELSE (salary*12) + (salary*12*commission_pct)\n",
    "                END ann_sal\n",
    "        FROM employees\n",
    "        WHERE salary>10000\n",
    "        \"\"\",xedb)\n",
    "print(df)"
   ]
  },
  {
   "cell_type": "code",
   "execution_count": 47,
   "metadata": {
    "scrolled": true
   },
   "outputs": [
    {
     "name": "stdout",
     "output_type": "stream",
     "text": [
      "    LAST_NAME   SALARY  COMMISSION_PCT  ANN_SAL\n",
      "0        King  24000.0             NaN   288000\n",
      "1     Kochhar  17000.0             NaN   204000\n",
      "2     De Haan  17000.0             NaN   204000\n",
      "3   Greenberg  12008.0             NaN   144096\n",
      "4    Raphaely  11000.0             NaN   132000\n",
      "5     Russell  14000.0            0.40   235200\n",
      "6    Partners  13500.0            0.30   210600\n",
      "7   Errazuriz  12000.0            0.30   187200\n",
      "8   Cambrault  11000.0            0.30   171600\n",
      "9     Zlotkey  10500.0            0.20   151200\n",
      "10    Vishney  10500.0            0.25   157500\n",
      "11       Ozer  11500.0            0.25   172500\n",
      "12       Abel  11000.0            0.30   171600\n",
      "13  Hartstein  13000.0             NaN   156000\n",
      "14    Higgins  12008.0             NaN   144096\n"
     ]
    }
   ],
   "source": [
    "df = pd.read_sql(\"\"\"\n",
    "        SELECT last_name, salary, commission_pct,\n",
    "                CASE WHEN commission_pct IS NOT NULL THEN (salary*12) + (salary*12*commission_pct)\n",
    "                    ELSE salary * 12\n",
    "                END ann_sal\n",
    "        FROM employees\n",
    "        WHERE salary>10000\n",
    "        \"\"\",xedb)\n",
    "print(df)"
   ]
  },
  {
   "cell_type": "code",
   "execution_count": null,
   "metadata": {
    "collapsed": true
   },
   "outputs": [],
   "source": [
    "cur.close()\n",
    "xedb.close()"
   ]
  }
 ],
 "metadata": {
  "kernelspec": {
   "display_name": "Python 3",
   "language": "python",
   "name": "python3"
  },
  "language_info": {
   "codemirror_mode": {
    "name": "ipython",
    "version": 3
   },
   "file_extension": ".py",
   "mimetype": "text/x-python",
   "name": "python",
   "nbconvert_exporter": "python",
   "pygments_lexer": "ipython3",
   "version": "3.6.1"
  }
 },
 "nbformat": 4,
 "nbformat_minor": 2
}
